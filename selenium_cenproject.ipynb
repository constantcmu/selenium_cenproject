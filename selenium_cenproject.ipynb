{
 "cells": [
  {
   "cell_type": "markdown",
   "id": "9c047a84",
   "metadata": {},
   "source": [
    "# ติดตั้งไลบรารี"
   ]
  },
  {
   "cell_type": "code",
   "execution_count": null,
   "id": "d1280682",
   "metadata": {},
   "outputs": [
    {
     "name": "stdout",
     "output_type": "stream",
     "text": [
      "Requirement already satisfied: pip in c:\\users\\ball-pc\\appdata\\local\\programs\\python\\python312\\lib\\site-packages (25.1.1)\n"
     ]
    },
    {
     "name": "stderr",
     "output_type": "stream",
     "text": [
      "WARNING: Ignoring invalid distribution ~ip (C:\\Users\\ball-pc\\AppData\\Local\\Programs\\Python\\Python312\\Lib\\site-packages)\n",
      "WARNING: Ignoring invalid distribution ~lotly (C:\\Users\\ball-pc\\AppData\\Local\\Programs\\Python\\Python312\\Lib\\site-packages)\n",
      "WARNING: Ignoring invalid distribution ~ip (C:\\Users\\ball-pc\\AppData\\Local\\Programs\\Python\\Python312\\Lib\\site-packages)\n",
      "WARNING: Ignoring invalid distribution ~lotly (C:\\Users\\ball-pc\\AppData\\Local\\Programs\\Python\\Python312\\Lib\\site-packages)\n",
      "WARNING: Ignoring invalid distribution ~ip (C:\\Users\\ball-pc\\AppData\\Local\\Programs\\Python\\Python312\\Lib\\site-packages)\n",
      "WARNING: Ignoring invalid distribution ~lotly (C:\\Users\\ball-pc\\AppData\\Local\\Programs\\Python\\Python312\\Lib\\site-packages)\n"
     ]
    }
   ],
   "source": [
    "!pip install --upgrade pip\n",
    "!pip install openpyxl"
   ]
  },
  {
   "cell_type": "code",
   "execution_count": 26,
   "id": "41a8e4c8",
   "metadata": {},
   "outputs": [
    {
     "name": "stdout",
     "output_type": "stream",
     "text": [
      "Requirement already satisfied: selenium in c:\\users\\const\\appdata\\local\\programs\\python\\python312\\lib\\site-packages (4.34.2)\n",
      "Requirement already satisfied: webdriver_manager in c:\\users\\const\\appdata\\local\\programs\\python\\python312\\lib\\site-packages (4.0.2)\n",
      "Collecting openpyxl\n",
      "  Using cached openpyxl-3.1.5-py2.py3-none-any.whl.metadata (2.5 kB)\n",
      "Requirement already satisfied: urllib3~=2.5.0 in c:\\users\\const\\appdata\\local\\programs\\python\\python312\\lib\\site-packages (from urllib3[socks]~=2.5.0->selenium) (2.5.0)\n",
      "Requirement already satisfied: trio~=0.30.0 in c:\\users\\const\\appdata\\local\\programs\\python\\python312\\lib\\site-packages (from selenium) (0.30.0)\n",
      "Requirement already satisfied: trio-websocket~=0.12.2 in c:\\users\\const\\appdata\\local\\programs\\python\\python312\\lib\\site-packages (from selenium) (0.12.2)\n",
      "Requirement already satisfied: certifi>=2025.6.15 in c:\\users\\const\\appdata\\local\\programs\\python\\python312\\lib\\site-packages (from selenium) (2025.6.15)\n",
      "Requirement already satisfied: typing_extensions~=4.14.0 in c:\\users\\const\\appdata\\local\\programs\\python\\python312\\lib\\site-packages (from selenium) (4.14.1)\n",
      "Requirement already satisfied: websocket-client~=1.8.0 in c:\\users\\const\\appdata\\local\\programs\\python\\python312\\lib\\site-packages (from selenium) (1.8.0)\n",
      "Requirement already satisfied: requests in c:\\users\\const\\appdata\\local\\programs\\python\\python312\\lib\\site-packages (from webdriver_manager) (2.32.3)\n",
      "Requirement already satisfied: python-dotenv in c:\\users\\const\\appdata\\local\\programs\\python\\python312\\lib\\site-packages (from webdriver_manager) (1.1.1)\n",
      "Requirement already satisfied: packaging in c:\\users\\const\\appdata\\roaming\\python\\python312\\site-packages (from webdriver_manager) (23.2)\n",
      "Collecting et-xmlfile (from openpyxl)\n",
      "  Using cached et_xmlfile-2.0.0-py3-none-any.whl.metadata (2.7 kB)\n",
      "Requirement already satisfied: attrs>=23.2.0 in c:\\users\\const\\appdata\\local\\programs\\python\\python312\\lib\\site-packages (from trio~=0.30.0->selenium) (25.3.0)\n",
      "Requirement already satisfied: sortedcontainers in c:\\users\\const\\appdata\\local\\programs\\python\\python312\\lib\\site-packages (from trio~=0.30.0->selenium) (2.4.0)\n",
      "Requirement already satisfied: idna in c:\\users\\const\\appdata\\local\\programs\\python\\python312\\lib\\site-packages (from trio~=0.30.0->selenium) (3.10)\n",
      "Requirement already satisfied: outcome in c:\\users\\const\\appdata\\local\\programs\\python\\python312\\lib\\site-packages (from trio~=0.30.0->selenium) (1.3.0.post0)\n",
      "Requirement already satisfied: sniffio>=1.3.0 in c:\\users\\const\\appdata\\local\\programs\\python\\python312\\lib\\site-packages (from trio~=0.30.0->selenium) (1.3.1)\n",
      "Requirement already satisfied: cffi>=1.14 in c:\\users\\const\\appdata\\local\\programs\\python\\python312\\lib\\site-packages (from trio~=0.30.0->selenium) (1.17.1)\n",
      "Requirement already satisfied: wsproto>=0.14 in c:\\users\\const\\appdata\\local\\programs\\python\\python312\\lib\\site-packages (from trio-websocket~=0.12.2->selenium) (1.2.0)\n",
      "Requirement already satisfied: pysocks!=1.5.7,<2.0,>=1.5.6 in c:\\users\\const\\appdata\\local\\programs\\python\\python312\\lib\\site-packages (from urllib3[socks]~=2.5.0->selenium) (1.7.1)\n",
      "Requirement already satisfied: charset-normalizer<4,>=2 in c:\\users\\const\\appdata\\local\\programs\\python\\python312\\lib\\site-packages (from requests->webdriver_manager) (3.4.1)\n",
      "Requirement already satisfied: pycparser in c:\\users\\const\\appdata\\local\\programs\\python\\python312\\lib\\site-packages (from cffi>=1.14->trio~=0.30.0->selenium) (2.22)\n",
      "Requirement already satisfied: h11<1,>=0.9.0 in c:\\users\\const\\appdata\\local\\programs\\python\\python312\\lib\\site-packages (from wsproto>=0.14->trio-websocket~=0.12.2->selenium) (0.16.0)\n",
      "Using cached openpyxl-3.1.5-py2.py3-none-any.whl (250 kB)\n",
      "Using cached et_xmlfile-2.0.0-py3-none-any.whl (18 kB)\n",
      "Installing collected packages: et-xmlfile, openpyxl\n",
      "Successfully installed et-xmlfile-2.0.0 openpyxl-3.1.5\n",
      "ติดตั้งไลบรารีเสร็จสิ้น (หากติดตั้งไปแล้ว จะแสดงว่า Requirement already satisfied)\n"
     ]
    },
    {
     "name": "stderr",
     "output_type": "stream",
     "text": [
      "\n",
      "[notice] A new release of pip is available: 25.0.1 -> 25.1.1\n",
      "[notice] To update, run: python.exe -m pip install --upgrade pip\n"
     ]
    }
   ],
   "source": [
    "# Cell 1: ติดตั้งไลบรารี\n",
    "import sys\n",
    "!{sys.executable} -m pip install selenium webdriver_manager openpyxl\n",
    "print(\"ติดตั้งไลบรารีเสร็จสิ้น (หากติดตั้งไปแล้ว จะแสดงว่า Requirement already satisfied)\")"
   ]
  },
  {
   "cell_type": "markdown",
   "id": "60ea6a08",
   "metadata": {},
   "source": [
    "### ตรวจหาที่ จะติดตั้ง "
   ]
  },
  {
   "cell_type": "code",
   "execution_count": 6,
   "id": "cadf0789",
   "metadata": {},
   "outputs": [
    {
     "name": "stdout",
     "output_type": "stream",
     "text": [
      "c:\\Users\\ball-pc\\AppData\\Local\\Programs\\Python\\Python313\\python.exe\n"
     ]
    }
   ],
   "source": [
    "import sys\n",
    "print(sys.executable)"
   ]
  },
  {
   "cell_type": "code",
   "execution_count": 1,
   "id": "1dc4d780",
   "metadata": {},
   "outputs": [
    {
     "name": "stdout",
     "output_type": "stream",
     "text": [
      "การตั้งค่าเสร็จสิ้น\n"
     ]
    }
   ],
   "source": [
    "# --- Cell 1: Imports และการตั้งค่า ---\n",
    "import pandas as pd\n",
    "from selenium import webdriver\n",
    "from selenium.webdriver.chrome.service import Service\n",
    "from selenium.webdriver.common.by import By\n",
    "from selenium.webdriver.support.ui import WebDriverWait\n",
    "from selenium.webdriver.support import expected_conditions as EC\n",
    "from selenium.common.exceptions import TimeoutException, NoSuchElementException\n",
    "from webdriver_manager.chrome import ChromeDriverManager\n",
    "\n",
    "\n",
    "import time\n",
    "import os\n",
    "from dotenv import load_dotenv\n",
    "\n",
    "# โหลดค่าจากไฟล์ .env\n",
    "load_dotenv()\n",
    "\n",
    "# --- ค่าคงที่ ---\n",
    "LOGIN_URL = \"https://cenproject.rid.go.th/\"\n",
    "YOUR_USERNAME = os.getenv(\"CEN_USERNAME\")\n",
    "YOUR_PASSWORD = os.getenv(\"CEN_PASSWORD\")\n",
    "EXCEL_FILE_PATH = 'table_main_2068.xlsx' # <<<<---- ระบุชื่อไฟล์ Excel ของคุณที่นี่\n",
    "OUTPUT_EXCEL_PATH = 'result_data.xlsx' # <<<<---- ไฟล์ผลลัพธ์ที่จะถูกสร้างขึ้น\n",
    "\n",
    "print(\"การตั้งค่าเสร็จสิ้น\")"
   ]
  },
  {
   "cell_type": "markdown",
   "id": "d84b9165",
   "metadata": {},
   "source": [
    "# 1.เปิด Chrome เพื่อ Login"
   ]
  },
  {
   "cell_type": "code",
   "execution_count": 2,
   "id": "1d8a03b9",
   "metadata": {},
   "outputs": [
    {
     "name": "stdout",
     "output_type": "stream",
     "text": [
      "rid2ez2 wa792d\n"
     ]
    }
   ],
   "source": [
    "print(YOUR_USERNAME, YOUR_PASSWORD)"
   ]
  },
  {
   "cell_type": "code",
   "execution_count": 3,
   "id": "e3689446",
   "metadata": {},
   "outputs": [
    {
     "name": "stdout",
     "output_type": "stream",
     "text": [
      "กำลังเริ่มต้น WebDriver...\n",
      "กำลังเข้าสู่หน้า Login: https://cenproject.rid.go.th/\n",
      "กำลังรอหน้า Login...\n",
      "กำลังกรอกข้อมูล Login...\n",
      "Login สำเร็จ\n",
      "กำลังรอลิงก์ 'ระบบติดตาม'...\n",
      "คลิก 'ระบบติดตาม' สำเร็จ\n",
      "กำลังรอให้หน้า Dashboard โหลดเสร็จ (รอให้ Loading Overlay หายไป)...\n",
      "Loading Overlay หายไปแล้ว หน้าเว็บพร้อมใช้งาน\n"
     ]
    }
   ],
   "source": [
    "# --- Cell 2: เริ่มต้น WebDriver และ Login ---\n",
    "print(\"กำลังเริ่มต้น WebDriver...\")\n",
    "service = Service(ChromeDriverManager().install())\n",
    "driver = webdriver.Chrome(service=service)\n",
    "driver.maximize_window()\n",
    "\n",
    "print(f\"กำลังเข้าสู่หน้า Login: {LOGIN_URL}\")\n",
    "driver.get(LOGIN_URL)\n",
    "\n",
    "wait = WebDriverWait(driver, 5) # เพิ่มเวลารอเป็น 20 วินาทีเผื่อเว็บโหลดช้า\n",
    "\n",
    "try:\n",
    "    # 1. Login\n",
    "    print(\"กำลังรอหน้า Login...\")\n",
    "    username_field = wait.until(EC.presence_of_element_located((By.NAME, \"Username\")))\n",
    "    password_field = wait.until(EC.presence_of_element_located((By.NAME, \"Password\")))\n",
    "    login_button = wait.until(EC.element_to_be_clickable((By.CSS_SELECTOR, \"button.btn.btn-primary[type='submit']\")))\n",
    "\n",
    "    print(\"กำลังกรอกข้อมูล Login...\")\n",
    "    username_field.send_keys(YOUR_USERNAME)\n",
    "    password_field.send_keys(YOUR_PASSWORD)\n",
    "    login_button.click()\n",
    "    print(\"Login สำเร็จ\")\n",
    "\n",
    "    # 2. กดเข้าระบบติดตาม\n",
    "    print(\"กำลังรอลิงก์ 'ระบบติดตาม'...\")\n",
    "    system_tracking_link = wait.until(EC.element_to_be_clickable((By.XPATH, \"//a[./img[@alt='banner-track']]\")))\n",
    "    system_tracking_link.click()\n",
    "    print(\"คลิก 'ระบบติดตาม' สำเร็จ\")\n",
    "\n",
    "    # --- ส่วนที่แก้ไข ---\n",
    "    # 3. รอให้หน้ากาก Loading หายไปก่อน\n",
    "    print(\"กำลังรอให้หน้า Dashboard โหลดเสร็จ (รอให้ Loading Overlay หายไป)...\")\n",
    "    loading_overlay_xpath = \"//div[contains(@style, 'display: block') and contains(@style, 'z-index: 9999')]\"\n",
    "    # เราจะรอจนกว่า Element นี้จะ \"มองไม่เห็น\" (invisible)\n",
    "    wait.until(EC.invisibility_of_element_located((By.XPATH, loading_overlay_xpath)))\n",
    "    print(\"Loading Overlay หายไปแล้ว หน้าเว็บพร้อมใช้งาน\")\n",
    "except Exception as e:\n",
    "    print(f\"เกิดข้อผิดพลาดระหว่างการ Login หรือการนำทางเริ่มต้น: {e}\")\n",
    "    # driver.quit()"
   ]
  },
  {
   "cell_type": "markdown",
   "id": "b301c8b1",
   "metadata": {},
   "source": [
    "# 2.งบประมาณรายจ่ายประจำปี (พ.ร.บ.) 2568"
   ]
  },
  {
   "cell_type": "code",
   "execution_count": 4,
   "id": "9e762e77",
   "metadata": {},
   "outputs": [
    {
     "name": "stdout",
     "output_type": "stream",
     "text": [
      "กำลังรอเมนู 'งบประมาณ'...\n",
      "คลิกเมนู 'งบประมาณ' สำเร็จ\n",
      "มาถึงหน้า 'งบประมาณ' หลักแล้ว: https://cenproject.rid.go.th/track/budget?BudgetYear=2025\n",
      "กำลังนำทางไปยัง URL เป้าหมาย: https://cenproject.rid.go.th/track/budget?BudgetYear=2025&BudgetSourceID=1\n",
      "กำลังรอให้ตารางข้อมูลโครงการโหลด...\n",
      "\n",
      "--- การนำทางสำเร็จ แต่เกิดข้อผิดพลาดในการรอ Element ---\n",
      "ข้อผิดพลาด: ไม่สามารถหา Element ที่ต้องการได้ภายในเวลาที่กำหนด\n",
      "URL ปัจจุบันที่เกิดปัญหา: https://cenproject.rid.go.th/track/budget?BudgetYear=2025&BudgetSourceID=1\n",
      "สาเหตุที่เป็นไปได้: ID หรือ Class ของตารางข้อมูลในหน้านี้อาจไม่ตรงกับที่ระบุในโค้ด\n"
     ]
    }
   ],
   "source": [
    "# --- ใส่โค้ดนี้แทนที่ try...except บล็อกเดิมของคุณ ---\n",
    "\n",
    "try:\n",
    "    # 4. คลิกเมนูหลัก \"งบประมาณ\"\n",
    "    print(\"กำลังรอเมนู 'งบประมาณ'...\")\n",
    "    budget_menu_left_nav = wait.until(EC.element_to_be_clickable((By.XPATH, \"//a[contains(., 'งบประมาณ')]\")))\n",
    "    budget_menu_left_nav.click()\n",
    "    print(\"คลิกเมนู 'งบประมาณ' สำเร็จ\")\n",
    "\n",
    "    # 4.1. รอให้หน้า \"งบประมาณ\" หลักโหลดเสร็จ\n",
    "    base_budget_url = \"https://cenproject.rid.go.th/track/budget?BudgetYear=2025\"\n",
    "    wait.until(EC.url_to_be(base_budget_url))\n",
    "    print(f\"มาถึงหน้า 'งบประมาณ' หลักแล้ว: {driver.current_url}\")\n",
    "\n",
    "    # 4.2. สร้าง URL เป้าหมายและใช้ driver.get()\n",
    "    target_url = base_budget_url + \"&BudgetSourceID=1\"\n",
    "    print(f\"กำลังนำทางไปยัง URL เป้าหมาย: {target_url}\")\n",
    "    driver.get(target_url)\n",
    "    \n",
    "    # 5. รอให้ตารางข้อมูลของหน้าเป้าหมายโหลดเสร็จ (ปรับปรุงจุดนี้)\n",
    "    print(\"กำลังรอให้ตารางข้อมูลโครงการโหลด...\")\n",
    "    \n",
    "    # ลองเพิ่มเวลาในการรอให้มากขึ้น เผื่อข้อมูลเยอะแล้วโหลดช้า\n",
    "    long_wait = WebDriverWait(driver, 5) # สร้าง wait ใหม่ที่รอนานขึ้นเป็น 30 วินาที\n",
    "    \n",
    "    # เราจะรอ \"Container\" ของตารางแทน ID ที่อาจจะเปลี่ยนไป\n",
    "    # ลองหา class ของ <div> ที่ครอบตารางทั้งหมด เช่น 'card-body' หรือ 'table-responsive'\n",
    "    # **** ปรับแก้ 'card-body' เป็น class ที่ถูกต้องจากหน้าเว็บ ****\n",
    "    table_container = long_wait.until(EC.presence_of_element_located((By.CLASS_NAME, \"card-body\")))\n",
    "    \n",
    "    # หลังจากเจอ Container แล้ว ค่อยเช็คว่ามีตารางอยู่ข้างในหรือไม่\n",
    "    table_element = table_container.find_element(By.TAG_NAME, \"table\")\n",
    "    \n",
    "    print(f\"หน้าตางบประมาณรายจ่ายประจำปี (พ.ร.บ.) โหลดเรียบร้อยแล้ว (พบตาราง ID: {table_element.get_attribute('id')})\")\n",
    "\n",
    "except Exception as e:\n",
    "    # แก้ไขข้อความ Error ตามที่ต้องการ\n",
    "    print(\"\\n--- การนำทางสำเร็จ แต่เกิดข้อผิดพลาดในการรอ Element ---\")\n",
    "    print(f\"ข้อผิดพลาด: ไม่สามารถหา Element ที่ต้องการได้ภายในเวลาที่กำหนด\")\n",
    "    print(f\"URL ปัจจุบันที่เกิดปัญหา: {driver.current_url}\")\n",
    "    print(\"สาเหตุที่เป็นไปได้: ID หรือ Class ของตารางข้อมูลในหน้านี้อาจไม่ตรงกับที่ระบุในโค้ด\")\n"
   ]
  },
  {
   "cell_type": "markdown",
   "id": "30831ab0",
   "metadata": {},
   "source": [
    "# ดึงค่ารายการและข้อมูลการเบิกจ่าย จาก Excel"
   ]
  },
  {
   "cell_type": "markdown",
   "id": "0798c271",
   "metadata": {},
   "source": [
    "## test วิ่งเข้า งานรักษาบริเวณ สชป.2"
   ]
  },
  {
   "cell_type": "code",
   "execution_count": 88,
   "id": "f7705663",
   "metadata": {},
   "outputs": [
    {
     "name": "stdout",
     "output_type": "stream",
     "text": [
      "กำลังค้นหาแถวของ: 'งานรักษาบริเวณ สชป.2'...\n",
      "พบปุ่ม Action, กำลังคลิกเพื่อเข้าหน้ารายละเอียด...\n",
      "เข้าสู่หน้ารายละเอียดงานย่อยสำเร็จ.\n"
     ]
    }
   ],
   "source": [
    "# --- Cell 4: เข้าหน้ารายละเอียดของงานรักษาบริเวณ สชป.2 ---\n",
    "print(f\"กำลังค้นหาแถวของ: '{\"งานรักษาบริเวณ สชป.2\"}'...\")\n",
    "project_row_xpath = f\"//tbody/tr[td[2][normalize-space()='{\"งานรักษาบริเวณ สชป.2\"}']]\"\n",
    "project_row = wait.until(EC.visibility_of_element_located((By.XPATH, project_row_xpath)))\n",
    "action_button_xpath = \".//div[@data-tip='เรียกดูข้อมูลแถบเดิม']/button\"\n",
    "action_button = project_row.find_element(By.XPATH, action_button_xpath)\n",
    "print(\"พบปุ่ม Action, กำลังคลิกเพื่อเข้าหน้ารายละเอียด...\")\n",
    "action_button.click()\n",
    "# Step 2: รอให้หน้ารายละเอียด (ตารางงานย่อย) โหลด\n",
    "wait.until(EC.presence_of_element_located((By.XPATH, \"//table[contains(@class, 'table-zebra')]//tbody\")))\n",
    "print(\"เข้าสู่หน้ารายละเอียดงานย่อยสำเร็จ.\")"
   ]
  },
  {
   "cell_type": "code",
   "execution_count": 120,
   "id": "42204e4c",
   "metadata": {},
   "outputs": [
    {
     "name": "stdout",
     "output_type": "stream",
     "text": [
      "กำลังค้นหาแถวของ: 'โครงการชลประทานเชียงราย'...\n",
      "พบปุ่ม Action, กำลังคลิกเพื่อเข้าหน้ารายละเอียด...\n",
      "เข้าสู่หน้ารายละเอียดงานย่อยสำเร็จ.\n"
     ]
    }
   ],
   "source": [
    "# --- Cell 4: เข้าหน้ารายละเอียดของงานรักษาบริเวณ สชป.2 ---\n",
    "print(f\"กำลังค้นหาแถวของ: '{\"โครงการชลประทานเชียงราย\"}'...\")\n",
    "project_row_xpath = f\"//tbody/tr[td[2][normalize-space()='{\"โครงการชลประทานเชียงราย\"}']]\"\n",
    "project_row = wait.until(EC.visibility_of_element_located((By.XPATH, project_row_xpath)))\n",
    "action_button_xpath = \".//div[@data-tip='เรียกดูข้อมูลแถบเดิม']/button\"\n",
    "action_button = project_row.find_element(By.XPATH, action_button_xpath)\n",
    "print(\"พบปุ่ม Action, กำลังคลิกเพื่อเข้าหน้ารายละเอียด...\")\n",
    "action_button.click()\n",
    "# Step 2: รอให้หน้ารายละเอียด (ตารางงานย่อย) โหลด\n",
    "wait.until(EC.presence_of_element_located((By.XPATH, \"//table[contains(@class, 'table-zebra')]//tbody\")))\n",
    "print(\"เข้าสู่หน้ารายละเอียดงานย่อยสำเร็จ.\")"
   ]
  },
  {
   "cell_type": "markdown",
   "id": "df4ea533",
   "metadata": {},
   "source": [
    "### test ดึงรายการ + ร้อยละเบิกจ่าย"
   ]
  },
  {
   "cell_type": "code",
   "execution_count": 82,
   "id": "bf48e072",
   "metadata": {},
   "outputs": [],
   "source": [
    "df = pd.read_excel(\"table_main_2568.xlsx\")"
   ]
  },
  {
   "cell_type": "code",
   "execution_count": null,
   "id": "9ba7f148",
   "metadata": {},
   "outputs": [
    {
     "name": "stdout",
     "output_type": "stream",
     "text": [
      "งานย่อยที่ 1:|หน่วยงาน: โครงการชลประทานเชียงราย | ชื่องาน (255) โครงการพัฒนาแก้มลิงเวียงหนองหล่มพร้อมอาคารประกอบ โครงการชลประทานเชียงราย ตำบลจันจว้า อำเภอแม่จัน จังหวัดเชียงราย - [ 10394 ] เบิกจ่ายร้อยละ :54.28 \n",
      "54.28\n",
      "กดปุ่มเรียบร้อยแล้ว\n"
     ]
    },
    {
     "ename": "StaleElementReferenceException",
     "evalue": "Message: stale element reference: stale element not found in the current frame\n  (Session info: chrome=138.0.7204.96); For documentation on this error, please visit: https://www.selenium.dev/documentation/webdriver/troubleshooting/errors#staleelementreferenceexception\nStacktrace:\n\tGetHandleVerifier [0x0x11244a3+62419]\n\tGetHandleVerifier [0x0x11244e4+62484]\n\t(No symbol) [0x0xf62133]\n\t(No symbol) [0x0xf68909]\n\t(No symbol) [0x0xf6ac7a]\n\t(No symbol) [0x0xf6acf7]\n\t(No symbol) [0x0xfaa194]\n\t(No symbol) [0x0xfaac9b]\n\t(No symbol) [0x0xfa0131]\n\t(No symbol) [0x0xfcf4b4]\n\t(No symbol) [0x0xfa0054]\n\t(No symbol) [0x0xfcf6e4]\n\t(No symbol) [0x0xff087a]\n\t(No symbol) [0x0xfcf266]\n\t(No symbol) [0x0xf9e852]\n\t(No symbol) [0x0xf9f6f4]\n\tGetHandleVerifier [0x0x1394793+2619075]\n\tGetHandleVerifier [0x0x138fbaa+2599642]\n\tGetHandleVerifier [0x0x114b04a+221050]\n\tGetHandleVerifier [0x0x113b2c8+156152]\n\tGetHandleVerifier [0x0x1141c7d+183213]\n\tGetHandleVerifier [0x0x112c388+94904]\n\tGetHandleVerifier [0x0x112c512+95298]\n\tGetHandleVerifier [0x0x111766a+9626]\n\tBaseThreadInitThunk [0x0x75eb6839+25]\n\tRtlGetFullPathName_UEx [0x0x776a906f+1215]\n\tRtlGetFullPathName_UEx [0x0x776a903d+1165]\n",
     "output_type": "error",
     "traceback": [
      "\u001b[1;31m---------------------------------------------------------------------------\u001b[0m",
      "\u001b[1;31mStaleElementReferenceException\u001b[0m            Traceback (most recent call last)",
      "Cell \u001b[1;32mIn[122], line 3\u001b[0m\n\u001b[0;32m      1\u001b[0m subtask_rows \u001b[38;5;241m=\u001b[39m driver\u001b[38;5;241m.\u001b[39mfind_elements(By\u001b[38;5;241m.\u001b[39mXPATH, \u001b[38;5;124m\"\u001b[39m\u001b[38;5;124m//table[contains(@class, \u001b[39m\u001b[38;5;124m'\u001b[39m\u001b[38;5;124mtable-zebra\u001b[39m\u001b[38;5;124m'\u001b[39m\u001b[38;5;124m)]//tbody/tr\u001b[39m\u001b[38;5;124m\"\u001b[39m)\n\u001b[0;32m      2\u001b[0m \u001b[38;5;28;01mfor\u001b[39;00m index, row_elem \u001b[38;5;129;01min\u001b[39;00m \u001b[38;5;28menumerate\u001b[39m(subtask_rows, start\u001b[38;5;241m=\u001b[39m\u001b[38;5;241m1\u001b[39m):\n\u001b[1;32m----> 3\u001b[0m     subtask_name \u001b[38;5;241m=\u001b[39m \u001b[43mrow_elem\u001b[49m\u001b[38;5;241;43m.\u001b[39;49m\u001b[43mfind_element\u001b[49m\u001b[43m(\u001b[49m\u001b[43mBy\u001b[49m\u001b[38;5;241;43m.\u001b[39;49m\u001b[43mXPATH\u001b[49m\u001b[43m,\u001b[49m\u001b[43m \u001b[49m\u001b[38;5;124;43m\"\u001b[39;49m\u001b[38;5;124;43m.//td[2]\u001b[39;49m\u001b[38;5;124;43m\"\u001b[39;49m\u001b[43m)\u001b[49m\u001b[38;5;241m.\u001b[39mtext\u001b[38;5;241m.\u001b[39mstrip()\n\u001b[0;32m      4\u001b[0m     subtask_percen_dis \u001b[38;5;241m=\u001b[39m row_elem\u001b[38;5;241m.\u001b[39mfind_element(By\u001b[38;5;241m.\u001b[39mXPATH, \u001b[38;5;124m\"\u001b[39m\u001b[38;5;124m.//td[9]\u001b[39m\u001b[38;5;124m\"\u001b[39m)\u001b[38;5;241m.\u001b[39mtext\u001b[38;5;241m.\u001b[39mstrip()\n\u001b[0;32m      6\u001b[0m     \u001b[38;5;66;03m# ค้นหาแถวใน DataFrame ที่ตรงกับ subtask_name\u001b[39;00m\n",
      "File \u001b[1;32mc:\\Users\\const\\AppData\\Local\\Programs\\Python\\Python312\\Lib\\site-packages\\selenium\\webdriver\\remote\\webelement.py:602\u001b[0m, in \u001b[0;36mWebElement.find_element\u001b[1;34m(self, by, value)\u001b[0m\n\u001b[0;32m    576\u001b[0m \u001b[38;5;250m\u001b[39m\u001b[38;5;124;03m\"\"\"Find an element given a By strategy and locator.\u001b[39;00m\n\u001b[0;32m    577\u001b[0m \n\u001b[0;32m    578\u001b[0m \u001b[38;5;124;03mParameters:\u001b[39;00m\n\u001b[1;32m   (...)\u001b[0m\n\u001b[0;32m    599\u001b[0m \u001b[38;5;124;03m    The first matching `WebElement` found on the page.\u001b[39;00m\n\u001b[0;32m    600\u001b[0m \u001b[38;5;124;03m\"\"\"\u001b[39;00m\n\u001b[0;32m    601\u001b[0m by, value \u001b[38;5;241m=\u001b[39m \u001b[38;5;28mself\u001b[39m\u001b[38;5;241m.\u001b[39m_parent\u001b[38;5;241m.\u001b[39mlocator_converter\u001b[38;5;241m.\u001b[39mconvert(by, value)\n\u001b[1;32m--> 602\u001b[0m \u001b[38;5;28;01mreturn\u001b[39;00m \u001b[38;5;28;43mself\u001b[39;49m\u001b[38;5;241;43m.\u001b[39;49m\u001b[43m_execute\u001b[49m\u001b[43m(\u001b[49m\u001b[43mCommand\u001b[49m\u001b[38;5;241;43m.\u001b[39;49m\u001b[43mFIND_CHILD_ELEMENT\u001b[49m\u001b[43m,\u001b[49m\u001b[43m \u001b[49m\u001b[43m{\u001b[49m\u001b[38;5;124;43m\"\u001b[39;49m\u001b[38;5;124;43musing\u001b[39;49m\u001b[38;5;124;43m\"\u001b[39;49m\u001b[43m:\u001b[49m\u001b[43m \u001b[49m\u001b[43mby\u001b[49m\u001b[43m,\u001b[49m\u001b[43m \u001b[49m\u001b[38;5;124;43m\"\u001b[39;49m\u001b[38;5;124;43mvalue\u001b[39;49m\u001b[38;5;124;43m\"\u001b[39;49m\u001b[43m:\u001b[49m\u001b[43m \u001b[49m\u001b[43mvalue\u001b[49m\u001b[43m}\u001b[49m\u001b[43m)\u001b[49m[\u001b[38;5;124m\"\u001b[39m\u001b[38;5;124mvalue\u001b[39m\u001b[38;5;124m\"\u001b[39m]\n",
      "File \u001b[1;32mc:\\Users\\const\\AppData\\Local\\Programs\\Python\\Python312\\Lib\\site-packages\\selenium\\webdriver\\remote\\webelement.py:573\u001b[0m, in \u001b[0;36mWebElement._execute\u001b[1;34m(self, command, params)\u001b[0m\n\u001b[0;32m    571\u001b[0m     params \u001b[38;5;241m=\u001b[39m {}\n\u001b[0;32m    572\u001b[0m params[\u001b[38;5;124m\"\u001b[39m\u001b[38;5;124mid\u001b[39m\u001b[38;5;124m\"\u001b[39m] \u001b[38;5;241m=\u001b[39m \u001b[38;5;28mself\u001b[39m\u001b[38;5;241m.\u001b[39m_id\n\u001b[1;32m--> 573\u001b[0m \u001b[38;5;28;01mreturn\u001b[39;00m \u001b[38;5;28;43mself\u001b[39;49m\u001b[38;5;241;43m.\u001b[39;49m\u001b[43m_parent\u001b[49m\u001b[38;5;241;43m.\u001b[39;49m\u001b[43mexecute\u001b[49m\u001b[43m(\u001b[49m\u001b[43mcommand\u001b[49m\u001b[43m,\u001b[49m\u001b[43m \u001b[49m\u001b[43mparams\u001b[49m\u001b[43m)\u001b[49m\n",
      "File \u001b[1;32mc:\\Users\\const\\AppData\\Local\\Programs\\Python\\Python312\\Lib\\site-packages\\selenium\\webdriver\\remote\\webdriver.py:454\u001b[0m, in \u001b[0;36mWebDriver.execute\u001b[1;34m(self, driver_command, params)\u001b[0m\n\u001b[0;32m    451\u001b[0m response \u001b[38;5;241m=\u001b[39m cast(RemoteConnection, \u001b[38;5;28mself\u001b[39m\u001b[38;5;241m.\u001b[39mcommand_executor)\u001b[38;5;241m.\u001b[39mexecute(driver_command, params)\n\u001b[0;32m    453\u001b[0m \u001b[38;5;28;01mif\u001b[39;00m response:\n\u001b[1;32m--> 454\u001b[0m     \u001b[38;5;28;43mself\u001b[39;49m\u001b[38;5;241;43m.\u001b[39;49m\u001b[43merror_handler\u001b[49m\u001b[38;5;241;43m.\u001b[39;49m\u001b[43mcheck_response\u001b[49m\u001b[43m(\u001b[49m\u001b[43mresponse\u001b[49m\u001b[43m)\u001b[49m\n\u001b[0;32m    455\u001b[0m     response[\u001b[38;5;124m\"\u001b[39m\u001b[38;5;124mvalue\u001b[39m\u001b[38;5;124m\"\u001b[39m] \u001b[38;5;241m=\u001b[39m \u001b[38;5;28mself\u001b[39m\u001b[38;5;241m.\u001b[39m_unwrap_value(response\u001b[38;5;241m.\u001b[39mget(\u001b[38;5;124m\"\u001b[39m\u001b[38;5;124mvalue\u001b[39m\u001b[38;5;124m\"\u001b[39m, \u001b[38;5;28;01mNone\u001b[39;00m))\n\u001b[0;32m    456\u001b[0m     \u001b[38;5;28;01mreturn\u001b[39;00m response\n",
      "File \u001b[1;32mc:\\Users\\const\\AppData\\Local\\Programs\\Python\\Python312\\Lib\\site-packages\\selenium\\webdriver\\remote\\errorhandler.py:232\u001b[0m, in \u001b[0;36mErrorHandler.check_response\u001b[1;34m(self, response)\u001b[0m\n\u001b[0;32m    230\u001b[0m         alert_text \u001b[38;5;241m=\u001b[39m value[\u001b[38;5;124m\"\u001b[39m\u001b[38;5;124malert\u001b[39m\u001b[38;5;124m\"\u001b[39m]\u001b[38;5;241m.\u001b[39mget(\u001b[38;5;124m\"\u001b[39m\u001b[38;5;124mtext\u001b[39m\u001b[38;5;124m\"\u001b[39m)\n\u001b[0;32m    231\u001b[0m     \u001b[38;5;28;01mraise\u001b[39;00m exception_class(message, screen, stacktrace, alert_text)  \u001b[38;5;66;03m# type: ignore[call-arg]  # mypy is not smart enough here\u001b[39;00m\n\u001b[1;32m--> 232\u001b[0m \u001b[38;5;28;01mraise\u001b[39;00m exception_class(message, screen, stacktrace)\n",
      "\u001b[1;31mStaleElementReferenceException\u001b[0m: Message: stale element reference: stale element not found in the current frame\n  (Session info: chrome=138.0.7204.96); For documentation on this error, please visit: https://www.selenium.dev/documentation/webdriver/troubleshooting/errors#staleelementreferenceexception\nStacktrace:\n\tGetHandleVerifier [0x0x11244a3+62419]\n\tGetHandleVerifier [0x0x11244e4+62484]\n\t(No symbol) [0x0xf62133]\n\t(No symbol) [0x0xf68909]\n\t(No symbol) [0x0xf6ac7a]\n\t(No symbol) [0x0xf6acf7]\n\t(No symbol) [0x0xfaa194]\n\t(No symbol) [0x0xfaac9b]\n\t(No symbol) [0x0xfa0131]\n\t(No symbol) [0x0xfcf4b4]\n\t(No symbol) [0x0xfa0054]\n\t(No symbol) [0x0xfcf6e4]\n\t(No symbol) [0x0xff087a]\n\t(No symbol) [0x0xfcf266]\n\t(No symbol) [0x0xf9e852]\n\t(No symbol) [0x0xf9f6f4]\n\tGetHandleVerifier [0x0x1394793+2619075]\n\tGetHandleVerifier [0x0x138fbaa+2599642]\n\tGetHandleVerifier [0x0x114b04a+221050]\n\tGetHandleVerifier [0x0x113b2c8+156152]\n\tGetHandleVerifier [0x0x1141c7d+183213]\n\tGetHandleVerifier [0x0x112c388+94904]\n\tGetHandleVerifier [0x0x112c512+95298]\n\tGetHandleVerifier [0x0x111766a+9626]\n\tBaseThreadInitThunk [0x0x75eb6839+25]\n\tRtlGetFullPathName_UEx [0x0x776a906f+1215]\n\tRtlGetFullPathName_UEx [0x0x776a903d+1165]\n"
     ]
    }
   ],
   "source": [
    "subtask_rows = driver.find_elements(By.XPATH, \"//table[contains(@class, 'table-zebra')]//tbody/tr\")\n",
    "for index, row_elem in enumerate(subtask_rows, start=1):\n",
    "    subtask_name = row_elem.find_element(By.XPATH, \".//td[2]\").text.strip()\n",
    "    subtask_percen_dis = row_elem.find_element(By.XPATH, \".//td[9]\").text.strip()\n",
    "\n",
    "    # ค้นหาแถวใน DataFrame ที่ตรงกับ subtask_name\n",
    "    matched = df[df['ชื่อ / ประมาณการ'] == subtask_name]\n",
    "    if not matched.empty:\n",
    "        # ดึงชื่อหน่วยงานระดับโครงการ (คอลัมน์ E)\n",
    "        project_name = matched.iloc[0]['ชื่อหน่วยงานระดับโครงการ']\n",
    "        \n",
    "        print(f\"งานย่อยที่ {index}:|หน่วยงาน: {project_name} | ชื่องาน {subtask_name} เบิกจ่ายร้อยละ :{subtask_percen_dis} \")\n",
    "        # เช็ค subtask_percen_dis <= 100 ถ้า เป็นจริง ให้กด /html/body/div[2]/div[1]/main/main/div[4]/div[1]/table/tbody/tr[1]/td[13]/div/div[1]\n",
    "        \n",
    "        if float(subtask_percen_dis) < 100:\n",
    "            print(float(subtask_percen_dis))\n",
    "            # กดปุ่มที่ต้องการ\n",
    "            button_xpath = \"/html/body/div[2]/div[1]/main/main/div[4]/div[1]/table/tbody/tr[1]/td[13]/div/div[1]\"\n",
    "            button = driver.find_element(By.XPATH, button_xpath)\n",
    "            button.click()\n",
    "            print(\"กดปุ่มเรียบร้อยแล้ว\")\n",
    "        # กลับไปที่หน้าเดิม\n",
    "        # รอให้โหดหน้าเว็บเสร็จ\n",
    "        time.sleep(10)\n",
    "           \n",
    "    \n",
    "    else:\n",
    "        project_name = \"ไม่พบใน Excel\"\n",
    "    \n",
    "    # กลับไปที่หน้ารายการย่อย https://cenproject.rid.go.th/track/budget/111?BudgetYear=2025&BudgetSourceID=1&OrganizationName=\n",
    "    \n",
    "    \n",
    "\n"
   ]
  },
  {
   "cell_type": "markdown",
   "id": "50bec3cb",
   "metadata": {},
   "source": [
    "### วน เข้า กรอก รายงานเบิกจ่าย"
   ]
  },
  {
   "cell_type": "code",
   "execution_count": 127,
   "id": "d8ce50d1",
   "metadata": {},
   "outputs": [
    {
     "name": "stdout",
     "output_type": "stream",
     "text": [
      "พบ 10 งานย่อยในหน่วยงานนี้. กำลังตรวจสอบเงื่อนไข...\n",
      "\n",
      "--- กำลังตรวจสอบแถวที่ 1 ---\n",
      "  หน่วยงาน: โครงการชลประทานเชียงราย | ชื่องาน: (1.1432) ซ่อมแซมระบบท่อส่งน้ำ โครงการจัด... | %เบิกจ่าย: 77.51\n",
      "  -> [ผ่านเงื่อนไข] %เบิกจ่าย < 100. กำลังคลิก 'เรียกดูข้อมูลแถบเดิม'...\n",
      "  -> คลิกสำเร็จ! เข้าสู่หน้ารายละเอียดสุดท้าย...\n",
      "  -> กำลังกลับไปที่หน้ารายการงานย่อย...\n",
      "\n",
      "--- กำลังตรวจสอบแถวที่ 2 ---\n",
      "  หน่วยงาน: โครงการชลประทานเชียงราย | ชื่องาน: (118) สถานีสูบน้ำด้วยไฟฟ้าพร้อมระบบส่งน้... | %เบิกจ่าย: 88.77\n",
      "  -> [ผ่านเงื่อนไข] %เบิกจ่าย < 100. กำลังคลิก 'เรียกดูข้อมูลแถบเดิม'...\n",
      "  -> คลิกสำเร็จ! เข้าสู่หน้ารายละเอียดสุดท้าย...\n",
      "  -> กำลังกลับไปที่หน้ารายการงานย่อย...\n",
      "\n",
      "--- กำลังตรวจสอบแถวที่ 3 ---\n",
      "  หน่วยงาน: โครงการชลประทานเชียงราย | ชื่องาน: (117) ระบบส่งน้ำฝายบ้านทุ่งทรายและบ้านทุ... | %เบิกจ่าย: 58.47\n",
      "  -> [ผ่านเงื่อนไข] %เบิกจ่าย < 100. กำลังคลิก 'เรียกดูข้อมูลแถบเดิม'...\n",
      "  -> คลิกสำเร็จ! เข้าสู่หน้ารายละเอียดสุดท้าย...\n",
      "  -> กำลังกลับไปที่หน้ารายการงานย่อย...\n",
      "\n",
      "--- กำลังตรวจสอบแถวที่ 4 ---\n",
      "  หน่วยงาน: โครงการชลประทานเชียงราย | ชื่องาน: (116) ฝายพร้อมระบบส่งน้ำห้วยเครือบ้า โคร... | %เบิกจ่าย: 80.55\n",
      "  -> [ผ่านเงื่อนไข] %เบิกจ่าย < 100. กำลังคลิก 'เรียกดูข้อมูลแถบเดิม'...\n",
      "  -> คลิกสำเร็จ! เข้าสู่หน้ารายละเอียดสุดท้าย...\n",
      "  -> กำลังกลับไปที่หน้ารายการงานย่อย...\n",
      "\n",
      "--- กำลังตรวจสอบแถวที่ 5 ---\n",
      "  หน่วยงาน: โครงการชลประทานเชียงราย | ชื่องาน: (115) ฝายห้วยแม่ส้านพร้อมระบบส่งน้ำ โครง... | %เบิกจ่าย: 68.26\n",
      "  -> [ผ่านเงื่อนไข] %เบิกจ่าย < 100. กำลังคลิก 'เรียกดูข้อมูลแถบเดิม'...\n",
      "  -> คลิกสำเร็จ! เข้าสู่หน้ารายละเอียดสุดท้าย...\n",
      "  -> กำลังกลับไปที่หน้ารายการงานย่อย...\n",
      "\n",
      "--- กำลังตรวจสอบแถวที่ 6 ---\n",
      "  หน่วยงาน: โครงการชลประทานเชียงราย | ชื่องาน: (1.1461) บำรุงรักษาหัวงานและคลองส่งน้ำโค... | %เบิกจ่าย: 27.15\n",
      "  -> [ผ่านเงื่อนไข] %เบิกจ่าย < 100. กำลังคลิก 'เรียกดูข้อมูลแถบเดิม'...\n",
      "  -> คลิกสำเร็จ! เข้าสู่หน้ารายละเอียดสุดท้าย...\n",
      "  -> กำลังกลับไปที่หน้ารายการงานย่อย...\n",
      "\n",
      "--- กำลังตรวจสอบแถวที่ 7 ---\n",
      "  หน่วยงาน: โครงการชลประทานเชียงราย | ชื่องาน: (1.1458) บำรุงรักษาทางลำเลียงใหญ่ โครงกา... | %เบิกจ่าย: 21.62\n",
      "  -> [ผ่านเงื่อนไข] %เบิกจ่าย < 100. กำลังคลิก 'เรียกดูข้อมูลแถบเดิม'...\n",
      "  -> คลิกสำเร็จ! เข้าสู่หน้ารายละเอียดสุดท้าย...\n",
      "  -> กำลังกลับไปที่หน้ารายการงานย่อย...\n",
      "\n",
      "--- กำลังตรวจสอบแถวที่ 8 ---\n",
      "  หน่วยงาน: โครงการชลประทานเชียงราย | ชื่องาน: (1.1457) บำรุงรักษาทางลำเลียงใหญ่ คลอง 2... | %เบิกจ่าย: 99.8\n",
      "  -> [ผ่านเงื่อนไข] %เบิกจ่าย < 100. กำลังคลิก 'เรียกดูข้อมูลแถบเดิม'...\n",
      "  -> คลิกสำเร็จ! เข้าสู่หน้ารายละเอียดสุดท้าย...\n",
      "  -> กำลังกลับไปที่หน้ารายการงานย่อย...\n",
      "\n",
      "--- กำลังตรวจสอบแถวที่ 9 ---\n",
      "  หน่วยงาน: โครงการชลประทานเชียงราย | ชื่องาน: (1.1456) บริหารการส่งน้ำ โครงการชลประทาน... | %เบิกจ่าย: 47.82\n",
      "  -> [ผ่านเงื่อนไข] %เบิกจ่าย < 100. กำลังคลิก 'เรียกดูข้อมูลแถบเดิม'...\n",
      "  -> คลิกสำเร็จ! เข้าสู่หน้ารายละเอียดสุดท้าย...\n",
      "  -> กำลังกลับไปที่หน้ารายการงานย่อย...\n",
      "\n",
      "--- กำลังตรวจสอบแถวที่ 10 ---\n",
      "  หน่วยงาน: โครงการชลประทานเชียงราย | ชื่องาน: (1.1454) ซ่อมแซมอาคารอัดน้ำกลางคลอง RMC ... | %เบิกจ่าย: 99.89\n",
      "  -> [ผ่านเงื่อนไข] %เบิกจ่าย < 100. กำลังคลิก 'เรียกดูข้อมูลแถบเดิม'...\n",
      "  -> คลิกสำเร็จ! เข้าสู่หน้ารายละเอียดสุดท้าย...\n",
      "  -> กำลังกลับไปที่หน้ารายการงานย่อย...\n"
     ]
    }
   ],
   "source": [
    "# --- [โค้ดสำหรับเช็คเงื่อนไข, ค้นหาใน Excel, และคลิกเข้าไปในแต่ละแถว - ฉบับปรับปรุง] ---\n",
    "# สมมติว่า df และ wait ถูกสร้างไว้แล้ว\n",
    "\n",
    "try:\n",
    "    # 1. หาจำนวนแถวทั้งหมดในหน้าปัจจุบัน\n",
    "    tbody = wait.until(EC.presence_of_element_located((By.XPATH, \"//table[contains(@class, 'table-zebra')]//tbody\")))\n",
    "    subtask_rows_count = len(tbody.find_elements(By.XPATH, \".//tr\"))\n",
    "    print(f\"พบ {subtask_rows_count} งานย่อยในหน่วยงานนี้. กำลังตรวจสอบเงื่อนไข...\")\n",
    "\n",
    "    # 2. วนลูปด้วย index เพื่อให้สามารถกลับมาทำงานต่อได้หลังการคลิก\n",
    "    for i in range(subtask_rows_count):\n",
    "        # ใช้ i+1 เพราะ index ของ Python เริ่มที่ 0 แต่ XPath เริ่มที่ 1\n",
    "        print(f\"\\n--- กำลังตรวจสอบแถวที่ {i + 1} ---\")\n",
    "        \n",
    "        try:\n",
    "            # 3. สร้าง XPath สำหรับแถวปัจจุบันขึ้นมาใหม่ทุกครั้ง\n",
    "            # เราต้องค้นหาจากทั้งหน้า เพราะหลังจากคลิกกลับมา DOM อาจจะเปลี่ยนไป\n",
    "            current_row_xpath = f\"(//table[contains(@class, 'table-zebra')]//tbody/tr)[{i + 1}]\"\n",
    "            \n",
    "            # 4. ดึงข้อมูล %เบิกจ่าย และชื่องานจากแถวปัจจุบัน\n",
    "            current_row_element = wait.until(EC.visibility_of_element_located((By.XPATH, current_row_xpath)))\n",
    "\n",
    "            subtask_percen_dis_text = current_row_element.find_element(By.XPATH, \".//td[9]\").text.strip()\n",
    "            subtask_name = current_row_element.find_element(By.XPATH, \".//td[2]\").text.strip()\n",
    "            \n",
    "            # ข้ามแถวที่ไม่มีข้อมูลเปอร์เซ็นต์\n",
    "            if not subtask_percen_dis_text:\n",
    "                print(\"  -> ไม่มีข้อมูล %เบิกจ่าย, ข้ามไป\")\n",
    "                continue\n",
    "            \n",
    "            # ค้นหาใน DataFrame\n",
    "            matched = df[df['ชื่อ / ประมาณการ'] == subtask_name]\n",
    "            if not matched.empty:\n",
    "                project_name = matched.iloc[0]['ชื่อหน่วยงานระดับโครงการ']\n",
    "                print(f\"  หน่วยงาน: {project_name} | ชื่องาน: {subtask_name[:40]}... | %เบิกจ่าย: {subtask_percen_dis_text}\")\n",
    "\n",
    "                # 5. แปลงค่าและตรวจสอบเงื่อนไข\n",
    "                percentage_value = float(subtask_percen_dis_text)\n",
    "                if percentage_value < 100:\n",
    "                    print(f\"  -> [ผ่านเงื่อนไข] %เบิกจ่าย < 100. กำลังคลิก 'เรียกดูข้อมูลแถบเดิม'...\")\n",
    "                    \n",
    "                    # 6. สร้าง XPath สำหรับปุ่ม \"เรียกดูข้อมูลแถบเดิม\" ของแถวปัจจุบัน (แบบไดนามิก)\n",
    "                    # ใช้ XPath ที่อ้างอิงจาก data-tip ซึ่งทนทานกว่า\n",
    "                    action_button_xpath = f\"{current_row_xpath}/td[13]//div[@data-tip='เรียกดูข้อมูลแถบเดิม']/button\"\n",
    "                    \n",
    "                    action_button = wait.until(EC.element_to_be_clickable((By.XPATH, action_button_xpath)))\n",
    "                    \n",
    "                    # ใช้ JavaScript click เพื่อความแน่นอน\n",
    "                    driver.execute_script(\"arguments[0].click();\", action_button)\n",
    "                    \n",
    "                    # --- ที่ตรงนี้ คือจุดที่เราจะทำงานในหน้ารายละเอียดสุดท้าย ---\n",
    "                    print(\"  -> คลิกสำเร็จ! เข้าสู่หน้ารายละเอียดสุดท้าย...\")\n",
    "                    # ตัวอย่าง: รอให้หน้าใหม่โหลดเสร็จ\n",
    "                    # wait.until(EC.presence_of_element_located((By.ID, 'id_ของ_element_ในหน้าสุดท้าย')))\n",
    "                    time.sleep(2) # หยุดดูหน้าจอ 2 วินาที\n",
    "                    \n",
    "                    # 7. กลับออกมาจากหน้ารายละเอียด เพื่อไปทำแถวถัดไป\n",
    "                    print(\"  -> กำลังกลับไปที่หน้ารายการงานย่อย...\")\n",
    "                    driver.back()\n",
    "                    \n",
    "                    # 8. **สำคัญมาก:** รอให้ตารางรายการงานย่อยกลับมาโหลดสมบูรณ์อีกครั้ง\n",
    "                    wait.until(EC.presence_of_element_located((By.XPATH, \"//table[contains(@class, 'table-zebra')]//tbody\")))\n",
    "\n",
    "                else:\n",
    "                    print(\"  -> [ไม่ผ่านเงื่อนไข] %เบิกจ่ายไม่น้อยกว่า 100, ข้ามไป\")\n",
    "            else:\n",
    "                 print(f\"  ชื่องาน: {subtask_name[:40]}... | ไม่พบข้อมูลใน Excel, ข้ามไป\")\n",
    "\n",
    "\n",
    "        except (NoSuchElementException, TimeoutException, ValueError) as e:\n",
    "            print(f\"  -> เกิดข้อผิดพลาดในการประมวลผลแถวที่ {i+1}: {e}\")\n",
    "            continue\n",
    "\n",
    "except Exception as e:\n",
    "    print(f\"เกิดข้อผิดพลาดในการค้นหาตาราง: {e}\")"
   ]
  },
  {
   "cell_type": "code",
   "execution_count": 105,
   "id": "873141d9",
   "metadata": {},
   "outputs": [],
   "source": [
    "# เช็ค subtask_percen_dis <= 100 ถ้า เป็นจริง ให้กด /html/body/div[2]/div[1]/main/main/div[4]/div[1]/table/tbody/tr[1]/td[13]/div/div[1]\n",
    "if subtask_percen_dis < '100':\n",
    "    # กดปุ่มที่ต้องการ\n",
    "    button_xpath = \"/html/body/div[2]/div[1]/main/main/div[4]/div[1]/table/tbody/tr[1]/td[13]/div/div[1]\"\n",
    "    button = driver.find_element(By.XPATH, button_xpath)\n",
    "    button.click()\n",
    "    print(\"กดปุ่มเรียบร้อยแล้ว\")\n",
    "\n"
   ]
  },
  {
   "cell_type": "markdown",
   "id": "25ea2aa1",
   "metadata": {},
   "source": [
    "### test เข้ารายการย่อย ดึง เบิกจ่ายสะสม จาก excel ที่ชื่อตรงกันมา"
   ]
  },
  {
   "cell_type": "markdown",
   "id": "8dd57312",
   "metadata": {},
   "source": [
    "### test วิ่ง เข้า รายงานการเบิกจ่าย เช็คจำนวนรายการ"
   ]
  },
  {
   "cell_type": "markdown",
   "id": "076faeb1",
   "metadata": {},
   "source": [
    "### Next page"
   ]
  },
  {
   "cell_type": "code",
   "execution_count": 71,
   "id": "03687983",
   "metadata": {},
   "outputs": [
    {
     "name": "stdout",
     "output_type": "stream",
     "text": [
      "พบข้อมูลทั้งหมด 1 หน้า. เริ่มประมวลผล...\n",
      "\n",
      "--- กำลังประมวลผลหน้า 1/1 ---\n",
      "พบ 1 รายการในหน้านี้.\n",
      " -> เป็นหน้าสุดท้ายแล้ว, จบการทำงานสำหรับหน่วยงานนี้.\n"
     ]
    }
   ],
   "source": [
    "# --- [โค้ดสำหรับวนลูปตามจำนวนหน้า - Final Robust Version 3.1] ---\n",
    "\n",
    "# === [ส่วนที่เพิ่มเข้ามา] การคำนวณจำนวนหน้าทั้งหมด (ทำครั้งเดียวต่อหน่วยงาน) ===\n",
    "try:\n",
    "    # รอให้ส่วน Pagination โหลดขึ้นมาก่อน (อาจจะใช้เวลาเล็กน้อย)\n",
    "    pagination_info_xpath = \"//div[contains(text(), 'แสดงข้อมูล')]\"\n",
    "    wait.until(EC.presence_of_element_located((By.XPATH, pagination_info_xpath)))\n",
    "    \n",
    "    pagination_text_element = driver.find_element(By.XPATH, pagination_info_xpath)\n",
    "    pagination_text = pagination_text_element.text\n",
    "    numbers = re.findall(r'\\d+', pagination_text)\n",
    "    \n",
    "    total_pages = 1 # กำหนดค่าเริ่มต้น\n",
    "    if len(numbers) >= 3:\n",
    "        # คำนวณจำนวนหน้าจากข้อความ \"แสดงข้อมูล X - Y จากทั้งหมด Z\"\n",
    "        items_per_page = int(numbers[1]) - int(numbers[0]) + 1\n",
    "        total_items = int(numbers[2])\n",
    "        # สูตรการหารปัดเศษขึ้น\n",
    "        total_pages = (total_items + items_per_page - 1) // items_per_page\n",
    "    \n",
    "    print(f\"พบข้อมูลทั้งหมด {total_pages} หน้า. เริ่มประมวลผล...\")\n",
    "\n",
    "except (NoSuchElementException, TimeoutException):\n",
    "    # ถ้าหาข้อความ Pagination ไม่เจอ แสดงว่ามีแค่หน้าเดียว\n",
    "    total_pages = 1 \n",
    "    print(\"ไม่พบข้อความ Pagination, จะประมวลผลแค่หน้าปัจจุบัน (ถือว่าเป็น 1 หน้า).\")\n",
    "# === จบส่วนคำนวณหน้า ===\n",
    "\n",
    "\n",
    "# === เริ่มการวนลูปตามจำนวนหน้าที่คำนวณได้ ===\n",
    "for current_page in range(1, total_pages + 1):\n",
    "    print(f\"\\n--- กำลังประมวลผลหน้า {current_page}/{total_pages} ---\")\n",
    "    \n",
    "    try:\n",
    "        # รอให้ตารางของหน้าปัจจุบันพร้อม\n",
    "        current_table = wait.until(EC.presence_of_element_located((By.XPATH, \"//table[contains(@class, 'table-zebra')]//tbody\")))\n",
    "        \n",
    "        # --- (ส่วนประมวลผลข้อมูลในตาราง... ที่นี่คุณจะใส่โค้ดอ่านข้อมูลแต่ละแถว) ---\n",
    "        rows_on_this_page = current_table.find_elements(By.XPATH, \".//tr\")\n",
    "        print(f\"พบ {len(rows_on_this_page)} รายการในหน้านี้.\")\n",
    "        # ... (โค้ด for i in range(...) ที่ทำงานถูกต้องแล้ว) ...\n",
    "        # (ย่อไว้เพื่อความกระชับ)\n",
    "        for i in range(len(rows_on_this_page)):\n",
    "            # ... process data ...\n",
    "            pass # Placeholder for your data processing loop\n",
    "        \n",
    "        # 3. ตรวจสอบว่าใช่หน้าสุดท้ายหรือไม่ เพื่อตัดสินใจคลิก \"Next\"\n",
    "        if current_page < total_pages:\n",
    "            print(\" -> ไม่ใช่หน้าสุดท้าย, กำลังคลิก 'Next'...\")\n",
    "            \n",
    "            try:\n",
    "                # 1. หาปุ่ม Next (ใช้ CSS Selector ที่แข็งแกร่ง)\n",
    "                next_page_button_selector = \"span.mx-4 + button\"\n",
    "                next_button = wait.until(EC.element_to_be_clickable((By.CSS_SELECTOR, next_page_button_selector)))\n",
    "                \n",
    "                # 2. เลื่อนหน้าจอไปหาปุ่มก่อน\n",
    "                driver.execute_script(\"arguments[0].scrollIntoView({block: 'center'});\", next_button)\n",
    "                time.sleep(0.5)\n",
    "                \n",
    "                # 3. ใช้ ActionChains เพื่อคลิกเหมือนมนุษย์\n",
    "                from selenium.webdriver.common.action_chains import ActionChains\n",
    "                ActionChains(driver).move_to_element(next_button).click().perform()\n",
    "                \n",
    "                # 4. รอให้ข้อความใน span เปลี่ยนไปเป็นของหน้าถัดไป\n",
    "                expected_page_text = f\"{current_page + 1} / {total_pages}\"\n",
    "                print(f\" -> กำลังรอให้หน้าเปลี่ยนเป็น '{expected_page_text}'...\")\n",
    "                \n",
    "                long_wait = WebDriverWait(driver, 30)\n",
    "                long_wait.until(EC.text_to_be_present_in_element((By.CSS_SELECTOR, \"span.mx-4\"), expected_page_text))\n",
    "                \n",
    "                print(\" -> เปลี่ยนหน้าสำเร็จ!\")\n",
    "\n",
    "            except TimeoutException:\n",
    "                print(f\"!!! Timeout: ไม่สามารถคลิกปุ่ม 'Next' หรือรอให้หน้า {current_page + 1} โหลดได้. หยุดการทำงาน. !!!\")\n",
    "                driver.save_screenshot(f'error_page_{current_page}.png')\n",
    "                break\n",
    "            except Exception as e:\n",
    "                print(f\"!!! เกิดข้อผิดพลาดที่ไม่คาดคิดขณะคลิก Next: {e}\")\n",
    "                break\n",
    "        else:\n",
    "            # ถ้าเป็นหน้าสุดท้ายแล้ว (current_page == total_pages)\n",
    "            print(\" -> เป็นหน้าสุดท้ายแล้ว, จบการทำงานสำหรับหน่วยงานนี้.\")\n",
    "\n",
    "    except Exception as e:\n",
    "        print(f\"!!! เกิดข้อผิดพลาดร้ายแรงในหน้า {current_page}: {e}. หยุดการทำงานสำหรับหน่วยงานนี้ !!!\")\n",
    "        break"
   ]
  },
  {
   "cell_type": "markdown",
   "id": "c622e59e",
   "metadata": {},
   "source": [
    "### next page 1 kick"
   ]
  },
  {
   "cell_type": "code",
   "execution_count": null,
   "id": "96abdfc8",
   "metadata": {},
   "outputs": [
    {
     "ename": "KeyboardInterrupt",
     "evalue": "",
     "output_type": "error",
     "traceback": [
      "\u001b[1;31m---------------------------------------------------------------------------\u001b[0m",
      "\u001b[1;31mKeyboardInterrupt\u001b[0m                         Traceback (most recent call last)",
      "Cell \u001b[1;32mIn[126], line 51\u001b[0m\n\u001b[0;32m     47\u001b[0m     ActionChains(driver)\u001b[38;5;241m.\u001b[39mmove_to_element(next_button)\u001b[38;5;241m.\u001b[39mclick()\u001b[38;5;241m.\u001b[39mperform()\n\u001b[0;32m     49\u001b[0m     \u001b[38;5;66;03m# รอให้แน่ใจว่าหน้าเปลี่ยนแล้ว (รอแค่ table ใหม่ปรากฏก็พอ)\u001b[39;00m\n\u001b[0;32m     50\u001b[0m     \u001b[38;5;66;03m# print(\" -> กำลังรอหน้าถัดไปโหลด...\")\u001b[39;00m\n\u001b[1;32m---> 51\u001b[0m     \u001b[43mwait\u001b[49m\u001b[38;5;241;43m.\u001b[39;49m\u001b[43muntil\u001b[49m\u001b[43m(\u001b[49m\u001b[43mEC\u001b[49m\u001b[38;5;241;43m.\u001b[39;49m\u001b[43mstaleness_of\u001b[49m\u001b[43m(\u001b[49m\u001b[43mcurrent_table\u001b[49m\u001b[43m)\u001b[49m\u001b[43m)\u001b[49m \u001b[38;5;66;03m# รอให้ตารางเก่าหายไป\u001b[39;00m\n\u001b[0;32m     52\u001b[0m     wait\u001b[38;5;241m.\u001b[39muntil(EC\u001b[38;5;241m.\u001b[39mpresence_of_element_located((By\u001b[38;5;241m.\u001b[39mXPATH, \u001b[38;5;124m\"\u001b[39m\u001b[38;5;124m//table[contains(@class, \u001b[39m\u001b[38;5;124m'\u001b[39m\u001b[38;5;124mtable-zebra\u001b[39m\u001b[38;5;124m'\u001b[39m\u001b[38;5;124m)]//tbody\u001b[39m\u001b[38;5;124m\"\u001b[39m))) \u001b[38;5;66;03m# รอให้ตารางใหม่มา\u001b[39;00m\n\u001b[0;32m     54\u001b[0m     \u001b[38;5;66;03m# print(\" -> เปลี่ยนหน้าสำเร็จ! Cell นี้ทำงานเสร็จแล้ว กดรันอีกครั้งเพื่อไปหน้าต่อไป\")\u001b[39;00m\n\u001b[0;32m     55\u001b[0m \n\u001b[0;32m     56\u001b[0m \u001b[38;5;28;01melse\u001b[39;00m:\n",
      "File \u001b[1;32mc:\\Users\\const\\AppData\\Local\\Programs\\Python\\Python312\\Lib\\site-packages\\selenium\\webdriver\\support\\wait.py:137\u001b[0m, in \u001b[0;36mWebDriverWait.until\u001b[1;34m(self, method, message)\u001b[0m\n\u001b[0;32m    135\u001b[0m     \u001b[38;5;28;01mif\u001b[39;00m time\u001b[38;5;241m.\u001b[39mmonotonic() \u001b[38;5;241m>\u001b[39m end_time:\n\u001b[0;32m    136\u001b[0m         \u001b[38;5;28;01mbreak\u001b[39;00m\n\u001b[1;32m--> 137\u001b[0m     \u001b[43mtime\u001b[49m\u001b[38;5;241;43m.\u001b[39;49m\u001b[43msleep\u001b[49m\u001b[43m(\u001b[49m\u001b[38;5;28;43mself\u001b[39;49m\u001b[38;5;241;43m.\u001b[39;49m\u001b[43m_poll\u001b[49m\u001b[43m)\u001b[49m\n\u001b[0;32m    138\u001b[0m \u001b[38;5;28;01mraise\u001b[39;00m TimeoutException(message, screen, stacktrace)\n",
      "\u001b[1;31mKeyboardInterrupt\u001b[0m: "
     ]
    }
   ],
   "source": [
    "\n",
    "# กำหนดเวลารอที่ยืดหยุ่น\n",
    "long_wait = WebDriverWait(driver, 2)\n",
    "\n",
    "# print(f\"\\n--- กำลังประมวลผลหน้าปัจจุบัน... ---\")\n",
    "\n",
    "try:\n",
    "    # 1. รอให้ตารางของหน้าปัจจุบันพร้อม\n",
    "    current_table = wait.until(EC.presence_of_element_located((By.XPATH, \"//table[contains(@class, 'table-zebra')]//tbody\")))\n",
    "    \n",
    "    # --- (ส่วนประมวลผลข้อมูลในตาราง... ที่นี่คุณจะใส่โค้ดอ่านข้อมูลแต่ละแถว) ---\n",
    "    rows_on_this_page = current_table.find_elements(By.XPATH, \".//tr\")\n",
    "    # print(f\"พบ {len(rows_on_this_page)} รายการในหน้านี้.\")\n",
    "    # (ย่อไว้เพื่อความกระชับ)\n",
    "    for i in range(len(rows_on_this_page)):\n",
    "        # ... process data in the current page's table ...\n",
    "        pass # Placeholder\n",
    "\n",
    "    # 2. ตรวจสอบว่ามีหน้าถัดไปหรือไม่\n",
    "    try:\n",
    "        # ดึงข้อความ \"แสดงข้อมูล X - Y จากทั้งหมด Z\"\n",
    "        pagination_text_element = driver.find_element(By.XPATH, \"//div[contains(text(), 'แสดงข้อมูล')]\")\n",
    "        pagination_text = pagination_text_element.text\n",
    "        numbers = re.findall(r'\\d+', pagination_text)\n",
    "        \n",
    "        can_go_next = False\n",
    "        if len(numbers) >= 3:\n",
    "            last_item_shown = int(numbers[1])\n",
    "            total_items = int(numbers[2])\n",
    "            if last_item_shown < total_items:\n",
    "                can_go_next = True\n",
    "        \n",
    "        # 3. ตัดสินใจคลิก \"Next\" ถ้าทำได้\n",
    "        if can_go_next:\n",
    "            # print(\" -> พบว่ามีหน้าถัดไป, กำลังคลิก 'Next'...\")\n",
    "            \n",
    "            # หาและคลิกปุ่ม Next\n",
    "            next_page_button_selector = \"span.mx-4 + button\"\n",
    "            next_button = wait.until(EC.element_to_be_clickable((By.CSS_SELECTOR, next_page_button_selector)))\n",
    "            \n",
    "            driver.execute_script(\"arguments[0].scrollIntoView({block: 'center'});\", next_button)\n",
    "            time.sleep(0.5)\n",
    "            ActionChains(driver).move_to_element(next_button).click().perform()\n",
    "            \n",
    "            # รอให้แน่ใจว่าหน้าเปลี่ยนแล้ว (รอแค่ table ใหม่ปรากฏก็พอ)\n",
    "            # print(\" -> กำลังรอหน้าถัดไปโหลด...\")\n",
    "            wait.until(EC.staleness_of(current_table)) # รอให้ตารางเก่าหายไป\n",
    "            wait.until(EC.presence_of_element_located((By.XPATH, \"//table[contains(@class, 'table-zebra')]//tbody\"))) # รอให้ตารางใหม่มา\n",
    "            \n",
    "            # print(\" -> เปลี่ยนหน้าสำเร็จ! Cell นี้ทำงานเสร็จแล้ว กดรันอีกครั้งเพื่อไปหน้าต่อไป\")\n",
    "\n",
    "        else:\n",
    "            print(\" -> เป็นหน้าสุดท้ายแล้ว, ไม่มีหน้าถัดไปให้กด\")\n",
    "\n",
    "    except NoSuchElementException:\n",
    "        # ไม่เจอข้อความ Pagination เลย แสดงว่าเป็นหน้าสุดท้ายแน่นอน\n",
    "        print(\" -> ไม่พบข้อความ Pagination, ไม่มีหน้าถัดไปให้กด\")\n",
    "\n",
    "except Exception as e:\n",
    "    print(f\"!!! เกิดข้อผิดพลาดร้ายแรง: {e} !!!\")"
   ]
  },
  {
   "cell_type": "markdown",
   "id": "70e82379",
   "metadata": {},
   "source": [
    "### test วนเข้าแต่ละหน่วยงาน"
   ]
  },
  {
   "cell_type": "code",
   "execution_count": 92,
   "id": "47804440",
   "metadata": {},
   "outputs": [
    {
     "name": "stdout",
     "output_type": "stream",
     "text": [
      "\n",
      "========== เริ่มต้นหน่วยงาน: โครงการส่งน้ำและบำรุงรักษาแม่ลาว ==========\n",
      "กำลังค้นหาแถวของ: 'โครงการส่งน้ำและบำรุงรักษาแม่ลาว'...\n",
      "!!! เกิดข้อผิดพลาดสำหรับหน่วยงาน 'โครงการส่งน้ำและบำรุงรักษาแม่ลาว': TimeoutException - Message: \n",
      "กำลังพยายามกลับไปที่หน้าหลักเพื่อทำรายการถัดไป...\n",
      "\n",
      "========== เริ่มต้นหน่วยงาน: โครงการส่งน้ำและบำรุงรักษาแม่วัง ==========\n",
      "กำลังค้นหาแถวของ: 'โครงการส่งน้ำและบำรุงรักษาแม่วัง'...\n"
     ]
    },
    {
     "ename": "KeyboardInterrupt",
     "evalue": "",
     "output_type": "error",
     "traceback": [
      "\u001b[1;31m---------------------------------------------------------------------------\u001b[0m",
      "\u001b[1;31mKeyboardInterrupt\u001b[0m                         Traceback (most recent call last)",
      "Cell \u001b[1;32mIn[92], line 20\u001b[0m\n\u001b[0;32m     18\u001b[0m project_row_xpath \u001b[38;5;241m=\u001b[39m \u001b[38;5;124mf\u001b[39m\u001b[38;5;124m\"\u001b[39m\u001b[38;5;124m//tbody/tr[td[2][normalize-space()=\u001b[39m\u001b[38;5;124m'\u001b[39m\u001b[38;5;132;01m{\u001b[39;00morg_name\u001b[38;5;132;01m}\u001b[39;00m\u001b[38;5;124m'\u001b[39m\u001b[38;5;124m]]\u001b[39m\u001b[38;5;124m\"\u001b[39m\n\u001b[0;32m     19\u001b[0m \u001b[38;5;66;03m# รอแค่ให้แถวปรากฏก็พอ\u001b[39;00m\n\u001b[1;32m---> 20\u001b[0m \u001b[43mwait\u001b[49m\u001b[38;5;241;43m.\u001b[39;49m\u001b[43muntil\u001b[49m\u001b[43m(\u001b[49m\u001b[43mEC\u001b[49m\u001b[38;5;241;43m.\u001b[39;49m\u001b[43mpresence_of_element_located\u001b[49m\u001b[43m(\u001b[49m\u001b[43m(\u001b[49m\u001b[43mBy\u001b[49m\u001b[38;5;241;43m.\u001b[39;49m\u001b[43mXPATH\u001b[49m\u001b[43m,\u001b[49m\u001b[43m \u001b[49m\u001b[43mproject_row_xpath\u001b[49m\u001b[43m)\u001b[49m\u001b[43m)\u001b[49m\u001b[43m)\u001b[49m\n\u001b[0;32m     22\u001b[0m \u001b[38;5;66;03m# --- [แก้ไข] เปลี่ยนมาใช้ JavaScript Click เพื่อความแน่นอน ---\u001b[39;00m\n\u001b[0;32m     23\u001b[0m \u001b[38;5;66;03m# 1. หาปุ่มก่อน\u001b[39;00m\n\u001b[0;32m     24\u001b[0m action_button_xpath \u001b[38;5;241m=\u001b[39m \u001b[38;5;124mf\u001b[39m\u001b[38;5;124m\"\u001b[39m\u001b[38;5;132;01m{\u001b[39;00mproject_row_xpath\u001b[38;5;132;01m}\u001b[39;00m\u001b[38;5;124m//div[@data-tip=\u001b[39m\u001b[38;5;124m'\u001b[39m\u001b[38;5;124mเรียกดูข้อมูลแถบเดิม\u001b[39m\u001b[38;5;124m'\u001b[39m\u001b[38;5;124m]/button\u001b[39m\u001b[38;5;124m\"\u001b[39m\n",
      "File \u001b[1;32mc:\\Users\\const\\AppData\\Local\\Programs\\Python\\Python312\\Lib\\site-packages\\selenium\\webdriver\\support\\wait.py:137\u001b[0m, in \u001b[0;36mWebDriverWait.until\u001b[1;34m(self, method, message)\u001b[0m\n\u001b[0;32m    135\u001b[0m     \u001b[38;5;28;01mif\u001b[39;00m time\u001b[38;5;241m.\u001b[39mmonotonic() \u001b[38;5;241m>\u001b[39m end_time:\n\u001b[0;32m    136\u001b[0m         \u001b[38;5;28;01mbreak\u001b[39;00m\n\u001b[1;32m--> 137\u001b[0m     \u001b[43mtime\u001b[49m\u001b[38;5;241;43m.\u001b[39;49m\u001b[43msleep\u001b[49m\u001b[43m(\u001b[49m\u001b[38;5;28;43mself\u001b[39;49m\u001b[38;5;241;43m.\u001b[39;49m\u001b[43m_poll\u001b[49m\u001b[43m)\u001b[49m\n\u001b[0;32m    138\u001b[0m \u001b[38;5;28;01mraise\u001b[39;00m TimeoutException(message, screen, stacktrace)\n",
      "\u001b[1;31mKeyboardInterrupt\u001b[0m: "
     ]
    }
   ],
   "source": [
    "from selenium.common.exceptions import TimeoutException, NoSuchElementException, StaleElementReferenceException, ElementClickInterceptedException\n",
    "\n",
    "organization_names = [\n",
    "    \"โครงการส่งน้ำและบำรุงรักษาแม่ลาว\",\n",
    "    \"โครงการส่งน้ำและบำรุงรักษาแม่วัง\"\n",
    "]\n",
    "\n",
    "TARGET_TABLE_URL = \"https://cenproject.rid.go.th/track/budget?BudgetYear=2025&BudgetSourceID=1\"\n",
    "EXCEL_LOOKUP_FILE = 'table_main_2568.xlsx'\n",
    "\n",
    "# --- 2. เริ่มการวนลูปหลัก ---\n",
    "for org_name in organization_names:\n",
    "    print(f\"\\n========== เริ่มต้นหน่วยงาน: {org_name} ==========\")\n",
    "    \n",
    "    try:\n",
    "        # Step 1: ค้นหาหน่วยงานในหน้าหลักแล้วคลิก\n",
    "        print(f\"กำลังค้นหาแถวของ: '{org_name}'...\")\n",
    "        project_row_xpath = f\"//tbody/tr[td[2][normalize-space()='{org_name}']]\"\n",
    "        # รอแค่ให้แถวปรากฏก็พอ\n",
    "        wait.until(EC.presence_of_element_located((By.XPATH, project_row_xpath)))\n",
    "        \n",
    "        # --- [แก้ไข] เปลี่ยนมาใช้ JavaScript Click เพื่อความแน่นอน ---\n",
    "        # 1. หาปุ่มก่อน\n",
    "        action_button_xpath = f\"{project_row_xpath}//div[@data-tip='เรียกดูข้อมูลแถบเดิม']/button\"\n",
    "        action_button = wait.until(EC.presence_of_element_located((By.XPATH, action_button_xpath)))\n",
    "        \n",
    "        # 2. ใช้ JavaScript เพื่อคลิก (ป้องกัน ElementClickInterceptedException)\n",
    "        print(\"พบปุ่ม Action, กำลังใช้ JavaScript เพื่อคลิก...\")\n",
    "        driver.execute_script(\"arguments[0].click();\", action_button)\n",
    "        # --- จบส่วนแก้ไข ---\n",
    "        \n",
    "        # Step 2: รอให้หน้ารายละเอียด (ตารางงานย่อย) โหลด\n",
    "        wait.until(EC.presence_of_element_located((By.XPATH, \"//table[contains(@class, 'table-zebra')]//tbody\")))\n",
    "        print(\"เข้าสู่หน้ารายละเอียดงานย่อยสำเร็จ.\")\n",
    "\n",
    "        # 3.1 หาจำนวนแถวทั้งหมดก่อน\n",
    "        try:\n",
    "            subtask_rows_count = len(driver.find_elements(By.XPATH, \"//table[contains(@class, 'table-zebra')]//tbody/tr\"))\n",
    "            print(f\"พบ {subtask_rows_count} งานย่อยในหน่วยงานนี้. กำลังตรวจสอบเงื่อนไข...\")\n",
    "        except:\n",
    "            subtask_rows_count = 0\n",
    "            print(\"ไม่พบแถวงานย่อย.\")\n",
    "\n",
    "        # Step 4: กลับไปที่หน้าหลัก\n",
    "        time.sleep(10)\n",
    "        print(\"ประมวลผลหน่วยงานนี้เสร็จสิ้น, กำลังกลับไปหน้าหลัก...\")\n",
    "        driver.get(TARGET_TABLE_URL)\n",
    "        time.sleep(3)  # รอให้หน้าโหลดใหม่\n",
    "        # wait.until(EC.presence_of_element_located((By.XPATH, \"//table[contains(@class, 'table-zebra')]\")))\n",
    "        \n",
    "    except (TimeoutException, NoSuchElementException, ElementClickInterceptedException) as e:\n",
    "        # เพิ่ม ElementClickInterceptedException เข้าไปใน except block ด้วย\n",
    "        print(f\"!!! เกิดข้อผิดพลาดสำหรับหน่วยงาน '{org_name}': {type(e).__name__} - {str(e).splitlines()[0]}\")\n",
    "        print(\"กำลังพยายามกลับไปที่หน้าหลักเพื่อทำรายการถัดไป...\")\n",
    "        driver.get(TARGET_TABLE_URL)\n",
    "        try:\n",
    "            wait.until(EC.presence_of_element_located((By.XPATH, \"//table[contains(@class, 'table-zebra')]\")))\n",
    "        except:\n",
    "            print(\"!!! ไม่สามารถกลับไปยังหน้าหลักได้. หยุดการทำงาน.\")\n",
    "            break\n",
    "\n",
    "    "
   ]
  }
 ],
 "metadata": {
  "kernelspec": {
   "display_name": "Python 3",
   "language": "python",
   "name": "python3"
  },
  "language_info": {
   "codemirror_mode": {
    "name": "ipython",
    "version": 3
   },
   "file_extension": ".py",
   "mimetype": "text/x-python",
   "name": "python",
   "nbconvert_exporter": "python",
   "pygments_lexer": "ipython3",
   "version": "3.12.5"
  }
 },
 "nbformat": 4,
 "nbformat_minor": 5
}
