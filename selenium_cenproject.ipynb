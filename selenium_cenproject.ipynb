{
 "cells": [
  {
   "cell_type": "code",
   "execution_count": 5,
   "id": "d1280682",
   "metadata": {},
   "outputs": [
    {
     "name": "stdout",
     "output_type": "stream",
     "text": [
      "Requirement already satisfied: pip in c:\\users\\ball-pc\\appdata\\local\\programs\\python\\python312\\lib\\site-packages (25.1.1)\n"
     ]
    },
    {
     "name": "stderr",
     "output_type": "stream",
     "text": [
      "WARNING: Ignoring invalid distribution ~ip (C:\\Users\\ball-pc\\AppData\\Local\\Programs\\Python\\Python312\\Lib\\site-packages)\n",
      "WARNING: Ignoring invalid distribution ~lotly (C:\\Users\\ball-pc\\AppData\\Local\\Programs\\Python\\Python312\\Lib\\site-packages)\n",
      "WARNING: Ignoring invalid distribution ~ip (C:\\Users\\ball-pc\\AppData\\Local\\Programs\\Python\\Python312\\Lib\\site-packages)\n",
      "WARNING: Ignoring invalid distribution ~lotly (C:\\Users\\ball-pc\\AppData\\Local\\Programs\\Python\\Python312\\Lib\\site-packages)\n",
      "WARNING: Ignoring invalid distribution ~ip (C:\\Users\\ball-pc\\AppData\\Local\\Programs\\Python\\Python312\\Lib\\site-packages)\n",
      "WARNING: Ignoring invalid distribution ~lotly (C:\\Users\\ball-pc\\AppData\\Local\\Programs\\Python\\Python312\\Lib\\site-packages)\n"
     ]
    }
   ],
   "source": [
    "!pip install --upgrade pip"
   ]
  },
  {
   "cell_type": "code",
   "execution_count": 4,
   "id": "41a8e4c8",
   "metadata": {},
   "outputs": [
    {
     "name": "stdout",
     "output_type": "stream",
     "text": [
      "Collecting selenium\n",
      "  Downloading selenium-4.34.2-py3-none-any.whl.metadata (7.5 kB)\n",
      "Collecting webdriver_manager\n",
      "  Downloading webdriver_manager-4.0.2-py2.py3-none-any.whl.metadata (12 kB)\n",
      "Collecting urllib3~=2.5.0 (from urllib3[socks]~=2.5.0->selenium)\n",
      "  Downloading urllib3-2.5.0-py3-none-any.whl.metadata (6.5 kB)\n",
      "Collecting trio~=0.30.0 (from selenium)\n",
      "  Using cached trio-0.30.0-py3-none-any.whl.metadata (8.5 kB)\n",
      "Collecting trio-websocket~=0.12.2 (from selenium)\n",
      "  Using cached trio_websocket-0.12.2-py3-none-any.whl.metadata (5.1 kB)\n",
      "Collecting certifi>=2025.6.15 (from selenium)\n",
      "  Downloading certifi-2025.7.9-py3-none-any.whl.metadata (2.4 kB)\n",
      "Collecting typing_extensions~=4.14.0 (from selenium)\n",
      "  Downloading typing_extensions-4.14.1-py3-none-any.whl.metadata (3.0 kB)\n",
      "Collecting websocket-client~=1.8.0 (from selenium)\n",
      "  Using cached websocket_client-1.8.0-py3-none-any.whl.metadata (8.0 kB)\n",
      "Requirement already satisfied: requests in c:\\users\\ball-pc\\appdata\\local\\programs\\python\\python313\\lib\\site-packages (from webdriver_manager) (2.32.3)\n",
      "Collecting python-dotenv (from webdriver_manager)\n",
      "  Downloading python_dotenv-1.1.1-py3-none-any.whl.metadata (24 kB)\n",
      "Requirement already satisfied: packaging in c:\\users\\ball-pc\\appdata\\roaming\\python\\python313\\site-packages (from webdriver_manager) (25.0)\n",
      "Collecting attrs>=23.2.0 (from trio~=0.30.0->selenium)\n",
      "  Using cached attrs-25.3.0-py3-none-any.whl.metadata (10 kB)\n",
      "Collecting sortedcontainers (from trio~=0.30.0->selenium)\n",
      "  Using cached sortedcontainers-2.4.0-py2.py3-none-any.whl.metadata (10 kB)\n",
      "Requirement already satisfied: idna in c:\\users\\ball-pc\\appdata\\local\\programs\\python\\python313\\lib\\site-packages (from trio~=0.30.0->selenium) (3.10)\n",
      "Collecting outcome (from trio~=0.30.0->selenium)\n",
      "  Using cached outcome-1.3.0.post0-py2.py3-none-any.whl.metadata (2.6 kB)\n",
      "Collecting sniffio>=1.3.0 (from trio~=0.30.0->selenium)\n",
      "  Using cached sniffio-1.3.1-py3-none-any.whl.metadata (3.9 kB)\n",
      "Collecting cffi>=1.14 (from trio~=0.30.0->selenium)\n",
      "  Using cached cffi-1.17.1-cp313-cp313-win_amd64.whl.metadata (1.6 kB)\n",
      "Collecting wsproto>=0.14 (from trio-websocket~=0.12.2->selenium)\n",
      "  Using cached wsproto-1.2.0-py3-none-any.whl.metadata (5.6 kB)\n",
      "Collecting pysocks!=1.5.7,<2.0,>=1.5.6 (from urllib3[socks]~=2.5.0->selenium)\n",
      "  Using cached PySocks-1.7.1-py3-none-any.whl.metadata (13 kB)\n",
      "Requirement already satisfied: charset-normalizer<4,>=2 in c:\\users\\ball-pc\\appdata\\local\\programs\\python\\python313\\lib\\site-packages (from requests->webdriver_manager) (3.4.1)\n",
      "Collecting pycparser (from cffi>=1.14->trio~=0.30.0->selenium)\n",
      "  Using cached pycparser-2.22-py3-none-any.whl.metadata (943 bytes)\n",
      "Collecting h11<1,>=0.9.0 (from wsproto>=0.14->trio-websocket~=0.12.2->selenium)\n",
      "  Using cached h11-0.16.0-py3-none-any.whl.metadata (8.3 kB)\n",
      "Downloading selenium-4.34.2-py3-none-any.whl (9.4 MB)\n",
      "   ---------------------------------------- 0.0/9.4 MB ? eta -:--:--\n",
      "   ---------------- ----------------------- 3.9/9.4 MB 23.8 MB/s eta 0:00:01\n",
      "   -------------------------------------- - 9.2/9.4 MB 34.7 MB/s eta 0:00:01\n",
      "   -------------------------------------- - 9.2/9.4 MB 34.7 MB/s eta 0:00:01\n",
      "   ---------------------------------------- 9.4/9.4 MB 15.0 MB/s eta 0:00:00\n",
      "Downloading webdriver_manager-4.0.2-py2.py3-none-any.whl (27 kB)\n",
      "Downloading certifi-2025.7.9-py3-none-any.whl (159 kB)\n",
      "Using cached trio-0.30.0-py3-none-any.whl (499 kB)\n",
      "Using cached trio_websocket-0.12.2-py3-none-any.whl (21 kB)\n",
      "Downloading typing_extensions-4.14.1-py3-none-any.whl (43 kB)\n",
      "Downloading urllib3-2.5.0-py3-none-any.whl (129 kB)\n",
      "Using cached websocket_client-1.8.0-py3-none-any.whl (58 kB)\n",
      "Downloading python_dotenv-1.1.1-py3-none-any.whl (20 kB)\n",
      "Using cached attrs-25.3.0-py3-none-any.whl (63 kB)\n",
      "Using cached cffi-1.17.1-cp313-cp313-win_amd64.whl (182 kB)\n",
      "Using cached outcome-1.3.0.post0-py2.py3-none-any.whl (10 kB)\n",
      "Using cached PySocks-1.7.1-py3-none-any.whl (16 kB)\n",
      "Using cached sniffio-1.3.1-py3-none-any.whl (10 kB)\n",
      "Using cached wsproto-1.2.0-py3-none-any.whl (24 kB)\n",
      "Using cached sortedcontainers-2.4.0-py2.py3-none-any.whl (29 kB)\n",
      "Using cached h11-0.16.0-py3-none-any.whl (37 kB)\n",
      "Using cached pycparser-2.22-py3-none-any.whl (117 kB)\n",
      "Installing collected packages: sortedcontainers, websocket-client, urllib3, typing_extensions, sniffio, python-dotenv, pysocks, pycparser, h11, certifi, attrs, wsproto, outcome, cffi, webdriver_manager, trio, trio-websocket, selenium\n",
      "  Attempting uninstall: urllib3\n",
      "    Found existing installation: urllib3 2.3.0\n",
      "    Uninstalling urllib3-2.3.0:\n",
      "      Successfully uninstalled urllib3-2.3.0\n",
      "  Attempting uninstall: typing_extensions\n",
      "    Found existing installation: typing_extensions 4.12.2\n",
      "    Uninstalling typing_extensions-4.12.2:\n",
      "      Successfully uninstalled typing_extensions-4.12.2\n",
      "  Attempting uninstall: certifi\n",
      "    Found existing installation: certifi 2025.1.31\n",
      "    Uninstalling certifi-2025.1.31:\n",
      "      Successfully uninstalled certifi-2025.1.31\n",
      "Successfully installed attrs-25.3.0 certifi-2025.7.9 cffi-1.17.1 h11-0.16.0 outcome-1.3.0.post0 pycparser-2.22 pysocks-1.7.1 python-dotenv-1.1.1 selenium-4.34.2 sniffio-1.3.1 sortedcontainers-2.4.0 trio-0.30.0 trio-websocket-0.12.2 typing_extensions-4.14.1 urllib3-2.5.0 webdriver_manager-4.0.2 websocket-client-1.8.0 wsproto-1.2.0\n",
      "ติดตั้งไลบรารีเสร็จสิ้น (หากติดตั้งไปแล้ว จะแสดงว่า Requirement already satisfied)\n"
     ]
    },
    {
     "name": "stderr",
     "output_type": "stream",
     "text": [
      "  WARNING: The script wsdump.exe is installed in 'c:\\Users\\ball-pc\\AppData\\Local\\Programs\\Python\\Python313\\Scripts' which is not on PATH.\n",
      "  Consider adding this directory to PATH or, if you prefer to suppress this warning, use --no-warn-script-location.\n",
      "  WARNING: The script dotenv.exe is installed in 'c:\\Users\\ball-pc\\AppData\\Local\\Programs\\Python\\Python313\\Scripts' which is not on PATH.\n",
      "  Consider adding this directory to PATH or, if you prefer to suppress this warning, use --no-warn-script-location.\n",
      "\n",
      "[notice] A new release of pip is available: 25.0.1 -> 25.1.1\n",
      "[notice] To update, run: python.exe -m pip install --upgrade pip\n"
     ]
    }
   ],
   "source": [
    "# Cell 1: ติดตั้งไลบรารี\n",
    "import sys\n",
    "!{sys.executable} -m pip install selenium webdriver_manager\n",
    "print(\"ติดตั้งไลบรารีเสร็จสิ้น (หากติดตั้งไปแล้ว จะแสดงว่า Requirement already satisfied)\")"
   ]
  },
  {
   "cell_type": "code",
   "execution_count": 6,
   "id": "cadf0789",
   "metadata": {},
   "outputs": [
    {
     "name": "stdout",
     "output_type": "stream",
     "text": [
      "c:\\Users\\ball-pc\\AppData\\Local\\Programs\\Python\\Python313\\python.exe\n"
     ]
    }
   ],
   "source": [
    "import sys\n",
    "print(sys.executable)"
   ]
  },
  {
   "cell_type": "code",
   "execution_count": 4,
   "id": "1dc4d780",
   "metadata": {},
   "outputs": [
    {
     "name": "stdout",
     "output_type": "stream",
     "text": [
      "การตั้งค่าเสร็จสิ้น\n"
     ]
    }
   ],
   "source": [
    "# --- Cell 1: Imports และการตั้งค่า ---\n",
    "import pandas as pd\n",
    "from selenium import webdriver\n",
    "from selenium.webdriver.chrome.service import Service\n",
    "from selenium.webdriver.common.by import By\n",
    "from selenium.webdriver.support.ui import WebDriverWait\n",
    "from selenium.webdriver.support import expected_conditions as EC\n",
    "from selenium.common.exceptions import TimeoutException, NoSuchElementException\n",
    "from webdriver_manager.chrome import ChromeDriverManager\n",
    "import time\n",
    "import os\n",
    "from dotenv import load_dotenv\n",
    "\n",
    "# โหลดค่าจากไฟล์ .env\n",
    "load_dotenv()\n",
    "\n",
    "# --- ค่าคงที่ ---\n",
    "LOGIN_URL = \"https://cenproject.rid.go.th/\"\n",
    "YOUR_USERNAME = os.getenv(\"CEN_USERNAME\")\n",
    "YOUR_PASSWORD = os.getenv(\"CEN_PASSWORD\")\n",
    "EXCEL_FILE_PATH = 'data.xlsx' # <<<<---- ระบุชื่อไฟล์ Excel ของคุณที่นี่\n",
    "OUTPUT_EXCEL_PATH = 'result_data.xlsx' # <<<<---- ไฟล์ผลลัพธ์ที่จะถูกสร้างขึ้น\n",
    "\n",
    "print(\"การตั้งค่าเสร็จสิ้น\")"
   ]
  },
  {
   "cell_type": "code",
   "execution_count": 5,
   "id": "1d8a03b9",
   "metadata": {},
   "outputs": [
    {
     "name": "stdout",
     "output_type": "stream",
     "text": [
      "rid2ez2 wa792d\n"
     ]
    }
   ],
   "source": [
    "print(YOUR_USERNAME, YOUR_PASSWORD)"
   ]
  },
  {
   "cell_type": "code",
   "execution_count": 6,
   "id": "9e762e77",
   "metadata": {},
   "outputs": [
    {
     "name": "stdout",
     "output_type": "stream",
     "text": [
      "กำลังเริ่มต้น WebDriver...\n",
      "กำลังเข้าสู่หน้า Login: https://cenproject.rid.go.th/\n",
      "กำลังรอหน้า Login...\n",
      "กำลังกรอกข้อมูล Login...\n",
      "Login สำเร็จ\n",
      "กำลังรอลิงก์ 'ระบบติดตาม'...\n",
      "คลิก 'ระบบติดตาม' สำเร็จ\n",
      "กำลังรอให้หน้า Dashboard โหลดเสร็จ (รอให้ Loading Overlay หายไป)...\n",
      "Loading Overlay หายไปแล้ว หน้าเว็บพร้อมใช้งาน\n",
      "กำลังรอเมนู 'งบประมาณ'...\n",
      "คลิก 'งบประมาณ' สำเร็จ\n",
      "หน้าตางบประมาณโหลดเรียบร้อยแล้ว\n"
     ]
    }
   ],
   "source": [
    "# --- Cell 2: เริ่มต้น WebDriver และ Login ---\n",
    "print(\"กำลังเริ่มต้น WebDriver...\")\n",
    "service = Service(ChromeDriverManager().install())\n",
    "driver = webdriver.Chrome(service=service)\n",
    "driver.maximize_window()\n",
    "\n",
    "print(f\"กำลังเข้าสู่หน้า Login: {LOGIN_URL}\")\n",
    "driver.get(LOGIN_URL)\n",
    "\n",
    "wait = WebDriverWait(driver, 5) # เพิ่มเวลารอเป็น 20 วินาทีเผื่อเว็บโหลดช้า\n",
    "\n",
    "try:\n",
    "    # 1. Login\n",
    "    print(\"กำลังรอหน้า Login...\")\n",
    "    username_field = wait.until(EC.presence_of_element_located((By.NAME, \"Username\")))\n",
    "    password_field = wait.until(EC.presence_of_element_located((By.NAME, \"Password\")))\n",
    "    login_button = wait.until(EC.element_to_be_clickable((By.CSS_SELECTOR, \"button.btn.btn-primary[type='submit']\")))\n",
    "\n",
    "    print(\"กำลังกรอกข้อมูล Login...\")\n",
    "    username_field.send_keys(YOUR_USERNAME)\n",
    "    password_field.send_keys(YOUR_PASSWORD)\n",
    "    login_button.click()\n",
    "    print(\"Login สำเร็จ\")\n",
    "\n",
    "    # 2. กดเข้าระบบติดตาม\n",
    "    print(\"กำลังรอลิงก์ 'ระบบติดตาม'...\")\n",
    "    system_tracking_link = wait.until(EC.element_to_be_clickable((By.XPATH, \"//a[./img[@alt='banner-track']]\")))\n",
    "    system_tracking_link.click()\n",
    "    print(\"คลิก 'ระบบติดตาม' สำเร็จ\")\n",
    "\n",
    "    # --- ส่วนที่แก้ไข ---\n",
    "    # 3. รอให้หน้ากาก Loading หายไปก่อน\n",
    "    print(\"กำลังรอให้หน้า Dashboard โหลดเสร็จ (รอให้ Loading Overlay หายไป)...\")\n",
    "    loading_overlay_xpath = \"//div[contains(@style, 'display: block') and contains(@style, 'z-index: 9999')]\"\n",
    "    # เราจะรอจนกว่า Element นี้จะ \"มองไม่เห็น\" (invisible)\n",
    "    wait.until(EC.invisibility_of_element_located((By.XPATH, loading_overlay_xpath)))\n",
    "    print(\"Loading Overlay หายไปแล้ว หน้าเว็บพร้อมใช้งาน\")\n",
    "\n",
    "    # 4. ตอนนี้ค่อยคลิกเมนูงบประมาณ\n",
    "    print(\"กำลังรอเมนู 'งบประมาณ'...\")\n",
    "    budget_menu_left_nav = wait.until(EC.element_to_be_clickable((By.XPATH, \"//a[contains(., 'งบประมาณ')]\")))\n",
    "    budget_menu_left_nav.click()\n",
    "    print(\"คลิก 'งบประมาณ' สำเร็จ\")\n",
    "    \n",
    "    # 5. รอให้ตารางข้อมูลหลักโหลดเสร็จ (ยังคงสำคัญ)\n",
    "    # wait.until(EC.presence_of_element_located((By.ID, \"DataTables_Table_0\"))) \n",
    "    print(\"หน้าตางบประมาณโหลดเรียบร้อยแล้ว\")\n",
    "\n",
    "except Exception as e:\n",
    "    print(f\"เกิดข้อผิดพลาดระหว่างการ Login หรือการนำทางเริ่มต้น: {e}\")\n",
    "    # driver.quit() # อาจจะคอมเมนต์ไว้ก่อนตอนทดสอบ"
   ]
  },
  {
   "cell_type": "code",
   "execution_count": null,
   "id": "38ecbfb5",
   "metadata": {},
   "outputs": [
    {
     "name": "stdout",
     "output_type": "stream",
     "text": [
      "--- เริ่มต้นกระบวนการใน Cell 4 ---\n",
      "!!! ไม่พบไฟล์ 'data.xlsx' กรุณาตรวจสอบและรันใหม่ !!!\n"
     ]
    },
    {
     "name": "stderr",
     "output_type": "stream",
     "text": [
      "Exception ignored in: <function Service.__del__ at 0x0000020277DA1620>\n",
      "Traceback (most recent call last):\n",
      "  File \"c:\\Users\\const\\AppData\\Local\\Programs\\Python\\Python312\\Lib\\site-packages\\selenium\\webdriver\\common\\service.py\", line 196, in __del__\n",
      "    self.stop()\n",
      "  File \"c:\\Users\\const\\AppData\\Local\\Programs\\Python\\Python312\\Lib\\site-packages\\selenium\\webdriver\\common\\service.py\", line 152, in stop\n",
      "    self.send_remote_shutdown_command()\n",
      "  File \"c:\\Users\\const\\AppData\\Local\\Programs\\Python\\Python312\\Lib\\site-packages\\selenium\\webdriver\\common\\service.py\", line 137, in send_remote_shutdown_command\n",
      "    if not self.is_connectable():\n",
      "           ^^^^^^^^^^^^^^^^^^^^^\n",
      "  File \"c:\\Users\\const\\AppData\\Local\\Programs\\Python\\Python312\\Lib\\site-packages\\selenium\\webdriver\\common\\service.py\", line 126, in is_connectable\n",
      "    return utils.is_connectable(self.port)\n",
      "           ^^^^^^^^^^^^^^^^^^^^^^^^^^^^^^^\n",
      "  File \"c:\\Users\\const\\AppData\\Local\\Programs\\Python\\Python312\\Lib\\site-packages\\selenium\\webdriver\\common\\utils.py\", line 99, in is_connectable\n",
      "    socket_ = socket.create_connection((host, port), 1)\n",
      "              ^^^^^^^^^^^^^^^^^^^^^^^^^^^^^^^^^^^^^^^^^\n",
      "  File \"c:\\Users\\const\\AppData\\Local\\Programs\\Python\\Python312\\Lib\\socket.py\", line 857, in create_connection\n",
      "    exceptions.clear()  # raise only the last error\n",
      "    ^^^^^^^^^^^^^^^^^^\n",
      "KeyboardInterrupt: \n"
     ]
    },
    {
     "ename": "FileNotFoundError",
     "evalue": "[Errno 2] No such file or directory: 'data.xlsx'",
     "output_type": "error",
     "traceback": [
      "\u001b[1;31m---------------------------------------------------------------------------\u001b[0m",
      "\u001b[1;31mFileNotFoundError\u001b[0m                         Traceback (most recent call last)",
      "Cell \u001b[1;32mIn[85], line 16\u001b[0m\n\u001b[0;32m     14\u001b[0m \u001b[38;5;66;03m# อ่านข้อมูลจาก Excel\u001b[39;00m\n\u001b[0;32m     15\u001b[0m \u001b[38;5;28;01mtry\u001b[39;00m:\n\u001b[1;32m---> 16\u001b[0m     df \u001b[38;5;241m=\u001b[39m \u001b[43mpd\u001b[49m\u001b[38;5;241;43m.\u001b[39;49m\u001b[43mread_excel\u001b[49m\u001b[43m(\u001b[49m\u001b[43mEXCEL_FILE_PATH\u001b[49m\u001b[43m)\u001b[49m\n\u001b[0;32m     17\u001b[0m     \u001b[38;5;28;01mif\u001b[39;00m \u001b[38;5;124m'\u001b[39m\u001b[38;5;124mStatus\u001b[39m\u001b[38;5;124m'\u001b[39m \u001b[38;5;129;01mnot\u001b[39;00m \u001b[38;5;129;01min\u001b[39;00m df\u001b[38;5;241m.\u001b[39mcolumns:\n\u001b[0;32m     18\u001b[0m         df[\u001b[38;5;124m'\u001b[39m\u001b[38;5;124mStatus\u001b[39m\u001b[38;5;124m'\u001b[39m] \u001b[38;5;241m=\u001b[39m \u001b[38;5;124m'\u001b[39m\u001b[38;5;124m'\u001b[39m\n",
      "File \u001b[1;32mc:\\Users\\const\\AppData\\Local\\Programs\\Python\\Python312\\Lib\\site-packages\\pandas\\io\\excel\\_base.py:495\u001b[0m, in \u001b[0;36mread_excel\u001b[1;34m(io, sheet_name, header, names, index_col, usecols, dtype, engine, converters, true_values, false_values, skiprows, nrows, na_values, keep_default_na, na_filter, verbose, parse_dates, date_parser, date_format, thousands, decimal, comment, skipfooter, storage_options, dtype_backend, engine_kwargs)\u001b[0m\n\u001b[0;32m    493\u001b[0m \u001b[38;5;28;01mif\u001b[39;00m \u001b[38;5;129;01mnot\u001b[39;00m \u001b[38;5;28misinstance\u001b[39m(io, ExcelFile):\n\u001b[0;32m    494\u001b[0m     should_close \u001b[38;5;241m=\u001b[39m \u001b[38;5;28;01mTrue\u001b[39;00m\n\u001b[1;32m--> 495\u001b[0m     io \u001b[38;5;241m=\u001b[39m \u001b[43mExcelFile\u001b[49m\u001b[43m(\u001b[49m\n\u001b[0;32m    496\u001b[0m \u001b[43m        \u001b[49m\u001b[43mio\u001b[49m\u001b[43m,\u001b[49m\n\u001b[0;32m    497\u001b[0m \u001b[43m        \u001b[49m\u001b[43mstorage_options\u001b[49m\u001b[38;5;241;43m=\u001b[39;49m\u001b[43mstorage_options\u001b[49m\u001b[43m,\u001b[49m\n\u001b[0;32m    498\u001b[0m \u001b[43m        \u001b[49m\u001b[43mengine\u001b[49m\u001b[38;5;241;43m=\u001b[39;49m\u001b[43mengine\u001b[49m\u001b[43m,\u001b[49m\n\u001b[0;32m    499\u001b[0m \u001b[43m        \u001b[49m\u001b[43mengine_kwargs\u001b[49m\u001b[38;5;241;43m=\u001b[39;49m\u001b[43mengine_kwargs\u001b[49m\u001b[43m,\u001b[49m\n\u001b[0;32m    500\u001b[0m \u001b[43m    \u001b[49m\u001b[43m)\u001b[49m\n\u001b[0;32m    501\u001b[0m \u001b[38;5;28;01melif\u001b[39;00m engine \u001b[38;5;129;01mand\u001b[39;00m engine \u001b[38;5;241m!=\u001b[39m io\u001b[38;5;241m.\u001b[39mengine:\n\u001b[0;32m    502\u001b[0m     \u001b[38;5;28;01mraise\u001b[39;00m \u001b[38;5;167;01mValueError\u001b[39;00m(\n\u001b[0;32m    503\u001b[0m         \u001b[38;5;124m\"\u001b[39m\u001b[38;5;124mEngine should not be specified when passing \u001b[39m\u001b[38;5;124m\"\u001b[39m\n\u001b[0;32m    504\u001b[0m         \u001b[38;5;124m\"\u001b[39m\u001b[38;5;124man ExcelFile - ExcelFile already has the engine set\u001b[39m\u001b[38;5;124m\"\u001b[39m\n\u001b[0;32m    505\u001b[0m     )\n",
      "File \u001b[1;32mc:\\Users\\const\\AppData\\Local\\Programs\\Python\\Python312\\Lib\\site-packages\\pandas\\io\\excel\\_base.py:1550\u001b[0m, in \u001b[0;36mExcelFile.__init__\u001b[1;34m(self, path_or_buffer, engine, storage_options, engine_kwargs)\u001b[0m\n\u001b[0;32m   1548\u001b[0m     ext \u001b[38;5;241m=\u001b[39m \u001b[38;5;124m\"\u001b[39m\u001b[38;5;124mxls\u001b[39m\u001b[38;5;124m\"\u001b[39m\n\u001b[0;32m   1549\u001b[0m \u001b[38;5;28;01melse\u001b[39;00m:\n\u001b[1;32m-> 1550\u001b[0m     ext \u001b[38;5;241m=\u001b[39m \u001b[43minspect_excel_format\u001b[49m\u001b[43m(\u001b[49m\n\u001b[0;32m   1551\u001b[0m \u001b[43m        \u001b[49m\u001b[43mcontent_or_path\u001b[49m\u001b[38;5;241;43m=\u001b[39;49m\u001b[43mpath_or_buffer\u001b[49m\u001b[43m,\u001b[49m\u001b[43m \u001b[49m\u001b[43mstorage_options\u001b[49m\u001b[38;5;241;43m=\u001b[39;49m\u001b[43mstorage_options\u001b[49m\n\u001b[0;32m   1552\u001b[0m \u001b[43m    \u001b[49m\u001b[43m)\u001b[49m\n\u001b[0;32m   1553\u001b[0m     \u001b[38;5;28;01mif\u001b[39;00m ext \u001b[38;5;129;01mis\u001b[39;00m \u001b[38;5;28;01mNone\u001b[39;00m:\n\u001b[0;32m   1554\u001b[0m         \u001b[38;5;28;01mraise\u001b[39;00m \u001b[38;5;167;01mValueError\u001b[39;00m(\n\u001b[0;32m   1555\u001b[0m             \u001b[38;5;124m\"\u001b[39m\u001b[38;5;124mExcel file format cannot be determined, you must specify \u001b[39m\u001b[38;5;124m\"\u001b[39m\n\u001b[0;32m   1556\u001b[0m             \u001b[38;5;124m\"\u001b[39m\u001b[38;5;124man engine manually.\u001b[39m\u001b[38;5;124m\"\u001b[39m\n\u001b[0;32m   1557\u001b[0m         )\n",
      "File \u001b[1;32mc:\\Users\\const\\AppData\\Local\\Programs\\Python\\Python312\\Lib\\site-packages\\pandas\\io\\excel\\_base.py:1402\u001b[0m, in \u001b[0;36minspect_excel_format\u001b[1;34m(content_or_path, storage_options)\u001b[0m\n\u001b[0;32m   1399\u001b[0m \u001b[38;5;28;01mif\u001b[39;00m \u001b[38;5;28misinstance\u001b[39m(content_or_path, \u001b[38;5;28mbytes\u001b[39m):\n\u001b[0;32m   1400\u001b[0m     content_or_path \u001b[38;5;241m=\u001b[39m BytesIO(content_or_path)\n\u001b[1;32m-> 1402\u001b[0m \u001b[38;5;28;01mwith\u001b[39;00m \u001b[43mget_handle\u001b[49m\u001b[43m(\u001b[49m\n\u001b[0;32m   1403\u001b[0m \u001b[43m    \u001b[49m\u001b[43mcontent_or_path\u001b[49m\u001b[43m,\u001b[49m\u001b[43m \u001b[49m\u001b[38;5;124;43m\"\u001b[39;49m\u001b[38;5;124;43mrb\u001b[39;49m\u001b[38;5;124;43m\"\u001b[39;49m\u001b[43m,\u001b[49m\u001b[43m \u001b[49m\u001b[43mstorage_options\u001b[49m\u001b[38;5;241;43m=\u001b[39;49m\u001b[43mstorage_options\u001b[49m\u001b[43m,\u001b[49m\u001b[43m \u001b[49m\u001b[43mis_text\u001b[49m\u001b[38;5;241;43m=\u001b[39;49m\u001b[38;5;28;43;01mFalse\u001b[39;49;00m\n\u001b[0;32m   1404\u001b[0m \u001b[43m\u001b[49m\u001b[43m)\u001b[49m \u001b[38;5;28;01mas\u001b[39;00m handle:\n\u001b[0;32m   1405\u001b[0m     stream \u001b[38;5;241m=\u001b[39m handle\u001b[38;5;241m.\u001b[39mhandle\n\u001b[0;32m   1406\u001b[0m     stream\u001b[38;5;241m.\u001b[39mseek(\u001b[38;5;241m0\u001b[39m)\n",
      "File \u001b[1;32mc:\\Users\\const\\AppData\\Local\\Programs\\Python\\Python312\\Lib\\site-packages\\pandas\\io\\common.py:882\u001b[0m, in \u001b[0;36mget_handle\u001b[1;34m(path_or_buf, mode, encoding, compression, memory_map, is_text, errors, storage_options)\u001b[0m\n\u001b[0;32m    873\u001b[0m         handle \u001b[38;5;241m=\u001b[39m \u001b[38;5;28mopen\u001b[39m(\n\u001b[0;32m    874\u001b[0m             handle,\n\u001b[0;32m    875\u001b[0m             ioargs\u001b[38;5;241m.\u001b[39mmode,\n\u001b[1;32m   (...)\u001b[0m\n\u001b[0;32m    878\u001b[0m             newline\u001b[38;5;241m=\u001b[39m\u001b[38;5;124m\"\u001b[39m\u001b[38;5;124m\"\u001b[39m,\n\u001b[0;32m    879\u001b[0m         )\n\u001b[0;32m    880\u001b[0m     \u001b[38;5;28;01melse\u001b[39;00m:\n\u001b[0;32m    881\u001b[0m         \u001b[38;5;66;03m# Binary mode\u001b[39;00m\n\u001b[1;32m--> 882\u001b[0m         handle \u001b[38;5;241m=\u001b[39m \u001b[38;5;28;43mopen\u001b[39;49m\u001b[43m(\u001b[49m\u001b[43mhandle\u001b[49m\u001b[43m,\u001b[49m\u001b[43m \u001b[49m\u001b[43mioargs\u001b[49m\u001b[38;5;241;43m.\u001b[39;49m\u001b[43mmode\u001b[49m\u001b[43m)\u001b[49m\n\u001b[0;32m    883\u001b[0m     handles\u001b[38;5;241m.\u001b[39mappend(handle)\n\u001b[0;32m    885\u001b[0m \u001b[38;5;66;03m# Convert BytesIO or file objects passed with an encoding\u001b[39;00m\n",
      "\u001b[1;31mFileNotFoundError\u001b[0m: [Errno 2] No such file or directory: 'data.xlsx'"
     ]
    }
   ],
   "source": [
    "# --- Cell 4: วนลูปค้นหาโครงการและคลิก Action ---\n",
    "# สมมติว่า driver และ wait ถูกสร้างและพร้อมใช้งานจาก cell ก่อนหน้า\n",
    "# และ EXCEL_FILE_PATH, OUTPUT_EXCEL_PATH ถูกกำหนดค่าไว้แล้ว\n",
    "\n",
    "print(\"--- เริ่มต้นกระบวนการใน Cell 4 ---\")\n",
    "\n",
    "# อ่านข้อมูลจาก Excel\n",
    "try:\n",
    "    df = pd.read_excel(EXCEL_FILE_PATH)\n",
    "    if 'Status' not in df.columns:\n",
    "        df['Status'] = ''\n",
    "    if 'ErrorMessage' not in df.columns:\n",
    "        df['ErrorMessage'] = ''\n",
    "    print(f\"อ่านไฟล์ '{EXCEL_FILE_PATH}' สำเร็จ พบ {len(df)} รายการ\")\n",
    "except FileNotFoundError:\n",
    "    print(f\"!!! ไม่พบไฟล์ '{EXCEL_FILE_PATH}' กรุณาตรวจสอบและรันใหม่ !!!\")\n",
    "    # หยุดการทำงานถ้าไม่พบไฟล์\n",
    "    raise # ส่ง error ต่อไปเพื่อหยุดการทำงานของ Notebook\n",
    "\n",
    "# วนลูปทีละแถวใน DataFrame\n",
    "for index, row in df.iterrows():\n",
    "    # ข้ามรายการที่ทำสำเร็จใน step ก่อนๆ แล้ว (ถ้ามี)\n",
    "    # หรือจะเริ่มใหม่ทั้งหมดก็ได้โดยลบคอมเมนต์นี้ออก\n",
    "    # if 'Clicked' in str(row['Status']): \n",
    "    #     print(f\"ข้ามรายการ {index + 1} '{row['ProjectName']}' เพราะเคยคลิกแล้ว\")\n",
    "    #     continue\n",
    "\n",
    "    print(f\"\\n===== [รายการที่ {index + 1}/{len(df)}] กำลังค้นหา: {row['ProjectName']} =====\")\n",
    "    \n",
    "    try:\n",
    "        project_name = row['ProjectName']\n",
    "\n",
    "        # Step 4.1: ค้นหาแถว (tr) ของโครงการที่ต้องการ\n",
    "        # XPath นี้จะหาแถวที่มีคอลัมน์ (td) ที่ 2 ที่มีข้อความตรงกับชื่อโครงการ\n",
    "        # td[2] มาจากโครงสร้าง <td>1</td><td>ชื่องาน...</td>\n",
    "        project_row_xpath = f\"//tbody/tr[td[2][contains(., '{project_name}')]]\"\n",
    "        \n",
    "        print(f\"  > กำลังรอให้แถวของ '{project_name}' ปรากฏ...\")\n",
    "        # เราใช้ visibility_of_element_located เพื่อให้แน่ใจว่าแถวนั้นมองเห็นได้และไม่ได้ถูกซ่อนอยู่\n",
    "        project_row = wait.until(EC.visibility_of_element_located((By.XPATH, project_row_xpath)))\n",
    "        print(\"  > พบแถวโครงการแล้ว\")\n",
    "\n",
    "        # Step 4.2: ค้นหาปุ่ม \"เรียกดูข้อมูลแถบเดิม\" และคลิก\n",
    "        # เราจะใช้ data-tip ที่เป็นเอกลักษณ์และเสถียรที่สุด\n",
    "        action_button_xpath = \".//button[@data-tip='เรียกดูข้อมูลแถบเดิม']\"\n",
    "        \n",
    "        action_button = project_row.find_element(By.XPATH, action_button_xpath)\n",
    "        print(\"  > พบปุ่ม Action แล้ว, กำลังคลิก...\")\n",
    "        \n",
    "        action_button.click()\n",
    "        \n",
    "        print(f\"  > คลิก Action ของ '{project_name}' สำเร็จแล้ว\")\n",
    "\n",
    "        # --- จุดพักสำหรับขั้นตอนต่อไป ---\n",
    "        # หลังจากคลิกแล้ว รายการย่อยจะปรากฏขึ้น\n",
    "        # เราต้องใส่โค้ดสำหรับ Step 5 (ค้นหารายการย่อย) ต่อที่นี่\n",
    "        \n",
    "        # ใส่การหน่วงเวลาเล็กน้อยเพื่อให้เว็บมีเวลาแสดงผลรายการย่อย\n",
    "        time.sleep(1.5) # เพิ่มเวลาเล็กน้อยเผื่อ animation ซับซ้อน\n",
    "        \n",
    "        # อัปเดตสถานะใน DataFrame ว่าคลิกสำเร็จ\n",
    "        df.loc[index, 'Status'] = 'Action 1 Clicked'\n",
    "        df.loc[index, 'ErrorMessage'] = ''\n",
    "\n",
    "    except TimeoutException:\n",
    "        error_msg = f\"ไม่พบโครงการ '{project_name}' บนหน้าเว็บ (หมดเวลารอ)\"\n",
    "        print(f\"  > !!! ERROR: {error_msg}\")\n",
    "        df.loc[index, 'Status'] = 'Failed: Project Not Found'\n",
    "        df.loc[index, 'ErrorMessage'] = error_msg\n",
    "        continue # ข้ามไปทำรายการถัดไป\n",
    "\n",
    "    except NoSuchElementException:\n",
    "        error_msg = f\"พบแถวโครงการ แต่ไม่พบปุ่ม Action 'เรียกดูข้อมูลแถบเดิม'\"\n",
    "        print(f\"  > !!! ERROR: {error_msg}\")\n",
    "        df.loc[index, 'Status'] = 'Failed: Action Button Not Found'\n",
    "        df.loc[index, 'ErrorMessage'] = error_msg\n",
    "        continue # ข้ามไปทำรายการถัดไป\n",
    "\n",
    "    except Exception as e:\n",
    "        error_msg = str(e).splitlines()[0]\n",
    "        print(f\"  > !!! ERROR: เกิดข้อผิดพลาดที่ไม่คาดคิด: {error_msg}\")\n",
    "        df.loc[index, 'Status'] = 'Failed: Unknown Error'\n",
    "        df.loc[index, 'ErrorMessage'] = error_msg\n",
    "        # หากเกิด error ที่ไม่คาดคิด อาจจะต้องโหลดหน้าใหม่เพื่อ reset สถานะ\n",
    "        # driver.get(TARGET_BUDGET_URL)\n",
    "        # wait.until(EC.presence_of_element_located((By.TAG_NAME, \"tbody\")))\n",
    "        continue\n",
    "\n",
    "    finally:\n",
    "        # บันทึกผลลัพธ์ลง Excel ทุกๆ 10 รายการ หรือเมื่อทำรายการสุดท้ายเสร็จ\n",
    "        if (index + 1) % 10 == 0 or (index + 1) == len(df):\n",
    "            print(f\"===== กำลังบันทึกความคืบหน้าลงในไฟล์ '{OUTPUT_EXCEL_PATH}' =====\")\n",
    "            df.to_excel(OUTPUT_EXCEL_PATH, index=False, engine='openpyxl')\n",
    "\n",
    "print(\"\\n===== กระบวนการใน Cell 4 เสร็จสิ้น =====\")"
   ]
  }
 ],
 "metadata": {
  "kernelspec": {
   "display_name": "Python 3",
   "language": "python",
   "name": "python3"
  },
  "language_info": {
   "codemirror_mode": {
    "name": "ipython",
    "version": 3
   },
   "file_extension": ".py",
   "mimetype": "text/x-python",
   "name": "python",
   "nbconvert_exporter": "python",
   "pygments_lexer": "ipython3",
   "version": "3.13.2"
  }
 },
 "nbformat": 4,
 "nbformat_minor": 5
}
