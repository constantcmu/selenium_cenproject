{
 "cells": [
  {
   "cell_type": "markdown",
   "id": "9c047a84",
   "metadata": {},
   "source": [
    "# ติดตั้งไลบรารี"
   ]
  },
  {
   "cell_type": "code",
   "execution_count": null,
   "id": "d1280682",
   "metadata": {},
   "outputs": [
    {
     "name": "stdout",
     "output_type": "stream",
     "text": [
      "Requirement already satisfied: pip in c:\\users\\ball-pc\\appdata\\local\\programs\\python\\python312\\lib\\site-packages (25.1.1)\n"
     ]
    },
    {
     "name": "stderr",
     "output_type": "stream",
     "text": [
      "WARNING: Ignoring invalid distribution ~ip (C:\\Users\\ball-pc\\AppData\\Local\\Programs\\Python\\Python312\\Lib\\site-packages)\n",
      "WARNING: Ignoring invalid distribution ~lotly (C:\\Users\\ball-pc\\AppData\\Local\\Programs\\Python\\Python312\\Lib\\site-packages)\n",
      "WARNING: Ignoring invalid distribution ~ip (C:\\Users\\ball-pc\\AppData\\Local\\Programs\\Python\\Python312\\Lib\\site-packages)\n",
      "WARNING: Ignoring invalid distribution ~lotly (C:\\Users\\ball-pc\\AppData\\Local\\Programs\\Python\\Python312\\Lib\\site-packages)\n",
      "WARNING: Ignoring invalid distribution ~ip (C:\\Users\\ball-pc\\AppData\\Local\\Programs\\Python\\Python312\\Lib\\site-packages)\n",
      "WARNING: Ignoring invalid distribution ~lotly (C:\\Users\\ball-pc\\AppData\\Local\\Programs\\Python\\Python312\\Lib\\site-packages)\n"
     ]
    }
   ],
   "source": [
    "!pip install --upgrade pip\n",
    "!pip install openpyxl"
   ]
  },
  {
   "cell_type": "code",
   "execution_count": 54,
   "id": "41a8e4c8",
   "metadata": {},
   "outputs": [
    {
     "name": "stdout",
     "output_type": "stream",
     "text": [
      "Requirement already satisfied: selenium in c:\\users\\const\\appdata\\local\\programs\\python\\python312\\lib\\site-packages (4.34.2)ติดตั้งไลบรารีเสร็จสิ้น (หากติดตั้งไปแล้ว จะแสดงว่า Requirement already satisfied)\n",
      "\n",
      "Requirement already satisfied: webdriver_manager in c:\\users\\const\\appdata\\local\\programs\\python\\python312\\lib\\site-packages (4.0.2)\n",
      "Requirement already satisfied: openpyxl in c:\\users\\const\\appdata\\local\\programs\\python\\python312\\lib\\site-packages (3.1.5)\n",
      "Requirement already satisfied: urllib3~=2.5.0 in c:\\users\\const\\appdata\\local\\programs\\python\\python312\\lib\\site-packages (from urllib3[socks]~=2.5.0->selenium) (2.5.0)\n",
      "Requirement already satisfied: trio~=0.30.0 in c:\\users\\const\\appdata\\local\\programs\\python\\python312\\lib\\site-packages (from selenium) (0.30.0)\n",
      "Requirement already satisfied: trio-websocket~=0.12.2 in c:\\users\\const\\appdata\\local\\programs\\python\\python312\\lib\\site-packages (from selenium) (0.12.2)\n",
      "Requirement already satisfied: certifi>=2025.6.15 in c:\\users\\const\\appdata\\local\\programs\\python\\python312\\lib\\site-packages (from selenium) (2025.6.15)\n",
      "Requirement already satisfied: typing_extensions~=4.14.0 in c:\\users\\const\\appdata\\local\\programs\\python\\python312\\lib\\site-packages (from selenium) (4.14.1)\n",
      "Requirement already satisfied: websocket-client~=1.8.0 in c:\\users\\const\\appdata\\local\\programs\\python\\python312\\lib\\site-packages (from selenium) (1.8.0)\n",
      "Requirement already satisfied: requests in c:\\users\\const\\appdata\\local\\programs\\python\\python312\\lib\\site-packages (from webdriver_manager) (2.32.3)\n",
      "Requirement already satisfied: python-dotenv in c:\\users\\const\\appdata\\local\\programs\\python\\python312\\lib\\site-packages (from webdriver_manager) (1.1.1)\n",
      "Requirement already satisfied: packaging in c:\\users\\const\\appdata\\roaming\\python\\python312\\site-packages (from webdriver_manager) (23.2)\n",
      "Requirement already satisfied: et-xmlfile in c:\\users\\const\\appdata\\local\\programs\\python\\python312\\lib\\site-packages (from openpyxl) (2.0.0)\n",
      "Requirement already satisfied: attrs>=23.2.0 in c:\\users\\const\\appdata\\local\\programs\\python\\python312\\lib\\site-packages (from trio~=0.30.0->selenium) (25.3.0)\n",
      "Requirement already satisfied: sortedcontainers in c:\\users\\const\\appdata\\local\\programs\\python\\python312\\lib\\site-packages (from trio~=0.30.0->selenium) (2.4.0)\n",
      "Requirement already satisfied: idna in c:\\users\\const\\appdata\\local\\programs\\python\\python312\\lib\\site-packages (from trio~=0.30.0->selenium) (3.10)\n",
      "Requirement already satisfied: outcome in c:\\users\\const\\appdata\\local\\programs\\python\\python312\\lib\\site-packages (from trio~=0.30.0->selenium) (1.3.0.post0)\n",
      "Requirement already satisfied: sniffio>=1.3.0 in c:\\users\\const\\appdata\\local\\programs\\python\\python312\\lib\\site-packages (from trio~=0.30.0->selenium) (1.3.1)\n",
      "Requirement already satisfied: cffi>=1.14 in c:\\users\\const\\appdata\\local\\programs\\python\\python312\\lib\\site-packages (from trio~=0.30.0->selenium) (1.17.1)\n",
      "Requirement already satisfied: wsproto>=0.14 in c:\\users\\const\\appdata\\local\\programs\\python\\python312\\lib\\site-packages (from trio-websocket~=0.12.2->selenium) (1.2.0)\n",
      "Requirement already satisfied: pysocks!=1.5.7,<2.0,>=1.5.6 in c:\\users\\const\\appdata\\local\\programs\\python\\python312\\lib\\site-packages (from urllib3[socks]~=2.5.0->selenium) (1.7.1)\n",
      "Requirement already satisfied: charset-normalizer<4,>=2 in c:\\users\\const\\appdata\\local\\programs\\python\\python312\\lib\\site-packages (from requests->webdriver_manager) (3.4.1)\n",
      "Requirement already satisfied: pycparser in c:\\users\\const\\appdata\\local\\programs\\python\\python312\\lib\\site-packages (from cffi>=1.14->trio~=0.30.0->selenium) (2.22)\n",
      "Requirement already satisfied: h11<1,>=0.9.0 in c:\\users\\const\\appdata\\local\\programs\\python\\python312\\lib\\site-packages (from wsproto>=0.14->trio-websocket~=0.12.2->selenium) (0.16.0)\n"
     ]
    },
    {
     "name": "stderr",
     "output_type": "stream",
     "text": [
      "\n",
      "[notice] A new release of pip is available: 25.0.1 -> 25.1.1\n",
      "[notice] To update, run: python.exe -m pip install --upgrade pip\n"
     ]
    }
   ],
   "source": [
    "# Cell 1: ติดตั้งไลบรารี\n",
    "import sys\n",
    "!{sys.executable} -m pip install selenium webdriver_manager openpyxl\n",
    "print(\"ติดตั้งไลบรารีเสร็จสิ้น (หากติดตั้งไปแล้ว จะแสดงว่า Requirement already satisfied)\")"
   ]
  },
  {
   "cell_type": "markdown",
   "id": "60ea6a08",
   "metadata": {},
   "source": [
    "### ตรวจหาที่ จะติดตั้ง "
   ]
  },
  {
   "cell_type": "code",
   "execution_count": 55,
   "id": "cadf0789",
   "metadata": {},
   "outputs": [
    {
     "name": "stdout",
     "output_type": "stream",
     "text": [
      "c:\\Users\\const\\AppData\\Local\\Programs\\Python\\Python312\\python.exe\n"
     ]
    }
   ],
   "source": [
    "import sys\n",
    "print(sys.executable)"
   ]
  },
  {
   "cell_type": "code",
   "execution_count": 56,
   "id": "1dc4d780",
   "metadata": {},
   "outputs": [
    {
     "name": "stdout",
     "output_type": "stream",
     "text": [
      "การตั้งค่าเสร็จสิ้น\n"
     ]
    }
   ],
   "source": [
    "# --- Cell 1: Imports และการตั้งค่า ---\n",
    "import pandas as pd\n",
    "from selenium import webdriver\n",
    "from selenium.webdriver.chrome.service import Service\n",
    "from selenium.webdriver.common.by import By\n",
    "from selenium.webdriver.support.ui import WebDriverWait\n",
    "from selenium.webdriver.support import expected_conditions as EC\n",
    "from selenium.common.exceptions import TimeoutException, NoSuchElementException\n",
    "from webdriver_manager.chrome import ChromeDriverManager\n",
    "\n",
    "\n",
    "import time\n",
    "import os\n",
    "from dotenv import load_dotenv\n",
    "\n",
    "# โหลดค่าจากไฟล์ .env\n",
    "load_dotenv()\n",
    "\n",
    "# --- ค่าคงที่ ---\n",
    "LOGIN_URL = \"https://cenproject.rid.go.th/\"\n",
    "YOUR_USERNAME = os.getenv(\"CEN_USERNAME\")\n",
    "YOUR_PASSWORD = os.getenv(\"CEN_PASSWORD\")\n",
    "EXCEL_FILE_PATH = 'table_main_2068.xlsx' # <<<<---- ระบุชื่อไฟล์ Excel ของคุณที่นี่\n",
    "OUTPUT_EXCEL_PATH = 'result_data.xlsx' # <<<<---- ไฟล์ผลลัพธ์ที่จะถูกสร้างขึ้น\n",
    "\n",
    "print(\"การตั้งค่าเสร็จสิ้น\")"
   ]
  },
  {
   "cell_type": "markdown",
   "id": "d84b9165",
   "metadata": {},
   "source": [
    "# 1.เปิด Chrome เพื่อ Login"
   ]
  },
  {
   "cell_type": "code",
   "execution_count": 218,
   "id": "1d8a03b9",
   "metadata": {},
   "outputs": [
    {
     "name": "stdout",
     "output_type": "stream",
     "text": [
      "rid2ez2 wa792d\n"
     ]
    }
   ],
   "source": [
    "print(YOUR_USERNAME, YOUR_PASSWORD)"
   ]
  },
  {
   "cell_type": "code",
   "execution_count": 219,
   "id": "e3689446",
   "metadata": {},
   "outputs": [
    {
     "name": "stdout",
     "output_type": "stream",
     "text": [
      "กำลังเริ่มต้น WebDriver...\n",
      "กำลังเข้าสู่หน้า Login: https://cenproject.rid.go.th/\n",
      "กำลังรอหน้า Login...\n",
      "กำลังกรอกข้อมูล Login...\n",
      "Login สำเร็จ\n",
      "กำลังรอลิงก์ 'ระบบติดตาม'...\n",
      "คลิก 'ระบบติดตาม' สำเร็จ\n",
      "กำลังรอให้หน้า Dashboard โหลดเสร็จ (รอให้ Loading Overlay หายไป)...\n",
      "Loading Overlay หายไปแล้ว หน้าเว็บพร้อมใช้งาน\n"
     ]
    }
   ],
   "source": [
    "# --- Cell 2: เริ่มต้น WebDriver และ Login ---\n",
    "print(\"กำลังเริ่มต้น WebDriver...\")\n",
    "service = Service(ChromeDriverManager().install())\n",
    "driver = webdriver.Chrome(service=service)\n",
    "driver.maximize_window()\n",
    "\n",
    "print(f\"กำลังเข้าสู่หน้า Login: {LOGIN_URL}\")\n",
    "driver.get(LOGIN_URL)\n",
    "\n",
    "wait = WebDriverWait(driver, 5) # เพิ่มเวลารอเป็น 20 วินาทีเผื่อเว็บโหลดช้า\n",
    "\n",
    "try:\n",
    "    # 1. Login\n",
    "    print(\"กำลังรอหน้า Login...\")\n",
    "    username_field = wait.until(EC.presence_of_element_located((By.NAME, \"Username\")))\n",
    "    password_field = wait.until(EC.presence_of_element_located((By.NAME, \"Password\")))\n",
    "    login_button = wait.until(EC.element_to_be_clickable((By.CSS_SELECTOR, \"button.btn.btn-primary[type='submit']\")))\n",
    "\n",
    "    print(\"กำลังกรอกข้อมูล Login...\")\n",
    "    username_field.send_keys(YOUR_USERNAME)\n",
    "    password_field.send_keys(YOUR_PASSWORD)\n",
    "    login_button.click()\n",
    "    print(\"Login สำเร็จ\")\n",
    "\n",
    "    # 2. กดเข้าระบบติดตาม\n",
    "    print(\"กำลังรอลิงก์ 'ระบบติดตาม'...\")\n",
    "    system_tracking_link = wait.until(EC.element_to_be_clickable((By.XPATH, \"//a[./img[@alt='banner-track']]\")))\n",
    "    system_tracking_link.click()\n",
    "    print(\"คลิก 'ระบบติดตาม' สำเร็จ\")\n",
    "\n",
    "    # --- ส่วนที่แก้ไข ---\n",
    "    # 3. รอให้หน้ากาก Loading หายไปก่อน\n",
    "    print(\"กำลังรอให้หน้า Dashboard โหลดเสร็จ (รอให้ Loading Overlay หายไป)...\")\n",
    "    loading_overlay_xpath = \"//div[contains(@style, 'display: block') and contains(@style, 'z-index: 9999')]\"\n",
    "    # เราจะรอจนกว่า Element นี้จะ \"มองไม่เห็น\" (invisible)\n",
    "    wait.until(EC.invisibility_of_element_located((By.XPATH, loading_overlay_xpath)))\n",
    "    print(\"Loading Overlay หายไปแล้ว หน้าเว็บพร้อมใช้งาน\")\n",
    "except Exception as e:\n",
    "    print(f\"เกิดข้อผิดพลาดระหว่างการ Login หรือการนำทางเริ่มต้น: {e}\")\n",
    "    # driver.quit()"
   ]
  },
  {
   "cell_type": "markdown",
   "id": "b301c8b1",
   "metadata": {},
   "source": [
    "# 2.งบประมาณรายจ่ายประจำปี (พ.ร.บ.) 2568"
   ]
  },
  {
   "cell_type": "code",
   "execution_count": 185,
   "id": "9e762e77",
   "metadata": {},
   "outputs": [],
   "source": [
    "# --- ใส่โค้ดนี้แทนที่ try...except บล็อกเดิมของคุณ ---\n",
    "def go_to_main_budget_page(driver):\n",
    "    try:\n",
    "        # 4. คลิกเมนูหลัก \"งบประมาณ\"\n",
    "        # print(\"กำลังรอเมนู 'งบประมาณ'...\")\n",
    "        # budget_menu_left_nav = wait.until(EC.element_to_be_clickable((By.XPATH, \"//a[contains(., 'งบประมาณ')]\")))\n",
    "        # budget_menu_left_nav.click()\n",
    "        # print(\"คลิกเมนู 'งบประมาณ' สำเร็จ\")\n",
    "\n",
    "        # 4.1. รอให้หน้า \"งบประมาณ\" หลักโหลดเสร็จ\n",
    "        base_budget_url = \"https://cenproject.rid.go.th/track/budget?BudgetYear=2025\"\n",
    "        # wait.until(EC.url_to_be(base_budget_url))\n",
    "        print(f\"มาถึงหน้า 'งบประมาณ' หลักแล้ว: {driver.current_url}\")\n",
    "\n",
    "        # 4.2. สร้าง URL เป้าหมายและใช้ driver.get()\n",
    "        target_url = base_budget_url + \"&BudgetSourceID=1\"\n",
    "        # print(f\"กำลังนำทางไปยัง URL เป้าหมาย: {target_url}\")\n",
    "        driver.get(target_url)\n",
    "        \n",
    "        # 5. รอให้ตารางข้อมูลของหน้าเป้าหมายโหลดเสร็จ (ปรับปรุงจุดนี้)\n",
    "        print(\"กำลังรอให้ตารางข้อมูลโครงการโหลด...\")\n",
    "        \n",
    "        # ลองเพิ่มเวลาในการรอให้มากขึ้น เผื่อข้อมูลเยอะแล้วโหลดช้า\n",
    "        # long_wait = WebDriverWait(driver, 5) # สร้าง wait ใหม่ที่รอนานขึ้นเป็น 30 วินาที\n",
    "        \n",
    "        # เราจะรอ \"Container\" ของตารางแทน ID ที่อาจจะเปลี่ยนไป\n",
    "        # ลองหา class ของ <div> ที่ครอบตารางทั้งหมด เช่น 'card-body' หรือ 'table-responsive'\n",
    "        # **** ปรับแก้ 'card-body' เป็น class ที่ถูกต้องจากหน้าเว็บ ****\n",
    "        # table_container = long_wait.until(EC.presence_of_element_located((By.CLASS_NAME, \"card-body\")))\n",
    "        \n",
    "        # หลังจากเจอ Container แล้ว ค่อยเช็คว่ามีตารางอยู่ข้างในหรือไม่\n",
    "        # table_element = table_container.find_element(By.TAG_NAME, \"table\")\n",
    "        \n",
    "        print(f\"หน้าตางบประมาณรายจ่ายประจำปี (พ.ร.บ.) โหลดเรียบร้อยแล้ว (พบตาราง ID: {table_element.get_attribute('id')})\")\n",
    "\n",
    "    except Exception as e:\n",
    "        # แก้ไขข้อความ Error ตามที่ต้องการ\n",
    "        print(\"\\n--- การนำทางสำเร็จ แต่เกิดข้อผิดพลาดในการรอ Element ---\")\n",
    "        print(f\"ข้อผิดพลาด: ไม่สามารถหา Element ที่ต้องการได้ภายในเวลาที่กำหนด\")\n",
    "        print(f\"URL ปัจจุบันที่เกิดปัญหา: {driver.current_url}\")\n",
    "        print(\"สาเหตุที่เป็นไปได้: ID หรือ Class ของตารางข้อมูลในหน้านี้อาจไม่ตรงกับที่ระบุในโค้ด\")\n"
   ]
  },
  {
   "cell_type": "code",
   "execution_count": 220,
   "id": "566f567f",
   "metadata": {},
   "outputs": [
    {
     "name": "stdout",
     "output_type": "stream",
     "text": [
      "มาถึงหน้า 'งบประมาณ' หลักแล้ว: https://cenproject.rid.go.th/track/project?BudgetYear=2025\n",
      "กำลังรอให้ตารางข้อมูลโครงการโหลด...\n",
      "\n",
      "--- การนำทางสำเร็จ แต่เกิดข้อผิดพลาดในการรอ Element ---\n",
      "ข้อผิดพลาด: ไม่สามารถหา Element ที่ต้องการได้ภายในเวลาที่กำหนด\n",
      "URL ปัจจุบันที่เกิดปัญหา: https://cenproject.rid.go.th/track/budget?BudgetYear=2025&BudgetSourceID=1\n",
      "สาเหตุที่เป็นไปได้: ID หรือ Class ของตารางข้อมูลในหน้านี้อาจไม่ตรงกับที่ระบุในโค้ด\n"
     ]
    }
   ],
   "source": [
    "go_to_main_budget_page(driver)"
   ]
  },
  {
   "cell_type": "markdown",
   "id": "30831ab0",
   "metadata": {},
   "source": [
    "# ดึงค่ารายการและข้อมูลการเบิกจ่าย จาก Excel"
   ]
  },
  {
   "cell_type": "markdown",
   "id": "0798c271",
   "metadata": {},
   "source": [
    "## test วิ่งเข้า งานรักษาบริเวณ สชป.2"
   ]
  },
  {
   "cell_type": "code",
   "execution_count": 188,
   "id": "f7705663",
   "metadata": {},
   "outputs": [
    {
     "name": "stdout",
     "output_type": "stream",
     "text": [
      "กำลังค้นหาแถวของ: 'งานรักษาบริเวณ สชป.2'...\n",
      "พบปุ่ม Action, กำลังคลิกเพื่อเข้าหน้ารายละเอียด...\n",
      "เข้าสู่หน้ารายละเอียดงานย่อยสำเร็จ.\n"
     ]
    }
   ],
   "source": [
    "# --- Cell 4: เข้าหน้ารายละเอียดของงานรักษาบริเวณ สชป.2 ---\n",
    "print(f\"กำลังค้นหาแถวของ: '{\"งานรักษาบริเวณ สชป.2\"}'...\")\n",
    "project_row_xpath = f\"//tbody/tr[td[2][normalize-space()='{\"งานรักษาบริเวณ สชป.2\"}']]\"\n",
    "project_row = wait.until(EC.visibility_of_element_located((By.XPATH, project_row_xpath)))\n",
    "action_button_xpath = \".//div[@data-tip='เรียกดูข้อมูลแถบเดิม']/button\"\n",
    "action_button = project_row.find_element(By.XPATH, action_button_xpath)\n",
    "print(\"พบปุ่ม Action, กำลังคลิกเพื่อเข้าหน้ารายละเอียด...\")\n",
    "action_button.click()\n",
    "# Step 2: รอให้หน้ารายละเอียด (ตารางงานย่อย) โหลด\n",
    "wait.until(EC.presence_of_element_located((By.XPATH, \"//table[contains(@class, 'table-zebra')]//tbody\")))\n",
    "print(\"เข้าสู่หน้ารายละเอียดงานย่อยสำเร็จ.\")"
   ]
  },
  {
   "cell_type": "code",
   "execution_count": 196,
   "id": "78b5cbc2",
   "metadata": {},
   "outputs": [
    {
     "name": "stdout",
     "output_type": "stream",
     "text": [
      "มาถึงหน้า 'งบประมาณ' หลักแล้ว: https://cenproject.rid.go.th/track/budget/111?BudgetYear=2025&BudgetSourceID=1&OrganizationName=%E0%B9%82%E0%B8%84%E0%B8%A3%E0%B8%87%E0%B8%81%E0%B8%B2%E0%B8%A3%E0%B8%8A%E0%B8%A5%E0%B8%9B%E0%B8%A3%E0%B8%B0%E0%B8%97%E0%B8%B2%E0%B8%99%E0%B9%80%E0%B8%8A%E0%B8%B5%E0%B8%A2%E0%B8%87%E0%B8%A3%E0%B8%B2%E0%B8%A2\n",
      "กำลังรอให้ตารางข้อมูลโครงการโหลด...\n",
      "\n",
      "--- การนำทางสำเร็จ แต่เกิดข้อผิดพลาดในการรอ Element ---\n",
      "ข้อผิดพลาด: ไม่สามารถหา Element ที่ต้องการได้ภายในเวลาที่กำหนด\n",
      "URL ปัจจุบันที่เกิดปัญหา: https://cenproject.rid.go.th/track/budget?BudgetYear=2025&BudgetSourceID=1\n",
      "สาเหตุที่เป็นไปได้: ID หรือ Class ของตารางข้อมูลในหน้านี้อาจไม่ตรงกับที่ระบุในโค้ด\n"
     ]
    }
   ],
   "source": [
    "go_to_main_budget_page(driver)"
   ]
  },
  {
   "cell_type": "code",
   "execution_count": 195,
   "id": "42204e4c",
   "metadata": {},
   "outputs": [
    {
     "name": "stdout",
     "output_type": "stream",
     "text": [
      "กำลังค้นหาแถวของ: 'โครงการชลประทานเชียงราย'...\n",
      "พบปุ่ม Action, กำลังคลิกเพื่อเข้าหน้ารายละเอียด...\n",
      "เข้าสู่หน้ารายละเอียดงานย่อยสำเร็จ.\n"
     ]
    }
   ],
   "source": [
    "# --- Cell 4: เข้าหน้ารายละเอียดของงานรักษาบริเวณ สชป.2 ---\n",
    "print(f\"กำลังค้นหาแถวของ: '{\"โครงการชลประทานเชียงราย\"}'...\")\n",
    "project_row_xpath = f\"//tbody/tr[td[2][normalize-space()='{\"โครงการชลประทานเชียงราย\"}']]\"\n",
    "project_row = wait.until(EC.visibility_of_element_located((By.XPATH, project_row_xpath)))\n",
    "action_button_xpath = \".//div[@data-tip='เรียกดูข้อมูลแถบเดิม']/button\"\n",
    "action_button = project_row.find_element(By.XPATH, action_button_xpath)\n",
    "print(\"พบปุ่ม Action, กำลังคลิกเพื่อเข้าหน้ารายละเอียด...\")\n",
    "action_button.click()\n",
    "# Step 2: รอให้หน้ารายละเอียด (ตารางงานย่อย) โหลด\n",
    "wait.until(EC.presence_of_element_located((By.XPATH, \"//table[contains(@class, 'table-zebra')]//tbody\")))\n",
    "print(\"เข้าสู่หน้ารายละเอียดงานย่อยสำเร็จ.\")"
   ]
  },
  {
   "cell_type": "code",
   "execution_count": 169,
   "id": "6edcdb1b",
   "metadata": {},
   "outputs": [
    {
     "name": "stdout",
     "output_type": "stream",
     "text": [
      "กำลังค้นหาแถวของ: 'โครงการส่งน้ำและบำรุงรักษากิ่วลม-กิ่วคอหมา'...\n",
      "พบปุ่ม Action, กำลังคลิกเพื่อเข้าหน้ารายละเอียด...\n",
      "เข้าสู่หน้ารายละเอียดงานย่อยสำเร็จ.\n"
     ]
    }
   ],
   "source": [
    "# --- Cell 4: เข้าหน้ารายละเอียดของงานรักษาบริเวณ สชป.2 ---\n",
    "print(f\"กำลังค้นหาแถวของ: '{\"โครงการส่งน้ำและบำรุงรักษากิ่วลม-กิ่วคอหมา\"}'...\")\n",
    "project_row_xpath = f\"//tbody/tr[td[2][normalize-space()='{\"โครงการส่งน้ำและบำรุงรักษากิ่วลม-กิ่วคอหมา\"}']]\"\n",
    "project_row = wait.until(EC.visibility_of_element_located((By.XPATH, project_row_xpath)))\n",
    "action_button_xpath = \".//div[@data-tip='เรียกดูข้อมูลแถบเดิม']/button\"\n",
    "action_button = project_row.find_element(By.XPATH, action_button_xpath)\n",
    "print(\"พบปุ่ม Action, กำลังคลิกเพื่อเข้าหน้ารายละเอียด...\")\n",
    "action_button.click()\n",
    "# Step 2: รอให้หน้ารายละเอียด (ตารางงานย่อย) โหลด\n",
    "wait.until(EC.presence_of_element_located((By.XPATH, \"//table[contains(@class, 'table-zebra')]//tbody\")))\n",
    "print(\"เข้าสู่หน้ารายละเอียดงานย่อยสำเร็จ.\")"
   ]
  },
  {
   "cell_type": "markdown",
   "id": "4a2b20e7",
   "metadata": {},
   "source": [
    "## test วิ่งเข้า งานรักษาบริเวณ สชป.2 เป็น function"
   ]
  },
  {
   "cell_type": "code",
   "execution_count": 190,
   "id": "cce018d9",
   "metadata": {},
   "outputs": [],
   "source": [
    "# --- [ฟังก์ชันใหม่] สำหรับค้นหาและคลิกเข้าหน้ารายละเอียดขององค์กร ---\n",
    "\n",
    "\n",
    "def navigate_to_organization_details(driver, wait, org_name):\n",
    "    print(f\"\\n--- กำลังพยายามเข้าสู่หน้ารายละเอียดของ: '{org_name}' ---\")\n",
    "    try:\n",
    "        # Step 1: ค้นหาแถวขององค์กร\n",
    "        print(f\"กำลังค้นหาแถว '{org_name}'...\")\n",
    "        project_row_xpath = f\"//tbody/tr[td[2][normalize-space()='{org_name}']]\"\n",
    "        project_row = wait.until(EC.visibility_of_element_located((By.XPATH, project_row_xpath)))\n",
    "        \n",
    "        # Step 2: ค้นหาและคลิกปุ่ม Action\n",
    "        action_button_xpath = \".//div[@data-tip='เรียกดูข้อมูลแถบเดิม']/button\"\n",
    "        action_button = project_row.find_element(By.XPATH, action_button_xpath)\n",
    "        \n",
    "        print(\"พบปุ่ม Action, กำลังใช้ JavaScript เพื่อคลิก...\")\n",
    "        driver.execute_script(\"arguments[0].click();\", action_button)\n",
    "        \n",
    "        # Step 3: รอให้หน้ารายละเอียดโหลดเสร็จ\n",
    "        # รอให้ตารางของหน้ารายละเอียดปรากฏขึ้น\n",
    "        wait.until(EC.presence_of_element_located((By.XPATH, \"//table[contains(@class, 'table-zebra')]//tbody\")))\n",
    "        \n",
    "        print(f\"เข้าสู่หน้ารายละเอียดของ '{org_name}' สำเร็จ!\")\n",
    "        \n",
    "        return True\n",
    "\n",
    "    except (TimeoutException, NoSuchElementException, ElementClickInterceptedException) as e:\n",
    "        print(f\"!!! เกิดข้อผิดพลาดขณะพยายามเข้าสู่หน้ารายละเอียดของ '{org_name}' !!!\")\n",
    "        print(f\"Error: {type(e).__name__} - {str(e).splitlines()[0]}\")\n",
    "        return False\n",
    "    except Exception as e:\n",
    "        print(f\"!!! เกิดข้อผิดพลาดที่ไม่คาดคิด: {e}\")\n",
    "        return False"
   ]
  },
  {
   "cell_type": "markdown",
   "id": "d6dd7a67",
   "metadata": {},
   "source": [
    "### next page 1 kick"
   ]
  },
  {
   "cell_type": "code",
   "execution_count": 202,
   "id": "4a0abcc2",
   "metadata": {},
   "outputs": [],
   "source": [
    "# --- [ฟังก์ชันสำหรับคลิกหน้าถัดไป - ฉบับ Reusable] ---\n",
    "import re\n",
    "from selenium.webdriver.common.action_chains import ActionChains\n",
    "\n",
    "def go_to_next_page(driver, wait, table_xpath):\n",
    "    \n",
    "    print(\"\\n--- กำลังตรวจสอบ Pagination ---\")\n",
    "    print(table_xpath)\n",
    "    try:\n",
    "        # 1. รอให้ตารางของหน้าปัจจุบันพร้อม และ \"จำ\" ไว้\n",
    "        \n",
    "        try:\n",
    "            current_table = wait.until(EC.presence_of_element_located((By.XPATH, table_xpath)))\n",
    "        except TimeoutException:\n",
    "            print(f\"!!! ไม่พบตารางตาม XPath ที่ระบุ: {table_xpath} !!!\")\n",
    "            return False\n",
    "\n",
    "        # 2. ตรวจสอบว่ามีหน้าถัดไปหรือไม่\n",
    "        # ดึงข้อความ \"แสดงข้อมูล...\" ซึ่งมักจะอยู่ใกล้ๆ ตาราง\n",
    "        pagination_text_element = driver.find_element(By.XPATH, \"//div[contains(text(), 'แสดงข้อมูล')]\")\n",
    "        pagination_text = pagination_text_element.text\n",
    "        numbers = re.findall(r'\\d+', pagination_text)\n",
    "        \n",
    "        can_go_next = False\n",
    "        if len(numbers) >= 3:\n",
    "            last_item_shown = int(numbers[1])\n",
    "            total_items = int(numbers[2])\n",
    "            if last_item_shown < total_items:\n",
    "                can_go_next = True\n",
    "        \n",
    "        # 3. ตัดสินใจคลิก \"Next\" ถ้าทำได้\n",
    "        if can_go_next:\n",
    "            print(\" -> พบว่ามีหน้าถัดไป, กำลังคลิก 'Next'...\")\n",
    "            \n",
    "            # ใช้ CSS Selector ที่น่าจะใช้ร่วมกันได้\n",
    "            next_page_button_selector = \"span.mx-4 + button\"\n",
    "            next_button = wait.until(EC.element_to_be_clickable((By.CSS_SELECTOR, next_page_button_selector)))\n",
    "            \n",
    "            # ใช้ ActionChains เพื่อคลิกเหมือนมนุษย์\n",
    "            ActionChains(driver).move_to_element(next_button).click().perform()\n",
    "\n",
    "            print(\" -> เปลี่ยนหน้าสำเร็จ!\")\n",
    "            return True # คืนค่าว่าไปหน้าต่อไปได้\n",
    "        else:\n",
    "            print(\" -> เป็นหน้าสุดท้ายแล้ว.\")\n",
    "            return False # คืนค่าว่าเป็นหน้าสุดท้าย\n",
    "\n",
    "    except NoSuchElementException:\n",
    "        print(\" -> ไม่พบข้อความ Pagination, ถือว่าเป็นหน้าสุดท้าย\")\n",
    "        return False\n",
    "    except Exception as e:\n",
    "        print(f\"!!! เกิดข้อผิดพลาดร้ายแรงขณะพยายามไปหน้าถัดไป: {e} !!!\")\n",
    "        return False"
   ]
  },
  {
   "cell_type": "code",
   "execution_count": 204,
   "id": "b7bd24a2",
   "metadata": {},
   "outputs": [
    {
     "name": "stdout",
     "output_type": "stream",
     "text": [
      "--- กำลังประมวลผลข้อมูลตารางหลักหน้าแรก ---\n",
      "\n",
      "--- กำลังตรวจสอบ Pagination ---\n",
      "//table[contains(@class, 'table-zebra')]//tbody\n",
      " -> พบว่ามีหน้าถัดไป, กำลังคลิก 'Next'...\n",
      " -> เปลี่ยนหน้าสำเร็จ!\n",
      "มีหน้าถัดไปสำหรับตารางหลัก, กำลังประมวลผล...\n"
     ]
    }
   ],
   "source": [
    "# ---ตาราง พรบ 2568+ตารางรายการย่อย---\n",
    "\n",
    "# กำหนด XPath ของ tbody ของตารางเป้าหมาย\n",
    "main_table_xpath = \"//table[contains(@class, 'table-zebra')]//tbody\"\n",
    "\n",
    "# ประมวลผลข้อมูลในหน้าแรก\n",
    "print(\"--- กำลังประมวลผลข้อมูลตารางหลักหน้าแรก ---\")\n",
    "# ... (โค้ดอ่านข้อมูลของคุณ) ...\n",
    "\n",
    "# เรียกใช้ฟังก์ชันเพื่อไปหน้าถัดไป\n",
    "if go_to_next_page(driver, wait, main_table_xpath):\n",
    "    print(\"มีหน้าถัดไปสำหรับตารางหลัก, กำลังประมวลผล...\")\n",
    "else:\n",
    "    print(\"ไม่มีหน้าถัดไปสำหรับตารางหลัก\")"
   ]
  },
  {
   "cell_type": "code",
   "execution_count": 221,
   "id": "b391bb10",
   "metadata": {},
   "outputs": [
    {
     "name": "stdout",
     "output_type": "stream",
     "text": [
      "\n",
      "--- กำลังพยายามเข้าสู่หน้ารายละเอียดของ: 'งานรักษาบริเวณ สชป.2' ---\n",
      "กำลังค้นหาแถว 'งานรักษาบริเวณ สชป.2'...\n",
      "พบปุ่ม Action, กำลังใช้ JavaScript เพื่อคลิก...\n",
      "เข้าสู่หน้ารายละเอียดของ 'งานรักษาบริเวณ สชป.2' สำเร็จ!\n",
      "--- เริ่มประมวลผลข้อมูลในหน้ารายละเอียดของ 'งานรักษาบริเวณ สชป.2' ---\n",
      "\n",
      "--- กำลังพยายามเข้าสู่หน้ารายละเอียดของ: 'ศูนย์ภูฟ้าพัฒนา' ---\n",
      "กำลังค้นหาแถว 'ศูนย์ภูฟ้าพัฒนา'...\n",
      "พบปุ่ม Action, กำลังใช้ JavaScript เพื่อคลิก...\n",
      "เข้าสู่หน้ารายละเอียดของ 'ศูนย์ภูฟ้าพัฒนา' สำเร็จ!\n",
      "--- เริ่มประมวลผลข้อมูลในหน้ารายละเอียดของ 'ศูนย์ภูฟ้าพัฒนา' ---\n",
      "\n",
      "--- กำลังพยายามเข้าสู่หน้ารายละเอียดของ: 'ส่วนจัดสรรน้ำและบำรุงรักษา สชป.2' ---\n",
      "กำลังค้นหาแถว 'ส่วนจัดสรรน้ำและบำรุงรักษา สชป.2'...\n",
      "พบปุ่ม Action, กำลังใช้ JavaScript เพื่อคลิก...\n",
      "เข้าสู่หน้ารายละเอียดของ 'ส่วนจัดสรรน้ำและบำรุงรักษา สชป.2' สำเร็จ!\n",
      "--- เริ่มประมวลผลข้อมูลในหน้ารายละเอียดของ 'ส่วนจัดสรรน้ำและบำรุงรักษา สชป.2' ---\n",
      "\n",
      "--- กำลังพยายามเข้าสู่หน้ารายละเอียดของ: 'ส่วนวิศวกรรมบริหาร สชป.2' ---\n",
      "กำลังค้นหาแถว 'ส่วนวิศวกรรมบริหาร สชป.2'...\n",
      "พบปุ่ม Action, กำลังใช้ JavaScript เพื่อคลิก...\n",
      "เข้าสู่หน้ารายละเอียดของ 'ส่วนวิศวกรรมบริหาร สชป.2' สำเร็จ!\n",
      "--- เริ่มประมวลผลข้อมูลในหน้ารายละเอียดของ 'ส่วนวิศวกรรมบริหาร สชป.2' ---\n",
      "\n",
      "--- กำลังพยายามเข้าสู่หน้ารายละเอียดของ: 'ส่วนเครื่องจักรกล สชป.2' ---\n",
      "กำลังค้นหาแถว 'ส่วนเครื่องจักรกล สชป.2'...\n",
      "พบปุ่ม Action, กำลังใช้ JavaScript เพื่อคลิก...\n",
      "เข้าสู่หน้ารายละเอียดของ 'ส่วนเครื่องจักรกล สชป.2' สำเร็จ!\n",
      "--- เริ่มประมวลผลข้อมูลในหน้ารายละเอียดของ 'ส่วนเครื่องจักรกล สชป.2' ---\n",
      "\n",
      "--- กำลังพยายามเข้าสู่หน้ารายละเอียดของ: 'โครงการก่อสร้างชลประทานที่ 2' ---\n",
      "กำลังค้นหาแถว 'โครงการก่อสร้างชลประทานที่ 2'...\n",
      "พบปุ่ม Action, กำลังใช้ JavaScript เพื่อคลิก...\n",
      "เข้าสู่หน้ารายละเอียดของ 'โครงการก่อสร้างชลประทานที่ 2' สำเร็จ!\n",
      "--- เริ่มประมวลผลข้อมูลในหน้ารายละเอียดของ 'โครงการก่อสร้างชลประทานที่ 2' ---\n",
      "\n",
      "--- กำลังพยายามเข้าสู่หน้ารายละเอียดของ: 'โครงการชลประทานน่าน' ---\n",
      "กำลังค้นหาแถว 'โครงการชลประทานน่าน'...\n",
      "พบปุ่ม Action, กำลังใช้ JavaScript เพื่อคลิก...\n",
      "เข้าสู่หน้ารายละเอียดของ 'โครงการชลประทานน่าน' สำเร็จ!\n",
      "--- เริ่มประมวลผลข้อมูลในหน้ารายละเอียดของ 'โครงการชลประทานน่าน' ---\n",
      "\n",
      "--- กำลังพยายามเข้าสู่หน้ารายละเอียดของ: 'โครงการชลประทานพะเยา' ---\n",
      "กำลังค้นหาแถว 'โครงการชลประทานพะเยา'...\n",
      "พบปุ่ม Action, กำลังใช้ JavaScript เพื่อคลิก...\n",
      "เข้าสู่หน้ารายละเอียดของ 'โครงการชลประทานพะเยา' สำเร็จ!\n",
      "--- เริ่มประมวลผลข้อมูลในหน้ารายละเอียดของ 'โครงการชลประทานพะเยา' ---\n",
      "\n",
      "--- กำลังพยายามเข้าสู่หน้ารายละเอียดของ: 'โครงการชลประทานลำปาง' ---\n",
      "กำลังค้นหาแถว 'โครงการชลประทานลำปาง'...\n",
      "พบปุ่ม Action, กำลังใช้ JavaScript เพื่อคลิก...\n",
      "เข้าสู่หน้ารายละเอียดของ 'โครงการชลประทานลำปาง' สำเร็จ!\n",
      "--- เริ่มประมวลผลข้อมูลในหน้ารายละเอียดของ 'โครงการชลประทานลำปาง' ---\n",
      "\n",
      "--- กำลังพยายามเข้าสู่หน้ารายละเอียดของ: 'โครงการชลประทานเชียงราย' ---\n",
      "กำลังค้นหาแถว 'โครงการชลประทานเชียงราย'...\n",
      "พบปุ่ม Action, กำลังใช้ JavaScript เพื่อคลิก...\n",
      "เข้าสู่หน้ารายละเอียดของ 'โครงการชลประทานเชียงราย' สำเร็จ!\n",
      "--- เริ่มประมวลผลข้อมูลในหน้ารายละเอียดของ 'โครงการชลประทานเชียงราย' ---\n",
      "\n",
      "========== การทำงานกับทุกองค์กรเสร็จสิ้น ==========\n"
     ]
    }
   ],
   "source": [
    "# --- [โค้ดหลัก] สำหรับวนลูปและเรียกใช้ฟังก์ชัน ---\n",
    "\n",
    "# รายชื่อองค์กรที่ต้องการทำงานด้วย\n",
    "organization_names = [\n",
    "    \"งานรักษาบริเวณ สชป.2\",\n",
    "    \"ศูนย์ภูฟ้าพัฒนา\",\n",
    "    \"ส่วนจัดสรรน้ำและบำรุงรักษา สชป.2\",\n",
    "    \"ส่วนวิศวกรรมบริหาร สชป.2\",\n",
    "    \"ส่วนเครื่องจักรกล สชป.2\",\n",
    "    \"โครงการก่อสร้างชลประทานที่ 2\",\n",
    "    \"โครงการชลประทานน่าน\",\n",
    "    \"โครงการชลประทานพะเยา\",\n",
    "    \"โครงการชลประทานลำปาง\",\n",
    "    \"โครงการชลประทานเชียงราย\",\n",
    "    # \"โครงการส่งน้ำและบำรุงรักษากิ่วลม-กิ่วคอหมา\",\n",
    "    # \"โครงการส่งน้ำและบำรุงรักษาแม่ลาว\",\n",
    "    # \"โครงการส่งน้ำและบำรุงรักษาแม่วัง\"\n",
    "]\n",
    "TARGET_TABLE_URL = \"https://cenproject.rid.go.th/track/budget?BudgetYear=2025&BudgetSourceID=1\"\n",
    "main_table_xpath = \"//table[contains(@class, 'table-zebra')]//tbody\"\n",
    "\n",
    "# (สมมติว่า driver และ wait ถูกสร้างไว้แล้ว และอยู่ในหน้าตารางหน่วยงานหลัก)\n",
    "\n",
    "for name in organization_names:\n",
    "    \n",
    "    # เรียกใช้ฟังก์ชันที่เราสร้างขึ้น\n",
    "    success = navigate_to_organization_details(driver, wait, name)\n",
    "    \n",
    "    # ตรวจสอบว่าฟังก์ชันทำงานสำเร็จหรือไม่\n",
    "    if success:\n",
    "        # --- ถ้าสำเร็จ ก็เริ่มทำงานในหน้ารายละเอียดได้เลย ---\n",
    "        print(f\"--- เริ่มประมวลผลข้อมูลในหน้ารายละเอียดของ '{name}' ---\")\n",
    "        \n",
    "        \n",
    "  \n",
    "\n",
    "\n",
    "\n",
    "\n",
    "\n",
    "\n",
    "\n",
    "\n",
    "\n",
    "\n",
    "\n",
    "\n",
    "\n",
    "        \n",
    "        # time.sleep(4)\n",
    "        driver.get(TARGET_TABLE_URL) # ใช้ get เพื่อความแน่นอน\n",
    "        wait.until(EC.presence_of_element_located((By.XPATH, \"//table//tbody\")))\n",
    "        \n",
    "    else:\n",
    "        # ถ้าฟังก์ชันทำงานไม่สำเร็จ (หาไม่เจอ)\n",
    "        print(f\"--- ไม่สามารถเข้าสู่หน้ารายละเอียดของ '{name}' ได้, ข้ามไปรายการถัดไป ---\")\n",
    "        # ถ้าไม่เจอ รายการใน organization_names ให้ go_to_next_page\n",
    "        if go_to_next_page(driver, wait, main_table_xpath):\n",
    "            print(\"มีหน้าถัดไปสำหรับตารางหลัก, กำลังประมวลผล...\")\n",
    "\n",
    "print(\"\\n========== การทำงานกับทุกองค์กรเสร็จสิ้น ==========\")"
   ]
  },
  {
   "cell_type": "markdown",
   "id": "df4ea533",
   "metadata": {},
   "source": [
    "### test ดึงรายการ + ร้อยละเบิกจ่าย"
   ]
  },
  {
   "cell_type": "code",
   "execution_count": 222,
   "id": "bf48e072",
   "metadata": {},
   "outputs": [],
   "source": [
    "df = pd.read_excel(\"table_main_2568.xlsx\")"
   ]
  },
  {
   "cell_type": "code",
   "execution_count": 223,
   "id": "9ba7f148",
   "metadata": {},
   "outputs": [
    {
     "name": "stdout",
     "output_type": "stream",
     "text": [
      "งานย่อยที่ 1:|หน่วยงาน: โครงการก่อสร้างชลประทานที่ 2 | ชื่องาน (197) ฝายขำพร้อมระบบส่งน้ำ ตำบลงิม อำเภอปง จังหวัดพะเยา - [ 10336 ] เบิกจ่ายร้อยละ :89.08 \n",
      "งานย่อยที่ 2:|หน่วยงาน: โครงการก่อสร้างชลประทานที่ 2 | ชื่องาน (176) ฝายบ่อเป๊กพร้อมระบบส่งน้ำ ตำบลเรือง อำเภอเมืองน่าน จังหวัดน่าน - [ 10315 ] เบิกจ่ายร้อยละ :79.84 \n",
      "งานย่อยที่ 3:|หน่วยงาน: โครงการก่อสร้างชลประทานที่ 2 | ชื่องาน (175) ฝายห้วยฮ้อมพร้อมระบบส่งน้ำ ตำบลกองควาย อำเภอเมืองน่าน จังหวัดน่าน - [ 10314 ] เบิกจ่ายร้อยละ :80.06 \n",
      "งานย่อยที่ 4:|หน่วยงาน: โครงการก่อสร้างชลประทานที่ 2 | ชื่องาน (174) ฝายห้วยแอบพร้อมระบบส่งน้ำ ตำบลศรีษะเกษ อำเภอนาน้อย จังหวัดน่าน - [ 10313 ] เบิกจ่ายร้อยละ :86.18 \n",
      "งานย่อยที่ 5:|หน่วยงาน: โครงการก่อสร้างชลประทานที่ 2 | ชื่องาน (1.94) ซ่อมแซมอาคารบ้านพักข้าราชการระดับบริหาร 2 แห่ง โครงการก่อสร้าง สำนักงานชลประทานที่ 2 ตำบลแม่สรวย อำเภอแม่สรวย จังหวัดเชียงราย - [ 97 ] เบิกจ่ายร้อยละ :93.07 \n",
      "งานย่อยที่ 6:|หน่วยงาน: โครงการก่อสร้างชลประทานที่ 2 | ชื่องาน (1.93) ซ่อมแซมอาคารบ้านพัก 2 ชั้น แห่งที่ 1 โครงการก่อสร้าง สำนักงานชลประทานที่ 2 ตำบลแม่สรวย อำเภอแม่สรวย จังหวัดเชียงราย - [ 96 ] เบิกจ่ายร้อยละ :100 \n"
     ]
    }
   ],
   "source": [
    "subtask_rows = driver.find_elements(By.XPATH, \"//table[contains(@class, 'table-zebra')]//tbody/tr\")\n",
    "for index, row_elem in enumerate(subtask_rows, start=1):\n",
    "    subtask_name = row_elem.find_element(By.XPATH, \".//td[2]\").text.strip()\n",
    "    subtask_percen_dis = row_elem.find_element(By.XPATH, \".//td[9]\").text.strip()\n",
    "\n",
    "    # ค้นหาแถวใน DataFrame ที่ตรงกับ subtask_name\n",
    "    matched = df[df['ชื่อ / ประมาณการ'] == subtask_name]\n",
    "    if not matched.empty:\n",
    "        # ดึงชื่อหน่วยงานระดับโครงการ (คอลัมน์ E)\n",
    "        project_name = matched.iloc[0]['ชื่อหน่วยงานระดับโครงการ']\n",
    "        \n",
    "        print(f\"งานย่อยที่ {index}:|หน่วยงาน: {project_name} | ชื่องาน {subtask_name} เบิกจ่ายร้อยละ :{subtask_percen_dis} \")\n",
    "        # เช็ค subtask_percen_dis <= 100 ถ้า เป็นจริง ให้กด /html/body/div[2]/div[1]/main/main/div[4]/div[1]/table/tbody/tr[1]/td[13]/div/div[1]\n",
    "        \n",
    "        # if float(subtask_percen_dis) < 100:\n",
    "        #     print(float(subtask_percen_dis))\n",
    "        #     # กดปุ่มที่ต้องการ\n",
    "        #     button_xpath = \"/html/body/div[2]/div[1]/main/main/div[4]/div[1]/table/tbody/tr[1]/td[13]/div/div[1]\"\n",
    "        #     button = driver.find_element(By.XPATH, button_xpath)\n",
    "        #     button.click()\n",
    "        #     print(\"กดปุ่มเรียบร้อยแล้ว\")\n",
    "        # กลับไปที่หน้าเดิม\n",
    "        # รอให้โหดหน้าเว็บเสร็จ\n",
    "        # time.sleep(10)\n",
    "           \n",
    "    \n",
    "    else:\n",
    "        project_name = \"ไม่พบใน Excel\"\n",
    "    \n",
    "    # กลับไปที่หน้ารายการย่อย https://cenproject.rid.go.th/track/budget/111?BudgetYear=2025&BudgetSourceID=1&OrganizationName=\n",
    "    \n",
    "    \n",
    "\n"
   ]
  },
  {
   "cell_type": "markdown",
   "id": "50bec3cb",
   "metadata": {},
   "source": [
    "### วน เข้า กรอก รายงานเบิกจ่าย"
   ]
  },
  {
   "cell_type": "code",
   "execution_count": 228,
   "id": "d8ce50d1",
   "metadata": {},
   "outputs": [],
   "source": [
    "# --- [โค้ดสำหรับเช็คเงื่อนไข, ค้นหาใน Excel, และคลิกเข้าไปในแต่ละแถว - ฉบับปรับปรุง] ---\n",
    "# สมมติว่า df และ wait ถูกสร้างไว้แล้ว\n",
    "def extract_budget_data(driver, wait):\n",
    "    # ดึงชื่อ งานจาก xpath/html/body/div[2]/div[1]/main/main/div[1]\n",
    "    xpath_get_name = \"//html/body/div[2]/div[1]/main/main/div[1]\"\n",
    "    name_element = wait.until(EC.presence_of_element_located((By.XPATH, xpath_get_name)))\n",
    "    name = name_element.text.strip()\n",
    "\n",
    "    print(\"\\n--- กำลังประมวลผลข้อมูลในหน้ารายละเอียดงานย่อย ---\")\n",
    "    print(f\"รายการงาน: {name}...\")\n",
    "    try:\n",
    "        # 1. หาจำนวนแถวทั้งหมดในหน้าปัจจุบัน\n",
    "        tbody = wait.until(EC.presence_of_element_located((By.XPATH, \"//table[contains(@class, 'table-zebra')]//tbody\")))\n",
    "        subtask_rows_count = len(tbody.find_elements(By.XPATH, \".//tr\"))\n",
    "        print(f\"พบ {subtask_rows_count} งานย่อยในหน่วยงานนี้. กำลังตรวจสอบเงื่อนไข...\")\n",
    "\n",
    "        # สร้าง Flag เพื่อบอกว่าเราคลิกสำเร็จแล้วหรือยัง\n",
    "        action_completed = False \n",
    "        \n",
    "        # 2. วนลูปด้วย index เพื่อให้สามารถกลับมาทำงานต่อได้หลังการคลิก\n",
    "        for i in range(subtask_rows_count):\n",
    "            # ใช้ i+1 เพราะ index ของ Python เริ่มที่ 0 แต่ XPath เริ่มที่ 1\n",
    "            print(f\"\\n--- กำลังตรวจสอบแถวที่ {i + 1} ---\")\n",
    "            \n",
    "            try:\n",
    "                # 3. สร้าง XPath สำหรับแถวปัจจุบันขึ้นมาใหม่ทุกครั้ง\n",
    "                # เราต้องค้นหาจากทั้งหน้า เพราะหลังจากคลิกกลับมา DOM อาจจะเปลี่ยนไป\n",
    "                current_row_xpath = f\"(//table[contains(@class, 'table-zebra')]//tbody/tr)[{i + 1}]\"\n",
    "                \n",
    "                # 4. ดึงข้อมูล %เบิกจ่าย และชื่องานจากแถวปัจจุบัน\n",
    "                current_row_element = wait.until(EC.visibility_of_element_located((By.XPATH, current_row_xpath)))\n",
    "\n",
    "                subtask_percen_dis_text = current_row_element.find_element(By.XPATH, \".//td[9]\").text.strip()\n",
    "                subtask_name = current_row_element.find_element(By.XPATH, \".//td[2]\").text.strip()\n",
    "                \n",
    "                # ข้ามแถวที่ไม่มีข้อมูลเปอร์เซ็นต์\n",
    "                if not subtask_percen_dis_text:\n",
    "                    print(\"  -> ไม่มีข้อมูล %เบิกจ่าย, ข้ามไป\")\n",
    "                    continue\n",
    "                \n",
    "                # ค้นหาใน DataFrame\n",
    "                matched = df[df['ชื่อ / ประมาณการ'] == subtask_name]\n",
    "                if not matched.empty:\n",
    "                    project_name = matched.iloc[0]['ชื่อหน่วยงานระดับโครงการ']\n",
    "                    print(f\"  หน่วยงาน: {project_name} | ชื่องาน: {subtask_name[:40]}... | %เบิกจ่าย: {subtask_percen_dis_text}\")\n",
    "\n",
    "                    # 5. แปลงค่าและตรวจสอบเงื่อนไข\n",
    "                    percentage_value = float(subtask_percen_dis_text)\n",
    "                    if percentage_value < 100:\n",
    "                        print(f\"  -> [ผ่านเงื่อนไข] %เบิกจ่าย < 100. กำลังคลิก 'เรียกดูข้อมูลแถบเดิม'...\")\n",
    "                        \n",
    "                        # 6. สร้าง XPath สำหรับปุ่ม \"เรียกดูข้อมูลแถบเดิม\" ของแถวปัจจุบัน (แบบไดนามิก)\n",
    "                        # ใช้ XPath ที่อ้างอิงจาก data-tip ซึ่งทนทานกว่า\n",
    "                        action_button_xpath = f\"{current_row_xpath}/td[13]//div[@data-tip='เรียกดูข้อมูลแถบเดิม']/button\"\n",
    "                        \n",
    "                        action_button = wait.until(EC.element_to_be_clickable((By.XPATH, action_button_xpath)))\n",
    "                        \n",
    "                        # ใช้ JavaScript click เพื่อความแน่นอน\n",
    "                        driver.execute_script(\"arguments[0].click();\", action_button)\n",
    "                        \n",
    "                        # --- ที่ตรงนี้ คือจุดที่เราจะทำงานในหน้ารายละเอียดสุดท้าย ---\n",
    "                        \n",
    "                        # ตัวอย่าง: รอให้หน้าใหม่โหลดเสร็จ\n",
    "                        final_page_element_xpath = \"//h2[contains(text(), 'งวดการเบิกจ่าย')]\"\n",
    "                        \n",
    "                        print(\"  -> คลิกสำเร็จ! กำลังรอหน้า 'การเบิกจ่ายงบประมาณ' โหลด...\")\n",
    "                        # wait.until(EC.visibility_of_element_located((By.XPATH, final_page_element_xpath)))\n",
    "\n",
    "\n",
    "                        \n",
    "                        print(\"  -> คลิกสำเร็จ! เข้าสู่หน้า การเบิกจ่ายงบประมาณ...\")\n",
    "                        action_completed = True\n",
    "                        break\n",
    "                        \n",
    "                    else:\n",
    "                        print(\"  -> [ไม่ผ่านเงื่อนไข] %เบิกจ่ายไม่น้อยกว่า 100, ข้ามไป\")\n",
    "                else:\n",
    "                    print(f\"  ชื่องาน: {subtask_name[:40]}... | ไม่พบข้อมูลใน Excel, ข้ามไป\")\n",
    "            \n",
    "\n",
    "            except (NoSuchElementException, TimeoutException, ValueError) as e:\n",
    "                print(f\"  -> เกิดข้อผิดพลาดในการประมวลผลแถวที่ {i+1}: {e}\")\n",
    "                continue\n",
    "            \n",
    "\n",
    "\n",
    "\n",
    "            # driver.back() \n",
    "    except Exception as e:\n",
    "        print(f\"เกิดข้อผิดพลาดในการค้นหาตาราง: {e}\")"
   ]
  },
  {
   "cell_type": "code",
   "execution_count": 229,
   "id": "f919c085",
   "metadata": {},
   "outputs": [
    {
     "name": "stdout",
     "output_type": "stream",
     "text": [
      "\n",
      "--- กำลังประมวลผลข้อมูลในหน้ารายละเอียดงานย่อย ---\n",
      "รายการงาน: คัดกรองข้อมูล...\n",
      "พบ 6 งานย่อยในหน่วยงานนี้. กำลังตรวจสอบเงื่อนไข...\n",
      "\n",
      "--- กำลังตรวจสอบแถวที่ 1 ---\n",
      "  หน่วยงาน: โครงการก่อสร้างชลประทานที่ 2 | ชื่องาน: (197) ฝายขำพร้อมระบบส่งน้ำ ตำบลงิม อำเภอ... | %เบิกจ่าย: 89.08\n",
      "  -> [ผ่านเงื่อนไข] %เบิกจ่าย < 100. กำลังคลิก 'เรียกดูข้อมูลแถบเดิม'...\n",
      "  -> คลิกสำเร็จ! กำลังรอหน้า 'การเบิกจ่ายงบประมาณ' โหลด...\n",
      "  -> คลิกสำเร็จ! เข้าสู่หน้า การเบิกจ่ายงบประมาณ...\n"
     ]
    }
   ],
   "source": [
    "extract_budget_data(driver, wait)"
   ]
  },
  {
   "cell_type": "markdown",
   "id": "6fd95b60",
   "metadata": {},
   "source": [
    "###  state การเพิ่ม ผลการเบิกจ่ายสะสม โดยเช็คเดือนปัจจุบันก่อน"
   ]
  },
  {
   "cell_type": "code",
   "execution_count": 225,
   "id": "fffd5f1c",
   "metadata": {},
   "outputs": [
    {
     "name": "stdout",
     "output_type": "stream",
     "text": [
      "กำลังค้นหาแถวที่มีข้อความ: 'กรกฎาคม 2568'\n",
      "!!! ไม่พบแถวของเดือน 'กรกฎาคม 2568' ในตาราง !!!\n"
     ]
    }
   ],
   "source": [
    "import datetime\n",
    "                    \n",
    "try:\n",
    "    # --- Step 1: สร้างข้อความของเดือนปัจจุบัน (เหมือนเดิม) ---\n",
    "    thai_months = [\n",
    "        \"มกราคม\", \"กุมภาพันธ์\", \"มีนาคม\", \"เมษายน\", \"พฤษภาคม\", \"มิถุนายน\",\n",
    "        \"กรกฎาคม\", \"สิงหาคม\", \"กันยายน\", \"ตุลาคม\", \"พฤศจิกายน\", \"ธันวาคม\"\n",
    "    ]\n",
    "    now = datetime.datetime.now()\n",
    "    current_month_name = thai_months[now.month - 1]\n",
    "    current_buddhist_year = now.year + 543\n",
    "    target_month_text = f\"{current_month_name} {current_buddhist_year}\"\n",
    "    print(f\"กำลังค้นหาแถวที่มีข้อความ: '{target_month_text}'\")\n",
    "\n",
    "    # --- Step 2: หาแถวทั้งหมดในตาราง ---\n",
    "    table_body_xpath = \"//table[contains(@class, 'table-zebra')]//tbody\"\n",
    "    tbody = wait.until(EC.presence_of_element_located((By.XPATH, table_body_xpath)))\n",
    "    all_rows = tbody.find_elements(By.XPATH, \".//tr\")\n",
    "    \n",
    "    if not all_rows:\n",
    "        print(\"!!! ไม่พบแถวข้อมูลในตาราง !!!\")\n",
    "        \n",
    "\n",
    "    # --- Step 3: วนลูปเพื่อหา Index ของแถวที่มีเดือนปัจจุบัน ---\n",
    "    target_row_index = -1\n",
    "    for index, row in enumerate(all_rows):\n",
    "        try:\n",
    "            # ดึงข้อความจากคอลัมน์แรกของแต่ละแถว\n",
    "            month_cell_text = row.find_element(By.XPATH, \".//td[1]\").text.strip()\n",
    "            if month_cell_text == target_month_text:\n",
    "                # ถ้าเจอเดือนที่ตรงกัน ให้เก็บ index ไว้แล้วหยุดลูป\n",
    "                target_row_index = index \n",
    "                print(f\"พบเดือนเป้าหมายที่แถว index {target_row_index} (XPath tr[{target_row_index + 1}])\")\n",
    "                break\n",
    "        except (NoSuchElementException):\n",
    "            # ข้ามแถวที่อาจมีปัญหา\n",
    "            continue\n",
    "    \n",
    "    # --- Step 4: ตรวจสอบว่าเจอแถวหรือไม่ และสร้าง XPath สุดท้าย ---\n",
    "    if target_row_index != -1:\n",
    "        # ถ้าเจอแถว (target_row_index ไม่ใช่ -1)\n",
    "        # สร้าง XPath แบบไดนามิกและแข็งแกร่งสำหรับเป้าหมาย\n",
    "        # เราจะใช้ Relative XPath จาก tbody ซึ่งดีกว่า Absolute XPath มาก\n",
    "        \n",
    "        # โครงสร้าง: (//tbody/tr)[index + 1]/td[7]//div/div\n",
    "        target_element_xpath = f\"({table_body_xpath}/tr)[{target_row_index + 1}]/td[7]//div/div\"\n",
    "        \n",
    "        print(f\"กำลังค้นหา Element เป้าหมายด้วย XPath: {target_element_xpath}\")\n",
    "        \n",
    "        # รอให้ Element นั้นปรากฏและพร้อมใช้งาน\n",
    "        target_element = wait.until(EC.element_to_be_clickable((By.XPATH, target_element_xpath)))\n",
    "        print(target_element)\n",
    "        # ใช้ JavaScript click เพื่อความแน่นอน\n",
    "        driver.execute_script(\"arguments[0].click();\", target_element)\n",
    "        \n",
    "    else:\n",
    "        # ถ้าวนลูปจนจบแล้วยังหาเดือนปัจจุบันไม่เจอ\n",
    "        print(f\"!!! ไม่พบแถวของเดือน '{target_month_text}' ในตาราง !!!\")\n",
    "        \n",
    "\n",
    "except Exception as e:\n",
    "    print(f\"!!! เกิดข้อผิดพลาดร้ายแรงในฟังก์ชัน: {e}\")"
   ]
  },
  {
   "cell_type": "code",
   "execution_count": 105,
   "id": "873141d9",
   "metadata": {},
   "outputs": [],
   "source": [
    "# เช็ค subtask_percen_dis <= 100 ถ้า เป็นจริง ให้กด /html/body/div[2]/div[1]/main/main/div[4]/div[1]/table/tbody/tr[1]/td[13]/div/div[1]\n",
    "if subtask_percen_dis < '100':\n",
    "    # กดปุ่มที่ต้องการ\n",
    "    button_xpath = \"/html/body/div[2]/div[1]/main/main/div[4]/div[1]/table/tbody/tr[1]/td[13]/div/div[1]\"\n",
    "    button = driver.find_element(By.XPATH, button_xpath)\n",
    "    button.click()\n",
    "    print(\"กดปุ่มเรียบร้อยแล้ว\")\n",
    "\n"
   ]
  },
  {
   "cell_type": "markdown",
   "id": "25ea2aa1",
   "metadata": {},
   "source": [
    "### test เข้ารายการย่อย ดึง เบิกจ่ายสะสม จาก excel ที่ชื่อตรงกันมา"
   ]
  },
  {
   "cell_type": "markdown",
   "id": "8dd57312",
   "metadata": {},
   "source": [
    "### test วิ่ง เข้า รายงานการเบิกจ่าย เช็คจำนวนรายการ"
   ]
  },
  {
   "cell_type": "code",
   "execution_count": 119,
   "id": "8f1cad11",
   "metadata": {},
   "outputs": [
    {
     "name": "stdout",
     "output_type": "stream",
     "text": [
      "\n",
      "--- กำลังประมวลผลข้อมูลตารางที่สองหน้าแรก ---\n",
      "\n",
      "--- กำลังตรวจสอบ Pagination ---\n",
      "/html/body/div[2]/div[1]/main/main/div[2]/div[2]/div/div[2]/div[1]/div/div[4]/div[1]/table/tbody\n",
      "!!! ไม่พบตารางตาม XPath ที่ระบุ: /html/body/div[2]/div[1]/main/main/div[2]/div[2]/div/div[2]/div[1]/div/div[4]/div[1]/table/tbody !!!\n",
      "ไม่มีหน้าถัดไปสำหรับตารางที่สอง\n"
     ]
    }
   ],
   "source": [
    "# --- ตัวอย่างการเรียกใช้กับตารางที่สอง ---\n",
    "\n",
    "# กำหนด XPath ของ tbody ของตารางเป้าหมายที่สอง\n",
    "other_table_xpath = \"/html/body/div[2]/div[1]/main/main/div[2]/div[2]/div/div[2]/div[1]/div/div[4]/div[1]/table/tbody\"\n",
    "\n",
    "# (สมมติว่าคุณได้คลิกเข้ามาจนถึงหน้าที่มีตารางนี้แล้ว)\n",
    "\n",
    "# ประมวลผลข้อมูลในหน้าแรกของตารางนี้\n",
    "print(\"\\n--- กำลังประมวลผลข้อมูลตารางที่สองหน้าแรก ---\")\n",
    "# ... (โค้ดอ่านข้อมูลสำหรับตารางนี้) ...\n",
    "\n",
    "# เรียกใช้ฟังก์ชันเดิมเพื่อไปหน้าถัดไปของตารางนี้\n",
    "if go_to_next_page(driver, wait, other_table_xpath):\n",
    "    print(\"ตอนนี้คุณอยู่ที่หน้า 2 ของตารางที่สองแล้ว\")\n",
    "else:\n",
    "    print(\"ไม่มีหน้าถัดไปสำหรับตารางที่สอง\")"
   ]
  },
  {
   "cell_type": "code",
   "execution_count": null,
   "id": "96abdfc8",
   "metadata": {},
   "outputs": [
    {
     "name": "stdout",
     "output_type": "stream",
     "text": [
      "--- กำลังประมวลผลข้อมูลตารางหลักหน้าแรก ---\n",
      "\n",
      "--- กำลังตรวจสอบ Pagination ---\n",
      "ตอนนี้คุณอยู่ที่หน้า 2 ของตารางหลักแล้ว\n"
     ]
    }
   ],
   "source": [
    "# next_page_click 1 kick\n",
    "\n",
    "# --- ตัวอย่างการเรียกใช้กับตารางแรก ---\n",
    "\n",
    "# กำหนด XPath ของ tbody ของตารางเป้าหมาย\n",
    "main_table_xpath = \"//table[contains(@class, 'table-zebra')]//tbody\"\n",
    "\n",
    "# ประมวลผลข้อมูลในหน้าแรก\n",
    "print(\"--- กำลังประมวลผลข้อมูลตารางหลักหน้าแรก ---\")\n",
    "# ... (โค้ดอ่านข้อมูลของคุณ) ...\n",
    "\n",
    "# เรียกใช้ฟังก์ชันเพื่อไปหน้าถัดไป\n",
    "if go_to_next_page(driver, wait, main_table_xpath):\n",
    "    print(\"ตอนนี้คุณอยู่ที่หน้า 2 ของตารางหลักแล้ว\")\n",
    "    # คุณสามารถรันโค้ดอ่านข้อมูลซ้ำอีกครั้งสำหรับหน้า 2 ได้\n",
    "else:\n",
    "    print(\"ไม่มีหน้าถัดไปสำหรับตารางหลัก\")\n",
    "\n",
    "\n",
    "\n",
    "# # กำหนดเวลารอที่ยืดหยุ่น\n",
    "# long_wait = WebDriverWait(driver, 2)\n",
    "\n",
    "# # print(f\"\\n--- กำลังประมวลผลหน้าปัจจุบัน... ---\")\n",
    "\n",
    "# try:\n",
    "#     # 1. รอให้ตารางของหน้าปัจจุบันพร้อม\n",
    "#     current_table = wait.until(EC.presence_of_element_located((By.XPATH, \"//table[contains(@class, 'table-zebra')]//tbody\")))\n",
    "    \n",
    "#     # --- (ส่วนประมวลผลข้อมูลในตาราง... ที่นี่คุณจะใส่โค้ดอ่านข้อมูลแต่ละแถว) ---\n",
    "#     rows_on_this_page = current_table.find_elements(By.XPATH, \".//tr\")\n",
    "#     # print(f\"พบ {len(rows_on_this_page)} รายการในหน้านี้.\")\n",
    "#     # (ย่อไว้เพื่อความกระชับ)\n",
    "#     for i in range(len(rows_on_this_page)):\n",
    "#         # ... process data in the current page's table ...\n",
    "#         pass # Placeholder\n",
    "\n",
    "#     # 2. ตรวจสอบว่ามีหน้าถัดไปหรือไม่\n",
    "#     try:\n",
    "#         # ดึงข้อความ \"แสดงข้อมูล X - Y จากทั้งหมด Z\"\n",
    "#         pagination_text_element = driver.find_element(By.XPATH, \"//div[contains(text(), 'แสดงข้อมูล')]\")\n",
    "#         pagination_text = pagination_text_element.text\n",
    "#         numbers = re.findall(r'\\d+', pagination_text)\n",
    "        \n",
    "#         can_go_next = False\n",
    "#         if len(numbers) >= 3:\n",
    "#             last_item_shown = int(numbers[1])\n",
    "#             total_items = int(numbers[2])\n",
    "#             if last_item_shown < total_items:\n",
    "#                 can_go_next = True\n",
    "        \n",
    "#         # 3. ตัดสินใจคลิก \"Next\" ถ้าทำได้\n",
    "#         if can_go_next:\n",
    "#             # print(\" -> พบว่ามีหน้าถัดไป, กำลังคลิก 'Next'...\")\n",
    "            \n",
    "#             # หาและคลิกปุ่ม Next\n",
    "#             next_page_button_selector = \"span.mx-4 + button\"\n",
    "#             next_button = wait.until(EC.element_to_be_clickable((By.CSS_SELECTOR, next_page_button_selector)))\n",
    "            \n",
    "#             driver.execute_script(\"arguments[0].scrollIntoView({block: 'center'});\", next_button)\n",
    "#             time.sleep(0.5)\n",
    "#             ActionChains(driver).move_to_element(next_button).click().perform()\n",
    "            \n",
    "#             # รอให้แน่ใจว่าหน้าเปลี่ยนแล้ว (รอแค่ table ใหม่ปรากฏก็พอ)\n",
    "#             # print(\" -> กำลังรอหน้าถัดไปโหลด...\")\n",
    "#             wait.until(EC.staleness_of(current_table)) # รอให้ตารางเก่าหายไป\n",
    "#             wait.until(EC.presence_of_element_located((By.XPATH, \"//table[contains(@class, 'table-zebra')]//tbody\"))) # รอให้ตารางใหม่มา\n",
    "            \n",
    "#             # print(\" -> เปลี่ยนหน้าสำเร็จ! Cell นี้ทำงานเสร็จแล้ว กดรันอีกครั้งเพื่อไปหน้าต่อไป\")\n",
    "\n",
    "#         else:\n",
    "#             print(\" -> เป็นหน้าสุดท้ายแล้ว, ไม่มีหน้าถัดไปให้กด\")\n",
    "\n",
    "#     except NoSuchElementException:\n",
    "#         # ไม่เจอข้อความ Pagination เลย แสดงว่าเป็นหน้าสุดท้ายแน่นอน\n",
    "#         print(\" -> ไม่พบข้อความ Pagination, ไม่มีหน้าถัดไปให้กด\")\n",
    "\n",
    "# except Exception as e:\n",
    "#     print(f\"!!! เกิดข้อผิดพลาดร้ายแรง: {e} !!!\")"
   ]
  },
  {
   "cell_type": "markdown",
   "id": "70e82379",
   "metadata": {},
   "source": [
    "### test วนเข้าแต่ละหน่วยงาน"
   ]
  },
  {
   "cell_type": "code",
   "execution_count": 81,
   "id": "47804440",
   "metadata": {},
   "outputs": [
    {
     "name": "stdout",
     "output_type": "stream",
     "text": [
      "\n",
      "========== เริ่มต้นหน่วยงาน: โครงการส่งน้ำและบำรุงรักษาแม่ลาว ==========\n",
      "กำลังค้นหาแถวของ: 'โครงการส่งน้ำและบำรุงรักษาแม่ลาว'...\n"
     ]
    },
    {
     "ename": "KeyboardInterrupt",
     "evalue": "",
     "output_type": "error",
     "traceback": [
      "\u001b[1;31m---------------------------------------------------------------------------\u001b[0m",
      "\u001b[1;31mKeyboardInterrupt\u001b[0m                         Traceback (most recent call last)",
      "Cell \u001b[1;32mIn[81], line 20\u001b[0m\n\u001b[0;32m     18\u001b[0m project_row_xpath \u001b[38;5;241m=\u001b[39m \u001b[38;5;124mf\u001b[39m\u001b[38;5;124m\"\u001b[39m\u001b[38;5;124m//tbody/tr[td[2][normalize-space()=\u001b[39m\u001b[38;5;124m'\u001b[39m\u001b[38;5;132;01m{\u001b[39;00morg_name\u001b[38;5;132;01m}\u001b[39;00m\u001b[38;5;124m'\u001b[39m\u001b[38;5;124m]]\u001b[39m\u001b[38;5;124m\"\u001b[39m\n\u001b[0;32m     19\u001b[0m \u001b[38;5;66;03m# รอแค่ให้แถวปรากฏก็พอ\u001b[39;00m\n\u001b[1;32m---> 20\u001b[0m \u001b[43mwait\u001b[49m\u001b[38;5;241;43m.\u001b[39;49m\u001b[43muntil\u001b[49m\u001b[43m(\u001b[49m\u001b[43mEC\u001b[49m\u001b[38;5;241;43m.\u001b[39;49m\u001b[43mpresence_of_element_located\u001b[49m\u001b[43m(\u001b[49m\u001b[43m(\u001b[49m\u001b[43mBy\u001b[49m\u001b[38;5;241;43m.\u001b[39;49m\u001b[43mXPATH\u001b[49m\u001b[43m,\u001b[49m\u001b[43m \u001b[49m\u001b[43mproject_row_xpath\u001b[49m\u001b[43m)\u001b[49m\u001b[43m)\u001b[49m\u001b[43m)\u001b[49m\n\u001b[0;32m     22\u001b[0m \u001b[38;5;66;03m# --- [แก้ไข] เปลี่ยนมาใช้ JavaScript Click เพื่อความแน่นอน ---\u001b[39;00m\n\u001b[0;32m     23\u001b[0m \u001b[38;5;66;03m# 1. หาปุ่มก่อน\u001b[39;00m\n\u001b[0;32m     24\u001b[0m action_button_xpath \u001b[38;5;241m=\u001b[39m \u001b[38;5;124mf\u001b[39m\u001b[38;5;124m\"\u001b[39m\u001b[38;5;132;01m{\u001b[39;00mproject_row_xpath\u001b[38;5;132;01m}\u001b[39;00m\u001b[38;5;124m//div[@data-tip=\u001b[39m\u001b[38;5;124m'\u001b[39m\u001b[38;5;124mเรียกดูข้อมูลแถบเดิม\u001b[39m\u001b[38;5;124m'\u001b[39m\u001b[38;5;124m]/button\u001b[39m\u001b[38;5;124m\"\u001b[39m\n",
      "File \u001b[1;32mc:\\Users\\const\\AppData\\Local\\Programs\\Python\\Python312\\Lib\\site-packages\\selenium\\webdriver\\support\\wait.py:137\u001b[0m, in \u001b[0;36mWebDriverWait.until\u001b[1;34m(self, method, message)\u001b[0m\n\u001b[0;32m    135\u001b[0m     \u001b[38;5;28;01mif\u001b[39;00m time\u001b[38;5;241m.\u001b[39mmonotonic() \u001b[38;5;241m>\u001b[39m end_time:\n\u001b[0;32m    136\u001b[0m         \u001b[38;5;28;01mbreak\u001b[39;00m\n\u001b[1;32m--> 137\u001b[0m     \u001b[43mtime\u001b[49m\u001b[38;5;241;43m.\u001b[39;49m\u001b[43msleep\u001b[49m\u001b[43m(\u001b[49m\u001b[38;5;28;43mself\u001b[39;49m\u001b[38;5;241;43m.\u001b[39;49m\u001b[43m_poll\u001b[49m\u001b[43m)\u001b[49m\n\u001b[0;32m    138\u001b[0m \u001b[38;5;28;01mraise\u001b[39;00m TimeoutException(message, screen, stacktrace)\n",
      "\u001b[1;31mKeyboardInterrupt\u001b[0m: "
     ]
    }
   ],
   "source": [
    "from selenium.common.exceptions import TimeoutException, NoSuchElementException, StaleElementReferenceException, ElementClickInterceptedException\n",
    "\n",
    "organization_names = [\n",
    "    \"โครงการส่งน้ำและบำรุงรักษาแม่ลาว\",\n",
    "    \"โครงการส่งน้ำและบำรุงรักษาแม่วัง\"\n",
    "]\n",
    "\n",
    "TARGET_TABLE_URL = \"https://cenproject.rid.go.th/track/budget?BudgetYear=2025&BudgetSourceID=1\"\n",
    "EXCEL_LOOKUP_FILE = 'table_main_2568.xlsx'\n",
    "\n",
    "# --- 2. เริ่มการวนลูปหลัก ---\n",
    "for org_name in organization_names:\n",
    "    print(f\"\\n========== เริ่มต้นหน่วยงาน: {org_name} ==========\")\n",
    "    \n",
    "    try:\n",
    "        # Step 1: ค้นหาหน่วยงานในหน้าหลักแล้วคลิก\n",
    "        print(f\"กำลังค้นหาแถวของ: '{org_name}'...\")\n",
    "        project_row_xpath = f\"//tbody/tr[td[2][normalize-space()='{org_name}']]\"\n",
    "        # รอแค่ให้แถวปรากฏก็พอ\n",
    "        wait.until(EC.presence_of_element_located((By.XPATH, project_row_xpath)))\n",
    "        \n",
    "        # --- [แก้ไข] เปลี่ยนมาใช้ JavaScript Click เพื่อความแน่นอน ---\n",
    "        # 1. หาปุ่มก่อน\n",
    "        action_button_xpath = f\"{project_row_xpath}//div[@data-tip='เรียกดูข้อมูลแถบเดิม']/button\"\n",
    "        action_button = wait.until(EC.presence_of_element_located((By.XPATH, action_button_xpath)))\n",
    "        \n",
    "        # 2. ใช้ JavaScript เพื่อคลิก (ป้องกัน ElementClickInterceptedException)\n",
    "        print(\"พบปุ่ม Action, กำลังใช้ JavaScript เพื่อคลิก...\")\n",
    "        driver.execute_script(\"arguments[0].click();\", action_button)\n",
    "        # --- จบส่วนแก้ไข ---\n",
    "        \n",
    "        # Step 2: รอให้หน้ารายละเอียด (ตารางงานย่อย) โหลด\n",
    "        wait.until(EC.presence_of_element_located((By.XPATH, \"//table[contains(@class, 'table-zebra')]//tbody\")))\n",
    "        print(\"เข้าสู่หน้ารายละเอียดงานย่อยสำเร็จ.\")\n",
    "\n",
    "        # 3.1 หาจำนวนแถวทั้งหมดก่อน\n",
    "        try:\n",
    "            subtask_rows_count = len(driver.find_elements(By.XPATH, \"//table[contains(@class, 'table-zebra')]//tbody/tr\"))\n",
    "            print(f\"พบ {subtask_rows_count} งานย่อยในหน่วยงานนี้. กำลังตรวจสอบเงื่อนไข...\")\n",
    "        except:\n",
    "            subtask_rows_count = 0\n",
    "            print(\"ไม่พบแถวงานย่อย.\")\n",
    "\n",
    "        # Step 4: กลับไปที่หน้าหลัก\n",
    "        time.sleep(10)\n",
    "        print(\"ประมวลผลหน่วยงานนี้เสร็จสิ้น, กำลังกลับไปหน้าหลัก...\")\n",
    "        driver.get(TARGET_TABLE_URL)\n",
    "        time.sleep(3)  # รอให้หน้าโหลดใหม่\n",
    "        # wait.until(EC.presence_of_element_located((By.XPATH, \"//table[contains(@class, 'table-zebra')]\")))\n",
    "        \n",
    "    except (TimeoutException, NoSuchElementException, ElementClickInterceptedException) as e:\n",
    "        # เพิ่ม ElementClickInterceptedException เข้าไปใน except block ด้วย\n",
    "        print(f\"!!! เกิดข้อผิดพลาดสำหรับหน่วยงาน '{org_name}': {type(e).__name__} - {str(e).splitlines()[0]}\")\n",
    "        print(\"กำลังพยายามกลับไปที่หน้าหลักเพื่อทำรายการถัดไป...\")\n",
    "        driver.get(TARGET_TABLE_URL)\n",
    "        try:\n",
    "            wait.until(EC.presence_of_element_located((By.XPATH, \"//table[contains(@class, 'table-zebra')]\")))\n",
    "        except:\n",
    "            print(\"!!! ไม่สามารถกลับไปยังหน้าหลักได้. หยุดการทำงาน.\")\n",
    "            break\n",
    "\n",
    "    "
   ]
  }
 ],
 "metadata": {
  "kernelspec": {
   "display_name": "Python 3",
   "language": "python",
   "name": "python3"
  },
  "language_info": {
   "codemirror_mode": {
    "name": "ipython",
    "version": 3
   },
   "file_extension": ".py",
   "mimetype": "text/x-python",
   "name": "python",
   "nbconvert_exporter": "python",
   "pygments_lexer": "ipython3",
   "version": "3.12.5"
  }
 },
 "nbformat": 4,
 "nbformat_minor": 5
}
