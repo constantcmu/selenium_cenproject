{
 "cells": [
  {
   "cell_type": "markdown",
   "id": "1eed232e",
   "metadata": {},
   "source": [
    "# 1.ติดตั้งไลบรารี"
   ]
  },
  {
   "cell_type": "code",
   "execution_count": null,
   "id": "441d4550",
   "metadata": {},
   "outputs": [],
   "source": [
    "!pip install --upgrade pip\n"
   ]
  },
  {
   "cell_type": "code",
   "execution_count": 1,
   "id": "195fcaa9",
   "metadata": {},
   "outputs": [
    {
     "name": "stdout",
     "output_type": "stream",
     "text": [
      "Requirement already satisfied: selenium in c:\\users\\ball-pc\\appdata\\local\\programs\\python\\python313\\lib\\site-packages (4.34.2)\n",
      "Requirement already satisfied: webdriver_manager in c:\\users\\ball-pc\\appdata\\local\\programs\\python\\python313\\lib\\site-packages (4.0.2)\n",
      "Requirement already satisfied: openpyxl in c:\\users\\ball-pc\\appdata\\local\\programs\\python\\python313\\lib\\site-packages (3.1.5)\n",
      "Requirement already satisfied: urllib3~=2.5.0 in c:\\users\\ball-pc\\appdata\\local\\programs\\python\\python313\\lib\\site-packages (from urllib3[socks]~=2.5.0->selenium) (2.5.0)\n",
      "Requirement already satisfied: trio~=0.30.0 in c:\\users\\ball-pc\\appdata\\local\\programs\\python\\python313\\lib\\site-packages (from selenium) (0.30.0)\n",
      "Requirement already satisfied: trio-websocket~=0.12.2 in c:\\users\\ball-pc\\appdata\\local\\programs\\python\\python313\\lib\\site-packages (from selenium) (0.12.2)\n",
      "Requirement already satisfied: certifi>=2025.6.15 in c:\\users\\ball-pc\\appdata\\local\\programs\\python\\python313\\lib\\site-packages (from selenium) (2025.7.9)\n",
      "Requirement already satisfied: typing_extensions~=4.14.0 in c:\\users\\ball-pc\\appdata\\local\\programs\\python\\python313\\lib\\site-packages (from selenium) (4.14.1)\n",
      "Requirement already satisfied: websocket-client~=1.8.0 in c:\\users\\ball-pc\\appdata\\local\\programs\\python\\python313\\lib\\site-packages (from selenium) (1.8.0)\n",
      "Requirement already satisfied: requests in c:\\users\\ball-pc\\appdata\\local\\programs\\python\\python313\\lib\\site-packages (from webdriver_manager) (2.32.3)\n",
      "Requirement already satisfied: python-dotenv in c:\\users\\ball-pc\\appdata\\local\\programs\\python\\python313\\lib\\site-packages (from webdriver_manager) (1.1.1)\n",
      "Requirement already satisfied: packaging in c:\\users\\ball-pc\\appdata\\roaming\\python\\python313\\site-packages (from webdriver_manager) (25.0)\n",
      "Requirement already satisfied: et-xmlfile in c:\\users\\ball-pc\\appdata\\local\\programs\\python\\python313\\lib\\site-packages (from openpyxl) (2.0.0)\n",
      "Requirement already satisfied: attrs>=23.2.0 in c:\\users\\ball-pc\\appdata\\local\\programs\\python\\python313\\lib\\site-packages (from trio~=0.30.0->selenium) (25.3.0)\n",
      "Requirement already satisfied: sortedcontainers in c:\\users\\ball-pc\\appdata\\local\\programs\\python\\python313\\lib\\site-packages (from trio~=0.30.0->selenium) (2.4.0)\n",
      "Requirement already satisfied: idna in c:\\users\\ball-pc\\appdata\\local\\programs\\python\\python313\\lib\\site-packages (from trio~=0.30.0->selenium) (3.10)\n",
      "Requirement already satisfied: outcome in c:\\users\\ball-pc\\appdata\\local\\programs\\python\\python313\\lib\\site-packages (from trio~=0.30.0->selenium) (1.3.0.post0)\n",
      "Requirement already satisfied: sniffio>=1.3.0 in c:\\users\\ball-pc\\appdata\\local\\programs\\python\\python313\\lib\\site-packages (from trio~=0.30.0->selenium) (1.3.1)\n",
      "Requirement already satisfied: cffi>=1.14 in c:\\users\\ball-pc\\appdata\\local\\programs\\python\\python313\\lib\\site-packages (from trio~=0.30.0->selenium) (1.17.1)\n",
      "Requirement already satisfied: wsproto>=0.14 in c:\\users\\ball-pc\\appdata\\local\\programs\\python\\python313\\lib\\site-packages (from trio-websocket~=0.12.2->selenium) (1.2.0)\n",
      "Requirement already satisfied: pysocks!=1.5.7,<2.0,>=1.5.6 in c:\\users\\ball-pc\\appdata\\local\\programs\\python\\python313\\lib\\site-packages (from urllib3[socks]~=2.5.0->selenium) (1.7.1)\n",
      "Requirement already satisfied: charset-normalizer<4,>=2 in c:\\users\\ball-pc\\appdata\\local\\programs\\python\\python313\\lib\\site-packages (from requests->webdriver_manager) (3.4.1)\n",
      "Requirement already satisfied: pycparser in c:\\users\\ball-pc\\appdata\\local\\programs\\python\\python313\\lib\\site-packages (from cffi>=1.14->trio~=0.30.0->selenium) (2.22)\n",
      "Requirement already satisfied: h11<1,>=0.9.0 in c:\\users\\ball-pc\\appdata\\local\\programs\\python\\python313\\lib\\site-packages (from wsproto>=0.14->trio-websocket~=0.12.2->selenium) (0.16.0)\n",
      "ติดตั้งไลบรารีเสร็จสิ้น (หากติดตั้งไปแล้ว จะแสดงว่า Requirement already satisfied)\n"
     ]
    },
    {
     "name": "stderr",
     "output_type": "stream",
     "text": [
      "\n",
      "[notice] A new release of pip is available: 25.0.1 -> 25.1.1\n",
      "[notice] To update, run: python.exe -m pip install --upgrade pip\n"
     ]
    }
   ],
   "source": [
    "# Cell 1: ติดตั้งไลบรารี\n",
    "import sys\n",
    "!{sys.executable} -m pip install selenium webdriver_manager openpyxl\n",
    "print(\"ติดตั้งไลบรารีเสร็จสิ้น (หากติดตั้งไปแล้ว จะแสดงว่า Requirement already satisfied)\")"
   ]
  },
  {
   "cell_type": "code",
   "execution_count": 1,
   "id": "f2e515fe",
   "metadata": {},
   "outputs": [
    {
     "name": "stdout",
     "output_type": "stream",
     "text": [
      "c:\\Users\\ball-pc\\AppData\\Local\\Programs\\Python\\Python313\\python.exe\n"
     ]
    }
   ],
   "source": [
    "import sys\n",
    "print(sys.executable)"
   ]
  },
  {
   "cell_type": "markdown",
   "id": "0c5e24d1",
   "metadata": {},
   "source": [
    "# 2.import รหัส"
   ]
  },
  {
   "cell_type": "code",
   "execution_count": 2,
   "id": "418051d1",
   "metadata": {},
   "outputs": [
    {
     "name": "stdout",
     "output_type": "stream",
     "text": [
      "การตั้งค่าเสร็จสิ้น\n"
     ]
    }
   ],
   "source": [
    "# --- Cell 1: Imports และการตั้งค่า ---\n",
    "import pandas as pd\n",
    "from selenium import webdriver\n",
    "from selenium.webdriver.chrome.service import Service\n",
    "from selenium.webdriver.common.by import By\n",
    "from selenium.webdriver.support.ui import WebDriverWait\n",
    "from selenium.webdriver.support import expected_conditions as EC\n",
    "from selenium.common.exceptions import TimeoutException, NoSuchElementException\n",
    "from webdriver_manager.chrome import ChromeDriverManager\n",
    "\n",
    "\n",
    "import time\n",
    "import os\n",
    "from dotenv import load_dotenv\n",
    "\n",
    "# โหลดค่าจากไฟล์ .env\n",
    "load_dotenv()\n",
    "\n",
    "# --- ค่าคงที่ ---\n",
    "LOGIN_URL = \"https://cenproject.rid.go.th/\"\n",
    "YOUR_USERNAME = os.getenv(\"CEN_USERNAME\")\n",
    "YOUR_PASSWORD = os.getenv(\"CEN_PASSWORD\")\n",
    "EXCEL_FILE_PATH = 'table_main_2068.xlsx' # <<<<---- ระบุชื่อไฟล์ Excel ของคุณที่นี่\n",
    "OUTPUT_EXCEL_PATH = 'result_data.xlsx' # <<<<---- ไฟล์ผลลัพธ์ที่จะถูกสร้างขึ้น\n",
    "\n",
    "print(\"การตั้งค่าเสร็จสิ้น\")"
   ]
  },
  {
   "cell_type": "code",
   "execution_count": 3,
   "id": "48a66483",
   "metadata": {},
   "outputs": [
    {
     "name": "stdout",
     "output_type": "stream",
     "text": [
      "rid2_0030 Aood2534\n"
     ]
    }
   ],
   "source": [
    "print(YOUR_USERNAME, YOUR_PASSWORD)"
   ]
  },
  {
   "cell_type": "markdown",
   "id": "07457855",
   "metadata": {},
   "source": [
    "# 3.เปิด Chrome เพื่อ Login"
   ]
  },
  {
   "cell_type": "code",
   "execution_count": 4,
   "id": "64f9c23d",
   "metadata": {},
   "outputs": [
    {
     "name": "stdout",
     "output_type": "stream",
     "text": [
      "กำลังเริ่มต้น WebDriver...\n",
      "กำลังเข้าสู่หน้า Login: https://cenproject.rid.go.th/\n",
      "กำลังรอหน้า Login...\n",
      "กำลังกรอกข้อมูล Login...\n",
      "Login สำเร็จ\n",
      "กำลังรอลิงก์ 'ระบบติดตาม'...\n",
      "คลิก 'ระบบติดตาม' สำเร็จ\n",
      "กำลังรอให้หน้า Dashboard โหลดเสร็จ (รอให้ Loading Overlay หายไป)...\n",
      "Loading Overlay หายไปแล้ว หน้าเว็บพร้อมใช้งาน\n"
     ]
    }
   ],
   "source": [
    "# --- Cell 2: เริ่มต้น WebDriver และ Login ---\n",
    "print(\"กำลังเริ่มต้น WebDriver...\")\n",
    "service = Service(ChromeDriverManager().install())\n",
    "driver = webdriver.Chrome(service=service)\n",
    "driver.maximize_window()\n",
    "\n",
    "print(f\"กำลังเข้าสู่หน้า Login: {LOGIN_URL}\")\n",
    "driver.get(LOGIN_URL)\n",
    "\n",
    "wait = WebDriverWait(driver, 5) # เพิ่มเวลารอเป็น 20 วินาทีเผื่อเว็บโหลดช้า\n",
    "\n",
    "try:\n",
    "    # 1. Login\n",
    "    print(\"กำลังรอหน้า Login...\")\n",
    "    username_field = wait.until(EC.presence_of_element_located((By.NAME, \"Username\")))\n",
    "    password_field = wait.until(EC.presence_of_element_located((By.NAME, \"Password\")))\n",
    "    login_button = wait.until(EC.element_to_be_clickable((By.CSS_SELECTOR, \"button.btn.btn-primary[type='submit']\")))\n",
    "\n",
    "    print(\"กำลังกรอกข้อมูล Login...\")\n",
    "    username_field.send_keys(YOUR_USERNAME)\n",
    "    password_field.send_keys(YOUR_PASSWORD)\n",
    "    login_button.click()\n",
    "    print(\"Login สำเร็จ\")\n",
    "\n",
    "    # 2. กดเข้าระบบติดตาม\n",
    "    print(\"กำลังรอลิงก์ 'ระบบติดตาม'...\")\n",
    "    system_tracking_link = wait.until(EC.element_to_be_clickable((By.XPATH, \"//a[./img[@alt='banner-track']]\")))\n",
    "    system_tracking_link.click()\n",
    "    print(\"คลิก 'ระบบติดตาม' สำเร็จ\")\n",
    "\n",
    "    # --- ส่วนที่แก้ไข ---\n",
    "    # 3. รอให้หน้ากาก Loading หายไปก่อน\n",
    "    print(\"กำลังรอให้หน้า Dashboard โหลดเสร็จ (รอให้ Loading Overlay หายไป)...\")\n",
    "    loading_overlay_xpath = \"//div[contains(@style, 'display: block') and contains(@style, 'z-index: 9999')]\"\n",
    "    # เราจะรอจนกว่า Element นี้จะ \"มองไม่เห็น\" (invisible)\n",
    "    wait.until(EC.invisibility_of_element_located((By.XPATH, loading_overlay_xpath)))\n",
    "    print(\"Loading Overlay หายไปแล้ว หน้าเว็บพร้อมใช้งาน\")\n",
    "except Exception as e:\n",
    "    print(f\"เกิดข้อผิดพลาดระหว่างการ Login หรือการนำทางเริ่มต้น: {e}\")\n",
    "    # driver.quit()"
   ]
  },
  {
   "cell_type": "markdown",
   "id": "6697a8af",
   "metadata": {},
   "source": [
    "# 4.วิ่งเข้าหน้า พรบ 2568"
   ]
  },
  {
   "cell_type": "code",
   "execution_count": 27,
   "id": "b4fb3513",
   "metadata": {},
   "outputs": [],
   "source": [
    "\n",
    "def go_to_main_budget_page(driver):\n",
    "    try:\n",
    "\n",
    "        base_budget_url = \"https://cenproject.rid.go.th/track/budget?BudgetYear=2025\"\n",
    "        print(f\"มาถึงหน้า 'งบประมาณ' หลักแล้ว: {driver.current_url}\")\n",
    "\n",
    "        target_url = base_budget_url + \"&BudgetSourceID=1\"\n",
    "        driver.get(target_url)\n",
    "        print(\"กำลังรอให้ตารางข้อมูลโครงการโหลด...\")\n",
    "\n",
    "    except Exception as e:\n",
    "        # แก้ไขข้อความ Error ตามที่ต้องการ\n",
    "        print(\"\\n--- การนำทางสำเร็จ แต่เกิดข้อผิดพลาดในการรอ Element ---\")\n",
    "        print(f\"ข้อผิดพลาด: ไม่สามารถหา Element ที่ต้องการได้ภายในเวลาที่กำหนด\")\n",
    "        print(f\"URL ปัจจุบันที่เกิดปัญหา: {driver.current_url}\")\n",
    "        print(\"สาเหตุที่เป็นไปได้: ID หรือ Class ของตารางข้อมูลในหน้านี้อาจไม่ตรงกับที่ระบุในโค้ด\")\n"
   ]
  },
  {
   "cell_type": "code",
   "execution_count": 198,
   "id": "511e8a71",
   "metadata": {},
   "outputs": [
    {
     "name": "stdout",
     "output_type": "stream",
     "text": [
      "มาถึงหน้า 'งบประมาณ' หลักแล้ว: https://cenproject.rid.go.th/track/budget/111?BudgetYear=2025&BudgetSourceID=1&OrganizationName=%E0%B9%82%E0%B8%84%E0%B8%A3%E0%B8%87%E0%B8%81%E0%B8%B2%E0%B8%A3%E0%B8%8A%E0%B8%A5%E0%B8%9B%E0%B8%A3%E0%B8%B0%E0%B8%97%E0%B8%B2%E0%B8%99%E0%B9%80%E0%B8%8A%E0%B8%B5%E0%B8%A2%E0%B8%87%E0%B8%A3%E0%B8%B2%E0%B8%A2\n",
      "กำลังรอให้ตารางข้อมูลโครงการโหลด...\n"
     ]
    }
   ],
   "source": [
    "go_to_main_budget_page(driver)"
   ]
  },
  {
   "cell_type": "markdown",
   "id": "11668ad6",
   "metadata": {},
   "source": [
    "### next page 1 kick"
   ]
  },
  {
   "cell_type": "code",
   "execution_count": 204,
   "id": "0b26800d",
   "metadata": {},
   "outputs": [],
   "source": [
    "# --- [ฟังก์ชันสำหรับคลิกหน้าถัดไป - ฉบับ Reusable] ---\n",
    "import re\n",
    "from selenium.webdriver.common.action_chains import ActionChains\n",
    "\n",
    "def go_to_next_page(driver, wait, table_xpath):\n",
    "    \n",
    "    # print(\"\\n--- กำลังตรวจสอบ Pagination ---\")\n",
    "    print(table_xpath)\n",
    "    try:\n",
    "\n",
    "        try:\n",
    "            current_table = wait.until(EC.presence_of_element_located((By.XPATH, table_xpath)))\n",
    "        except TimeoutException:\n",
    "            # print(f\"!!! ไม่พบตารางตาม XPath ที่ระบุ: {table_xpath} !!!\")\n",
    "            return False\n",
    "\n",
    "        pagination_text_element = driver.find_element(By.XPATH, \"//div[contains(text(), 'แสดงข้อมูล')]\")\n",
    "        pagination_text = pagination_text_element.text\n",
    "        numbers = re.findall(r'\\d+', pagination_text)\n",
    "        \n",
    "        can_go_next = False\n",
    "        if len(numbers) >= 3:\n",
    "            last_item_shown = int(numbers[1])\n",
    "            total_items = int(numbers[2])\n",
    "            if last_item_shown < total_items:\n",
    "                can_go_next = True\n",
    "        \n",
    "        # 3. ตัดสินใจคลิก \"Next\" ถ้าทำได้\n",
    "        if can_go_next:\n",
    "            # print(\" -> พบว่ามีหน้าถัดไป, กำลังคลิก 'Next'...\")\n",
    "            \n",
    "            # ใช้ CSS Selector ที่น่าจะใช้ร่วมกันได้\n",
    "            next_page_button_selector = \"span.mx-4 + button\"\n",
    "            next_button = wait.until(EC.element_to_be_clickable((By.CSS_SELECTOR, next_page_button_selector)))\n",
    "            \n",
    "            # ใช้ ActionChains เพื่อคลิกเหมือนมนุษย์\n",
    "            ActionChains(driver).move_to_element(next_button).click().perform()\n",
    "\n",
    "            # print(\" -> เปลี่ยนหน้าสำเร็จ!\")\n",
    "            return True # คืนค่าว่าไปหน้าต่อไปได้\n",
    "        else:\n",
    "            print(\" -> เป็นหน้าสุดท้ายแล้ว.\")\n",
    "            return False # คืนค่าว่าเป็นหน้าสุดท้าย\n",
    "\n",
    "    except NoSuchElementException:\n",
    "        print(\" -> ไม่พบข้อความ Pagination, ถือว่าเป็นหน้าสุดท้าย\")\n",
    "        return False\n",
    "    except Exception as e:\n",
    "        # print(f\"!!! เกิดข้อผิดพลาดร้ายแรงขณะพยายามไปหน้าถัดไป: {e} !!!\")\n",
    "        return False"
   ]
  },
  {
   "cell_type": "code",
   "execution_count": 79,
   "id": "27f52d27",
   "metadata": {},
   "outputs": [
    {
     "name": "stdout",
     "output_type": "stream",
     "text": [
      "\n",
      "--- กำลังตรวจสอบ Pagination ---\n",
      "//table[contains(@class, 'table-zebra')]\n",
      " -> พบว่ามีหน้าถัดไป, กำลังคลิก 'Next'...\n",
      " -> เปลี่ยนหน้าสำเร็จ!\n"
     ]
    },
    {
     "data": {
      "text/plain": [
       "True"
      ]
     },
     "execution_count": 79,
     "metadata": {},
     "output_type": "execute_result"
    }
   ],
   "source": [
    "go_to_next_page(driver, wait, \"//table[contains(@class, 'table-zebra')]\")  #if returns True,next and returns False if last page"
   ]
  },
  {
   "cell_type": "markdown",
   "id": "d8f757de",
   "metadata": {},
   "source": [
    "### วิ่งเข้ากรอก ผลเบิกจ่าย"
   ]
  },
  {
   "cell_type": "code",
   "execution_count": 143,
   "id": "b05e8a38",
   "metadata": {},
   "outputs": [
    {
     "name": "stdout",
     "output_type": "stream",
     "text": [
      "0    100.000000\n",
      "1     80.847302\n",
      "2     89.730764\n",
      "3     99.263834\n",
      "4    100.000000\n",
      "5    100.000000\n",
      "6    100.000000\n",
      "7    100.000000\n",
      "8    100.000000\n",
      "9    100.000000\n",
      "Name: ร้อยละ, dtype: float64\n"
     ]
    }
   ],
   "source": [
    "df = pd.read_excel(\"table_main_2568.xlsx\")\n",
    "\n",
    "print(df[\"ร้อยละ\"][:10])\n"
   ]
  },
  {
   "cell_type": "code",
   "execution_count": 175,
   "id": "c048d415",
   "metadata": {},
   "outputs": [],
   "source": [
    "# --- [โค้ดสำหรับเช็คเงื่อนไข, ค้นหาใน Excel, และคลิกเข้าไปในแต่ละแถว - ฉบับปรับปรุง] ---\n",
    "# สมมติว่า df และ wait ถูกสร้างไว้แล้ว\n",
    "import pandas as pd\n",
    "from selenium.webdriver.common.by import By\n",
    "from selenium.webdriver.support import expected_conditions as EC\n",
    "\n",
    "\n",
    "# อ่านข้อมูลจาก Excel\n",
    "df = pd.read_excel(\"table_main_2568.xlsx\")\n",
    "\n",
    "\n",
    "def extract_budget_data(driver, wait):\n",
    "    # ดึงชื่อ งานจาก xpath/html/body/div[2]/div[1]/main/main/div[1]\n",
    "    xpath_get_name = \"//html/body/div[2]/div[1]/main/main/div[2]\"\n",
    "    name_element = wait.until(EC.presence_of_element_located((By.XPATH, xpath_get_name)))\n",
    "    name = name_element.text.strip()\n",
    "    print(f\"รายการงาน: {name}...\")\n",
    "    i = 0 # ตัวนับแถว\n",
    "    count_items = 0\n",
    "    list_of_under100 = []  # รายการงานที่มีเปอร์เซ็นต์น้อยกว่า 100%\n",
    "\n",
    "\n",
    "\n",
    "\n",
    "    while True:\n",
    "        # print(f\"\\n--- กำลังประมวลผลแถวที่ {i + 1} ---\")\n",
    "        \n",
    "        try:\n",
    "            # 1. หาจำนวนแถวทั้งหมดในหน้าปัจจุบัน\n",
    "            tbody = wait.until(EC.presence_of_element_located((By.XPATH, \"//table[contains(@class, 'table-zebra')]//tbody\")))\n",
    "            subtask_rows_count = len(tbody.find_elements(By.XPATH, \".//tr\"))\n",
    "            # print(f\"พบ {subtask_rows_count} งานย่อยในหน่วยงานนี้. กำลังตรวจสอบเงื่อนไข...\")\n",
    "\n",
    "            for i in range(subtask_rows_count):\n",
    "                # ใช้ i+1 เพราะ index ของ Python เริ่มที่ 0 แต่ XPath เริ่มที่ 1\n",
    "                print(f\"\\n--- กำลังตรวจสอบแถวที่ {i + 1} ---\")\n",
    "\n",
    "                try:\n",
    "                    current_row_xpath = f\"(//table[contains(@class, 'table-zebra')]//tbody/tr)[{i + 1}]\"\n",
    "                    current_row = wait.until(EC.presence_of_element_located((By.XPATH, current_row_xpath)))\n",
    "                    subtask_percent_text  = current_row.find_element(By.XPATH, \".//td[9]\").text.strip()\n",
    "                    subtask_name_text = current_row.find_element(By.XPATH, \".//td[2]\").text.strip()\n",
    "                    print(f\" -> ชื่อ: {subtask_name_text}, เปอร์เซ็นต์: {subtask_percent_text}\")\n",
    "\n",
    "                    if float(subtask_percent_text) < 100:\n",
    "                         \n",
    "                        matched = df[df['ชื่อ / ประมาณการ'] == subtask_name_text]\n",
    "                        if not matched.empty:\n",
    "                            project_name = matched.iloc[0]['ชื่อ / ประมาณการ']\n",
    "                            percent_excel = round(matched.iloc[0]['ร้อยละ'], 2)\n",
    "                            print(f\" -> ชื่อ excel: {project_name}, เปอร์เซ็นต์: {percent_excel}\")\n",
    "\n",
    "                            \n",
    "                            \n",
    "                            list_of_under100.append(subtask_name_text)\n",
    "                        \n",
    "\n",
    "                        # if i == max(0, subtask_rows_count - 1):\n",
    "                        #     if not go_to_next_page(driver, wait, \"//table[contains(@class, 'table-zebra')]\"):\n",
    "                        #         print(f\" -> ไม่สามารถไปหน้าถัดไปได้,รายการทั้งหมดของ {name} {len(list_of_under100)} รายการงาน ออกจากลูป\")\n",
    "                        #         return\n",
    "                        #     i = -1\n",
    "\n",
    "\n",
    "                        \n",
    "\n",
    "\n",
    "                                      \n",
    "                        \n",
    "\n",
    "\n",
    "\n",
    "\n",
    "\n",
    "                    \n",
    "                \n",
    "                except TimeoutException:\n",
    "                    print(f\"!!! ไม่พบแถวที่ {i + 1} !!!\")\n",
    "                    continue\n",
    "                except NoSuchElementException:\n",
    "                    print(f\"!!! ไม่พบแถวที่ {i + 1} !!!\")\n",
    "                    continue\n",
    "\n",
    "            \n",
    "        \n",
    "        except Exception as e:\n",
    "            print(f\"เกิดข้อผิดพลาดในการค้นหาตาราง: {e}\")\n",
    "        break"
   ]
  },
  {
   "cell_type": "code",
   "execution_count": 207,
   "id": "076aef95",
   "metadata": {},
   "outputs": [
    {
     "name": "stdout",
     "output_type": "stream",
     "text": [
      "มาถึงหน้า 'งบประมาณ' หลักแล้ว: https://cenproject.rid.go.th/track/budget/275?BudgetYear=2025&BudgetSourceID=1&OrganizationName=%E0%B9%82%E0%B8%84%E0%B8%A3%E0%B8%87%E0%B8%81%E0%B8%B2%E0%B8%A3%E0%B8%81%E0%B9%88%E0%B8%AD%E0%B8%AA%E0%B8%A3%E0%B9%89%E0%B8%B2%E0%B8%87%E0%B8%8A%E0%B8%A5%E0%B8%9B%E0%B8%A3%E0%B8%B0%E0%B8%97%E0%B8%B2%E0%B8%99%E0%B8%97%E0%B8%B5%E0%B9%88+2\n",
      "กำลังรอให้ตารางข้อมูลโครงการโหลด...\n"
     ]
    }
   ],
   "source": [
    "go_to_main_budget_page(driver)"
   ]
  },
  {
   "cell_type": "code",
   "execution_count": 205,
   "id": "a13b6ec0",
   "metadata": {},
   "outputs": [
    {
     "name": "stdout",
     "output_type": "stream",
     "text": [
      "//table[contains(@class, 'table-zebra')]\n",
      " -> เป็นหน้าสุดท้ายแล้ว.\n"
     ]
    },
    {
     "data": {
      "text/plain": [
       "False"
      ]
     },
     "execution_count": 205,
     "metadata": {},
     "output_type": "execute_result"
    }
   ],
   "source": [
    "go_to_next_page(driver, wait, \"//table[contains(@class, 'table-zebra')]\")"
   ]
  },
  {
   "cell_type": "code",
   "execution_count": 206,
   "id": "f83278ee",
   "metadata": {},
   "outputs": [
    {
     "name": "stdout",
     "output_type": "stream",
     "text": [
      "รายการงาน: หน่วยงาน: โครงการก่อสร้างชลประทานที่ 2...\n",
      "\n",
      "--- กำลังตรวจสอบแถวที่ 1 ---\n",
      " -> ชื่อ: (197) ฝายขำพร้อมระบบส่งน้ำ ตำบลงิม อำเภอปง จังหวัดพะเยา - [ 10336 ], เปอร์เซ็นต์: 89.08\n",
      " -> ชื่อ excel: (197) ฝายขำพร้อมระบบส่งน้ำ ตำบลงิม อำเภอปง จังหวัดพะเยา - [ 10336 ], เปอร์เซ็นต์: 89.08\n",
      "\n",
      "--- กำลังตรวจสอบแถวที่ 2 ---\n",
      " -> ชื่อ: (176) ฝายบ่อเป๊กพร้อมระบบส่งน้ำ ตำบลเรือง อำเภอเมืองน่าน จังหวัดน่าน - [ 10315 ], เปอร์เซ็นต์: 79.86\n",
      " -> ชื่อ excel: (176) ฝายบ่อเป๊กพร้อมระบบส่งน้ำ ตำบลเรือง อำเภอเมืองน่าน จังหวัดน่าน - [ 10315 ], เปอร์เซ็นต์: 79.84\n",
      "\n",
      "--- กำลังตรวจสอบแถวที่ 3 ---\n",
      " -> ชื่อ: (175) ฝายห้วยฮ้อมพร้อมระบบส่งน้ำ ตำบลกองควาย อำเภอเมืองน่าน จังหวัดน่าน - [ 10314 ], เปอร์เซ็นต์: 80.06\n",
      " -> ชื่อ excel: (175) ฝายห้วยฮ้อมพร้อมระบบส่งน้ำ ตำบลกองควาย อำเภอเมืองน่าน จังหวัดน่าน - [ 10314 ], เปอร์เซ็นต์: 80.06\n",
      "\n",
      "--- กำลังตรวจสอบแถวที่ 4 ---\n",
      " -> ชื่อ: (174) ฝายห้วยแอบพร้อมระบบส่งน้ำ ตำบลศรีษะเกษ อำเภอนาน้อย จังหวัดน่าน - [ 10313 ], เปอร์เซ็นต์: 86.18\n",
      " -> ชื่อ excel: (174) ฝายห้วยแอบพร้อมระบบส่งน้ำ ตำบลศรีษะเกษ อำเภอนาน้อย จังหวัดน่าน - [ 10313 ], เปอร์เซ็นต์: 86.18\n",
      "\n",
      "--- กำลังตรวจสอบแถวที่ 5 ---\n",
      " -> ชื่อ: (1.94) ซ่อมแซมอาคารบ้านพักข้าราชการระดับบริหาร 2 แห่ง โครงการก่อสร้าง สำนักงานชลประทานที่ 2 ตำบลแม่สรวย อำเภอแม่สรวย จังหวัดเชียงราย - [ 97 ], เปอร์เซ็นต์: 93.07\n",
      " -> ชื่อ excel: (1.94) ซ่อมแซมอาคารบ้านพักข้าราชการระดับบริหาร 2 แห่ง โครงการก่อสร้าง สำนักงานชลประทานที่ 2 ตำบลแม่สรวย อำเภอแม่สรวย จังหวัดเชียงราย - [ 97 ], เปอร์เซ็นต์: 93.07\n",
      "\n",
      "--- กำลังตรวจสอบแถวที่ 6 ---\n",
      " -> ชื่อ: (1.93) ซ่อมแซมอาคารบ้านพัก 2 ชั้น แห่งที่ 1 โครงการก่อสร้าง สำนักงานชลประทานที่ 2 ตำบลแม่สรวย อำเภอแม่สรวย จังหวัดเชียงราย - [ 96 ], เปอร์เซ็นต์: 100\n"
     ]
    }
   ],
   "source": [
    "extract_budget_data(driver, wait)\n"
   ]
  },
  {
   "cell_type": "code",
   "execution_count": 138,
   "id": "8244fe9d",
   "metadata": {},
   "outputs": [
    {
     "ename": "KeyboardInterrupt",
     "evalue": "",
     "output_type": "error",
     "traceback": [
      "\u001b[31m---------------------------------------------------------------------------\u001b[39m",
      "\u001b[31mKeyboardInterrupt\u001b[39m                         Traceback (most recent call last)",
      "\u001b[36mCell\u001b[39m\u001b[36m \u001b[39m\u001b[32mIn[138]\u001b[39m\u001b[32m, line 6\u001b[39m\n\u001b[32m      4\u001b[39m \u001b[38;5;28;01mwith\u001b[39;00m \u001b[38;5;28mopen\u001b[39m(\u001b[33m\"\u001b[39m\u001b[33moutput_extract.text\u001b[39m\u001b[33m\"\u001b[39m, \u001b[33m\"\u001b[39m\u001b[33mw\u001b[39m\u001b[33m\"\u001b[39m, encoding=\u001b[33m\"\u001b[39m\u001b[33mutf-8\u001b[39m\u001b[33m\"\u001b[39m) \u001b[38;5;28;01mas\u001b[39;00m f:\n\u001b[32m      5\u001b[39m     \u001b[38;5;28;01mwith\u001b[39;00m redirect_stdout(f):\n\u001b[32m----> \u001b[39m\u001b[32m6\u001b[39m         \u001b[43mextract_budget_data\u001b[49m\u001b[43m(\u001b[49m\u001b[43mdriver\u001b[49m\u001b[43m,\u001b[49m\u001b[43m \u001b[49m\u001b[43mwait\u001b[49m\u001b[43m)\u001b[49m\n",
      "\u001b[36mCell\u001b[39m\u001b[36m \u001b[39m\u001b[32mIn[132]\u001b[39m\u001b[32m, line 40\u001b[39m, in \u001b[36mextract_budget_data\u001b[39m\u001b[34m(driver, wait)\u001b[39m\n\u001b[32m     38\u001b[39m \u001b[38;5;28;01mtry\u001b[39;00m:\n\u001b[32m     39\u001b[39m     current_row_xpath = \u001b[33mf\u001b[39m\u001b[33m\"\u001b[39m\u001b[33m(//table[contains(@class, \u001b[39m\u001b[33m'\u001b[39m\u001b[33mtable-zebra\u001b[39m\u001b[33m'\u001b[39m\u001b[33m)]//tbody/tr)[\u001b[39m\u001b[38;5;132;01m{\u001b[39;00mi\u001b[38;5;250m \u001b[39m+\u001b[38;5;250m \u001b[39m\u001b[32m1\u001b[39m\u001b[38;5;132;01m}\u001b[39;00m\u001b[33m]\u001b[39m\u001b[33m\"\u001b[39m\n\u001b[32m---> \u001b[39m\u001b[32m40\u001b[39m     current_row = \u001b[43mwait\u001b[49m\u001b[43m.\u001b[49m\u001b[43muntil\u001b[49m\u001b[43m(\u001b[49m\u001b[43mEC\u001b[49m\u001b[43m.\u001b[49m\u001b[43mpresence_of_element_located\u001b[49m\u001b[43m(\u001b[49m\u001b[43m(\u001b[49m\u001b[43mBy\u001b[49m\u001b[43m.\u001b[49m\u001b[43mXPATH\u001b[49m\u001b[43m,\u001b[49m\u001b[43m \u001b[49m\u001b[43mcurrent_row_xpath\u001b[49m\u001b[43m)\u001b[49m\u001b[43m)\u001b[49m\u001b[43m)\u001b[49m\n\u001b[32m     41\u001b[39m     subtask_percent_text  = current_row.find_element(By.XPATH, \u001b[33m\"\u001b[39m\u001b[33m.//td[9]\u001b[39m\u001b[33m\"\u001b[39m).text.strip()\n\u001b[32m     42\u001b[39m     subtask_name_text = current_row.find_element(By.XPATH, \u001b[33m\"\u001b[39m\u001b[33m.//td[2]\u001b[39m\u001b[33m\"\u001b[39m).text.strip()\n",
      "\u001b[36mFile \u001b[39m\u001b[32mc:\\Users\\ball-pc\\AppData\\Local\\Programs\\Python\\Python313\\Lib\\site-packages\\selenium\\webdriver\\support\\wait.py:137\u001b[39m, in \u001b[36mWebDriverWait.until\u001b[39m\u001b[34m(self, method, message)\u001b[39m\n\u001b[32m    135\u001b[39m     \u001b[38;5;28;01mif\u001b[39;00m time.monotonic() > end_time:\n\u001b[32m    136\u001b[39m         \u001b[38;5;28;01mbreak\u001b[39;00m\n\u001b[32m--> \u001b[39m\u001b[32m137\u001b[39m     \u001b[43mtime\u001b[49m\u001b[43m.\u001b[49m\u001b[43msleep\u001b[49m\u001b[43m(\u001b[49m\u001b[38;5;28;43mself\u001b[39;49m\u001b[43m.\u001b[49m\u001b[43m_poll\u001b[49m\u001b[43m)\u001b[49m\n\u001b[32m    138\u001b[39m \u001b[38;5;28;01mraise\u001b[39;00m TimeoutException(message, screen, stacktrace)\n",
      "\u001b[31mKeyboardInterrupt\u001b[39m: "
     ]
    }
   ],
   "source": [
    "import sys\n",
    "from contextlib import redirect_stdout\n",
    "\n",
    "with open(\"output_extract.text\", \"w\", encoding=\"utf-8\") as f:\n",
    "    with redirect_stdout(f):\n",
    "        extract_budget_data(driver, wait)\n"
   ]
  },
  {
   "cell_type": "markdown",
   "id": "1750c077",
   "metadata": {},
   "source": [
    "### วิ่งกลับหน้า รวมตาราง ของโครงการ"
   ]
  },
  {
   "cell_type": "code",
   "execution_count": 12,
   "id": "df4ca262",
   "metadata": {},
   "outputs": [],
   "source": [
    "# --- ใส่โค้ดนี้แทนที่ try...except บล็อกเดิมของคุณ ---\n",
    "def go_to_subtask(driver,name):\n",
    "    try:\n",
    "        base_sub_budget_url = \"https://cenproject.rid.go.th/track/budget/111?BudgetYear=2025&BudgetSourceID=1&OrganizationName=\"\n",
    "        print(f\"มาถึงหน้า 'งบประมาณ' หลักแล้ว: {driver.current_url}\")\n",
    "\n",
    "        target_url = base_sub_budget_url + name\n",
    "        driver.get(target_url)\n",
    "    except Exception as e:\n",
    "        print(f\"URL ปัจจุบันที่เกิดปัญหา: {driver.current_url}\")\n",
    "\n"
   ]
  },
  {
   "cell_type": "code",
   "execution_count": 13,
   "id": "d946cbb9",
   "metadata": {},
   "outputs": [
    {
     "name": "stdout",
     "output_type": "stream",
     "text": [
      "มาถึงหน้า 'งบประมาณ' หลักแล้ว: https://cenproject.rid.go.th/track/budget?BudgetYear=2025&BudgetSourceID=1\n"
     ]
    }
   ],
   "source": [
    "go_to_subtask(driver, \"โครงการชลประทานเชียงราย\")"
   ]
  }
 ],
 "metadata": {
  "kernelspec": {
   "display_name": "Python 3",
   "language": "python",
   "name": "python3"
  },
  "language_info": {
   "codemirror_mode": {
    "name": "ipython",
    "version": 3
   },
   "file_extension": ".py",
   "mimetype": "text/x-python",
   "name": "python",
   "nbconvert_exporter": "python",
   "pygments_lexer": "ipython3",
   "version": "3.13.2"
  }
 },
 "nbformat": 4,
 "nbformat_minor": 5
}
