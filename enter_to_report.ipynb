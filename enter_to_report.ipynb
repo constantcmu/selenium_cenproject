{
 "cells": [
  {
   "cell_type": "code",
   "execution_count": 6,
   "id": "49c10b8d",
   "metadata": {},
   "outputs": [],
   "source": [
    "import pandas as pd\n",
    "from selenium.webdriver.common.by import By\n",
    "from selenium.webdriver.support import expected_conditions as EC\n",
    "\n",
    "def process_subtasks(driver, wait, df, name):\n",
    "    body = wait.until(EC.presence_of_element_located((By.XPATH, \"//table[contains(@class, 'table-zebra')]//tbody\")))\n",
    "    subtask_rows_count = len(body.find_elements(By.XPATH, \".//tr\"))\n",
    "\n",
    "    for i in range(subtask_rows_count):\n",
    "        # ใช้ i+1 เพราะ index ของ Python เริ่มที่ 0 แต่ XPath เริ่มที่ 1\n",
    "        print(f\"\\n--- กำลังตรวจสอบแถวที่ {i + 1} ---\")\n",
    "        \n",
    "        try:\n",
    "            # 3. สร้าง XPath สำหรับแถวปัจจุบันขึ้นมาใหม่ทุกครั้ง\n",
    "            # เราต้องค้นหาจากทั้งหน้า เพราะหลังจากคลิกกลับมา DOM อาจจะเปลี่ยนไป\n",
    "            current_row_xpath = f\"(//table[contains(@class, 'table-zebra')]//tbody/tr)[{i + 1}]\"\n",
    "            \n",
    "            # 4. ดึงข้อมูล %เบิกจ่าย และชื่องานจากแถวปัจจุบัน\n",
    "            current_row_element = wait.until(EC.visibility_of_element_located((By.XPATH, current_row_xpath)))\n",
    "\n",
    "            subtask_percen_dis_text = current_row_element.find_element(By.XPATH, \".//td[9]\").text.strip()\n",
    "            subtask_name = current_row_element.find_element(By.XPATH, \".//td[2]\").text.strip()\n",
    "            \n",
    "            # ข้ามแถวที่ไม่มีข้อมูลเปอร์เซ็นต์\n",
    "            if not subtask_percen_dis_text:\n",
    "                print(\"  -> ไม่มีข้อมูล %เบิกจ่าย, ข้ามไป\")\n",
    "                continue\n",
    "            \n",
    "            # ค้นหาใน DataFrame\n",
    "            matched = df[df['ชื่อ / ประมาณการ'] == subtask_name]\n",
    "            if not matched.empty:\n",
    "                project_name = matched.iloc[0]['ชื่อหน่วยงานระดับโครงการ']\n",
    "                print(f\"  หน่วยงาน: {project_name} | ชื่องาน: {subtask_name}... | %เบิกจ่าย: {subtask_percen_dis_text}\")\n",
    "\n",
    "                # 5. แปลงค่าและตรวจสอบเงื่อนไข\n",
    "                percentage_value = float(subtask_percen_dis_text)\n",
    "                if percentage_value < 100:\n",
    "                    print(f\"  -> [ผ่านเงื่อนไข {percentage_value}] %เบิกจ่าย < 100. กำลังคลิก 'เรียกดูข้อมูลแถบเดิม'...\")\n",
    "                    \n",
    "                    # เงื่อนไข: ถ้า %เบิกจ่าย < 100\n",
    "                    try:\n",
    "                        if float(percentage_value) < 100:\n",
    "                            # เข้าไปหน้าเบิกจ่าย\n",
    "                            url = f\"https://cenproject.rid.go.th/track/budget/451?BudgetYear=2025&BudgetSourceID=1&OrganizationName={name}&ProjectName={subtask_name}\"\n",
    "                            print(f\"-> เข้าไปที่: {url}\")\n",
    "                            driver.get(url)\n",
    "                            time.sleep(10)  # รอ 10 วินาที\n",
    "\n",
    "                            # กลับมาหน้ารายการย่อย\n",
    "                            back_url = f\"https://cenproject.rid.go.th/track/budget/451?BudgetYear=2025&BudgetSourceID=1&OrganizationName={name}\"\n",
    "                            print(f\"<- กลับมาที่: {back_url}\")\n",
    "                            driver.get(back_url)\n",
    "                            wait.until(EC.presence_of_element_located((By.XPATH, \"//table[contains(@class, 'table-zebra')]//tbody\")))\n",
    "                        else:\n",
    "                            print(\"ข้าม (เบิกจ่าย >= 100%)\")\n",
    "                    \n",
    "                    except Exception as e:\n",
    "                        print(f\"เกิดข้อผิดพลาดขณะเข้าไปที่ URL: {e}\")\n",
    "                        continue\n",
    "        except Exception as e:\n",
    "            print(f\"เกิดข้อผิดพลาดขณะประมวลผลแถวที่ {i + 1}: {e}\")\n",
    "            continue       \n"
   ]
  },
  {
   "cell_type": "code",
   "execution_count": null,
   "id": "551aced3",
   "metadata": {},
   "outputs": [],
   "source": [
    "process_subtasks(driver, wait)\n"
   ]
  }
 ],
 "metadata": {
  "kernelspec": {
   "display_name": "Python 3",
   "language": "python",
   "name": "python3"
  },
  "language_info": {
   "codemirror_mode": {
    "name": "ipython",
    "version": 3
   },
   "file_extension": ".py",
   "mimetype": "text/x-python",
   "name": "python",
   "nbconvert_exporter": "python",
   "pygments_lexer": "ipython3",
   "version": "3.13.2"
  }
 },
 "nbformat": 4,
 "nbformat_minor": 5
}
